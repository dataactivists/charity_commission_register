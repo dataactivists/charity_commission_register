{
 "cells": [
  {
   "cell_type": "markdown",
   "id": "d7763b51-c18a-4940-b0d8-d5db24453cbd",
   "metadata": {},
   "source": [
    "# Charity Commission register"
   ]
  },
  {
   "cell_type": "markdown",
   "id": "d2570a1d-066c-4950-a8f2-95c011d41f22",
   "metadata": {},
   "source": [
    "## Register of merged charities"
   ]
  },
  {
   "cell_type": "markdown",
   "id": "91590439-3c85-4dd8-841b-db7062073ae3",
   "metadata": {},
   "source": [
    "### Intro"
   ]
  },
  {
   "cell_type": "markdown",
   "id": "cb6f90d5-831c-42ed-b5f4-0f7d85c2bcbe",
   "metadata": {},
   "source": [
    "The data can be found at https://www.gov.uk/government/publications/register-of-merged-charities. "
   ]
  },
  {
   "cell_type": "markdown",
   "id": "5daf1142-5c1b-4a42-8549-a6dfc6c0d309",
   "metadata": {
    "lines_to_next_cell": 0
   },
   "source": [
    "### Imports"
   ]
  },
  {
   "cell_type": "code",
   "execution_count": 108,
   "id": "1b3d3f52-fa8f-4a9c-9c43-c3cd8cd592df",
   "metadata": {
    "lines_to_next_cell": 0
   },
   "outputs": [],
   "source": [
    "import altair as alt\n",
    "\n",
    "import pandas as pd\n",
    "import seaborn as sns\n",
    "from ydata_profiling import ProfileReport"
   ]
  },
  {
   "cell_type": "markdown",
   "id": "b91acd8e-9294-47de-a4cd-9f63fc828d5b",
   "metadata": {},
   "source": [
    "### Cleaning"
   ]
  },
  {
   "cell_type": "code",
   "execution_count": 109,
   "id": "ce3ac5fa-e205-48b3-8a9b-c6b9c4229813",
   "metadata": {},
   "outputs": [],
   "source": [
    "df = pd.read_csv('../data/mergers_register_march_2024.csv', encoding='cp1252')"
   ]
  },
  {
   "cell_type": "code",
   "execution_count": 110,
   "id": "7bdf7726-e53b-43da-9819-0c6a0a7d58d9",
   "metadata": {},
   "outputs": [
    {
     "data": {
      "text/html": [
       "<div>\n",
       "<style scoped>\n",
       "    .dataframe tbody tr th:only-of-type {\n",
       "        vertical-align: middle;\n",
       "    }\n",
       "\n",
       "    .dataframe tbody tr th {\n",
       "        vertical-align: top;\n",
       "    }\n",
       "\n",
       "    .dataframe thead th {\n",
       "        text-align: right;\n",
       "    }\n",
       "</style>\n",
       "<table border=\"1\" class=\"dataframe\">\n",
       "  <thead>\n",
       "    <tr style=\"text-align: right;\">\n",
       "      <th></th>\n",
       "      <th>Name of transferring charity (transferor) and charity number (if any)</th>\n",
       "      <th>Name of receiving charity (transferee) and charity number (if any)</th>\n",
       "      <th>Date Vesting Declaration made</th>\n",
       "      <th>Date property transferred</th>\n",
       "      <th>Date merger registered</th>\n",
       "    </tr>\n",
       "  </thead>\n",
       "  <tbody>\n",
       "    <tr>\n",
       "      <th>0</th>\n",
       "      <td>HENRY DREW THOMAS ALMSHOUSE (202453)</td>\n",
       "      <td>HENRY DREW THOMAS ALMSHOUSES AND STARCROSS WEL...</td>\n",
       "      <td>NaN</td>\n",
       "      <td>01/03/2023</td>\n",
       "      <td>26/03/2024</td>\n",
       "    </tr>\n",
       "    <tr>\n",
       "      <th>1</th>\n",
       "      <td>STARCROSS WELFARE TRUST (205101)</td>\n",
       "      <td>HENRY DREW THOMAS ALMSHOUSES AND STARCROSS WEL...</td>\n",
       "      <td>NaN</td>\n",
       "      <td>01/03/2023</td>\n",
       "      <td>26/03/2024</td>\n",
       "    </tr>\n",
       "    <tr>\n",
       "      <th>2</th>\n",
       "      <td>ROYAL WELCH FUSILIERS REGIMENTAL MUSEUM TRUST ...</td>\n",
       "      <td>ROYAL WELCH FUSILIERS REGIMENTAL MUSEUM TRUST ...</td>\n",
       "      <td>NaN</td>\n",
       "      <td>31/10/2023</td>\n",
       "      <td>26/03/2024</td>\n",
       "    </tr>\n",
       "    <tr>\n",
       "      <th>3</th>\n",
       "      <td>THE ROYAL WELCH FUSILIERS REGIMENTAL COLLECTIO...</td>\n",
       "      <td>ROYAL WELCH FUSILIERS REGIMENTAL MUSEUM TRUST ...</td>\n",
       "      <td>NaN</td>\n",
       "      <td>31/10/2023</td>\n",
       "      <td>26/03/2024</td>\n",
       "    </tr>\n",
       "    <tr>\n",
       "      <th>4</th>\n",
       "      <td>AL-HIJRAH TRUST (1018850)</td>\n",
       "      <td>AL-HIJRAH TRUST (1154046)</td>\n",
       "      <td>09/11/2022</td>\n",
       "      <td>16/02/2014</td>\n",
       "      <td>25/03/2024</td>\n",
       "    </tr>\n",
       "  </tbody>\n",
       "</table>\n",
       "</div>"
      ],
      "text/plain": [
       "  Name of transferring charity (transferor) and charity number (if any)  ... Date merger registered\n",
       "0               HENRY DREW THOMAS ALMSHOUSE (202453)                     ...             26/03/2024\n",
       "1                   STARCROSS WELFARE TRUST (205101)                     ...             26/03/2024\n",
       "2  ROYAL WELCH FUSILIERS REGIMENTAL MUSEUM TRUST ...                     ...             26/03/2024\n",
       "3  THE ROYAL WELCH FUSILIERS REGIMENTAL COLLECTIO...                     ...             26/03/2024\n",
       "4                          AL-HIJRAH TRUST (1018850)                     ...             25/03/2024\n",
       "\n",
       "[5 rows x 5 columns]"
      ]
     },
     "execution_count": 110,
     "metadata": {},
     "output_type": "execute_result"
    }
   ],
   "source": [
    "df.head()"
   ]
  },
  {
   "cell_type": "code",
   "execution_count": 111,
   "id": "2722108d-066c-468f-a29f-7b242ebd4ad7",
   "metadata": {},
   "outputs": [
    {
     "data": {
      "text/plain": [
       "Name of transferring charity (transferor) and charity number (if any)    object\n",
       "Name of receiving charity (transferee) and charity number (if any)       object\n",
       "Date Vesting Declaration made                                            object\n",
       "Date property transferred                                                object\n",
       "Date merger registered                                                   object\n",
       "dtype: object"
      ]
     },
     "execution_count": 111,
     "metadata": {},
     "output_type": "execute_result"
    }
   ],
   "source": [
    "df.dtypes"
   ]
  },
  {
   "cell_type": "code",
   "execution_count": 112,
   "id": "7f7eeb91-0d67-4c0f-b225-6032a3190fed",
   "metadata": {},
   "outputs": [],
   "source": [
    "# shorten col names\n",
    "df.columns = [\n",
    "    'transferor', 'transferee', 'date_vesting', 'date_transferred', 'date_registered'\n",
    "]"
   ]
  },
  {
   "cell_type": "code",
   "execution_count": 118,
   "id": "f92df05b-4929-4985-8f17-29741f6d719a",
   "metadata": {},
   "outputs": [],
   "source": [
    "# convert first 2 cols to str\n",
    "df['transferor'] = df['transferor'].apply(str).apply(str.strip)\n",
    "df['transferee'] = df['transferee'].apply(str).apply(str.strip)"
   ]
  },
  {
   "cell_type": "code",
   "execution_count": 119,
   "id": "9b29c2c1-036b-457b-a5ad-0252f1eca9a6",
   "metadata": {},
   "outputs": [
    {
     "data": {
      "text/html": [
       "<div>\n",
       "<style scoped>\n",
       "    .dataframe tbody tr th:only-of-type {\n",
       "        vertical-align: middle;\n",
       "    }\n",
       "\n",
       "    .dataframe tbody tr th {\n",
       "        vertical-align: top;\n",
       "    }\n",
       "\n",
       "    .dataframe thead th {\n",
       "        text-align: right;\n",
       "    }\n",
       "</style>\n",
       "<table border=\"1\" class=\"dataframe\">\n",
       "  <thead>\n",
       "    <tr style=\"text-align: right;\">\n",
       "      <th></th>\n",
       "      <th>transferor</th>\n",
       "      <th>transferee</th>\n",
       "      <th>date_vesting</th>\n",
       "      <th>date_transferred</th>\n",
       "      <th>date_registered</th>\n",
       "    </tr>\n",
       "  </thead>\n",
       "  <tbody>\n",
       "    <tr>\n",
       "      <th>0</th>\n",
       "      <td>HENRY DREW THOMAS ALMSHOUSE (202453)</td>\n",
       "      <td>HENRY DREW THOMAS ALMSHOUSES AND STARCROSS WEL...</td>\n",
       "      <td>NaT</td>\n",
       "      <td>2023-03-01</td>\n",
       "      <td>2024-03-26</td>\n",
       "    </tr>\n",
       "    <tr>\n",
       "      <th>1</th>\n",
       "      <td>STARCROSS WELFARE TRUST (205101)</td>\n",
       "      <td>HENRY DREW THOMAS ALMSHOUSES AND STARCROSS WEL...</td>\n",
       "      <td>NaT</td>\n",
       "      <td>2023-03-01</td>\n",
       "      <td>2024-03-26</td>\n",
       "    </tr>\n",
       "    <tr>\n",
       "      <th>2</th>\n",
       "      <td>ROYAL WELCH FUSILIERS REGIMENTAL MUSEUM TRUST ...</td>\n",
       "      <td>ROYAL WELCH FUSILIERS REGIMENTAL MUSEUM TRUST ...</td>\n",
       "      <td>NaT</td>\n",
       "      <td>2023-10-31</td>\n",
       "      <td>2024-03-26</td>\n",
       "    </tr>\n",
       "    <tr>\n",
       "      <th>3</th>\n",
       "      <td>THE ROYAL WELCH FUSILIERS REGIMENTAL COLLECTIO...</td>\n",
       "      <td>ROYAL WELCH FUSILIERS REGIMENTAL MUSEUM TRUST ...</td>\n",
       "      <td>NaT</td>\n",
       "      <td>2023-10-31</td>\n",
       "      <td>2024-03-26</td>\n",
       "    </tr>\n",
       "    <tr>\n",
       "      <th>4</th>\n",
       "      <td>AL-HIJRAH TRUST (1018850)</td>\n",
       "      <td>AL-HIJRAH TRUST (1154046)</td>\n",
       "      <td>2022-11-09</td>\n",
       "      <td>2014-02-16</td>\n",
       "      <td>2024-03-25</td>\n",
       "    </tr>\n",
       "  </tbody>\n",
       "</table>\n",
       "</div>"
      ],
      "text/plain": [
       "                                          transferor  ... date_registered\n",
       "0               HENRY DREW THOMAS ALMSHOUSE (202453)  ...      2024-03-26\n",
       "1                   STARCROSS WELFARE TRUST (205101)  ...      2024-03-26\n",
       "2  ROYAL WELCH FUSILIERS REGIMENTAL MUSEUM TRUST ...  ...      2024-03-26\n",
       "3  THE ROYAL WELCH FUSILIERS REGIMENTAL COLLECTIO...  ...      2024-03-26\n",
       "4                          AL-HIJRAH TRUST (1018850)  ...      2024-03-25\n",
       "\n",
       "[5 rows x 5 columns]"
      ]
     },
     "execution_count": 119,
     "metadata": {},
     "output_type": "execute_result"
    }
   ],
   "source": [
    "# convert date cols to datetime\n",
    "date_cols = ['date_vesting', 'date_transferred', 'date_registered']\n",
    "\n",
    "df[date_cols] = df[date_cols].apply(lambda x: pd.to_datetime(x, format='%d/%m/%Y'))\n",
    "\n",
    "df.head()"
   ]
  },
  {
   "cell_type": "code",
   "execution_count": 120,
   "id": "61da1887-af08-4c1e-8b9c-fc6ad1f9f959",
   "metadata": {},
   "outputs": [
    {
     "data": {
      "text/plain": [
       "0     SHOUSE (202453)\n",
       "1      TRUST (205101)\n",
       "2      TRUST (211019)\n",
       "3     TION) (1057884)\n",
       "4     TRUST (1018850)\n",
       "5     ESCUE (1157836)\n",
       "6     HAGLEY (509524)\n",
       "7     G ROOM (201868)\n",
       "8      HALL (1005430)\n",
       "9     NGLISH (313157)\n",
       "10    OCIETY (284005)\n",
       "11    IRLS (306983-7)\n",
       "12    HOOL (306983-8)\n",
       "13    HOOL (306983-3)\n",
       "14    IONAL (1085806)\n",
       "15     (unregistered)\n",
       "16    ATION (1156230)\n",
       "17    GREEN (1153816)\n",
       "18    Y LTD (1117963)\n",
       "19    IATION (517690)\n",
       "20     (unregistered)\n",
       "21    WTOWN) (230943)\n",
       "22    IATION (510122)\n",
       "23     (Unregistered)\n",
       "24     TRUST (522687)\n",
       "25     PARK (1090710)\n",
       "26     (unregistered)\n",
       "27     FUND (1031481)\n",
       "28    REETS (1099006)\n",
       "29    ARITY (1071597)\n",
       "30    HARITY (206283)\n",
       "31    E HALL (501900)\n",
       "32    STOKE (1151394)\n",
       "33    E HALL (288669)\n",
       "34    ID UK (1169724)\n",
       "35    ESCUE (1046861)\n",
       "36    E HALL (224795)\n",
       "37     (Unregistered)\n",
       "38    TRUST (1092940)\n",
       "39     (Unregistered)\n",
       "40    DATION (272389)\n",
       "41    H LEP (1192144)\n",
       "42    NTREE (1145663)\n",
       "43     TRUST (292043)\n",
       "44    TRUST (1187479)\n",
       "45    GROUND (523080)\n",
       "46     TRUST (234193)\n",
       "47     (unregistered)\n",
       "48    E HALL (520084)\n",
       "49    HURCH (1129115)\n",
       "Name: transferor, dtype: object"
      ]
     },
     "execution_count": 120,
     "metadata": {},
     "output_type": "execute_result"
    }
   ],
   "source": [
    "df['transferor'].str[-15:][:50]"
   ]
  },
  {
   "cell_type": "code",
   "execution_count": 133,
   "id": "00cfa612-5601-4dcf-b009-05d1235f8f71",
   "metadata": {},
   "outputs": [
    {
     "data": {
      "text/html": [
       "<div>\n",
       "<style scoped>\n",
       "    .dataframe tbody tr th:only-of-type {\n",
       "        vertical-align: middle;\n",
       "    }\n",
       "\n",
       "    .dataframe tbody tr th {\n",
       "        vertical-align: top;\n",
       "    }\n",
       "\n",
       "    .dataframe thead th {\n",
       "        text-align: right;\n",
       "    }\n",
       "</style>\n",
       "<table border=\"1\" class=\"dataframe\">\n",
       "  <thead>\n",
       "    <tr style=\"text-align: right;\">\n",
       "      <th></th>\n",
       "      <th>transferor</th>\n",
       "      <th>transferee</th>\n",
       "      <th>date_vesting</th>\n",
       "      <th>date_transferred</th>\n",
       "      <th>date_registered</th>\n",
       "      <th>transferor_number</th>\n",
       "      <th>transferee_number</th>\n",
       "    </tr>\n",
       "  </thead>\n",
       "  <tbody>\n",
       "    <tr>\n",
       "      <th>10</th>\n",
       "      <td>THE STRAWBERRY LINE SOCIETY (284005)</td>\n",
       "      <td>THE STRAWBERRY LINE SOCIETY (1201543)</td>\n",
       "      <td>NaT</td>\n",
       "      <td>2023-09-17</td>\n",
       "      <td>2024-03-20</td>\n",
       "      <td>284005</td>\n",
       "      <td>1201543</td>\n",
       "    </tr>\n",
       "    <tr>\n",
       "      <th>11</th>\n",
       "      <td>THE ADA SCHOLARSHIP IN CONNEXION WITH OXFORD H...</td>\n",
       "      <td>GDST PRIZES &amp; SCHOLARSHIPS FUND(306983-9)</td>\n",
       "      <td>NaT</td>\n",
       "      <td>1995-05-17</td>\n",
       "      <td>2024-03-19</td>\n",
       "      <td>306983-7</td>\n",
       "      <td>306983-9</td>\n",
       "    </tr>\n",
       "    <tr>\n",
       "      <th>12</th>\n",
       "      <td>THE FRANCIS STRONG AWARDS FUND ICW NEWCASTLE C...</td>\n",
       "      <td>GDST PRIZES &amp; SCHOLARSHIPS FUND(306983-9)</td>\n",
       "      <td>NaT</td>\n",
       "      <td>1995-05-17</td>\n",
       "      <td>2024-03-19</td>\n",
       "      <td>306983-8</td>\n",
       "      <td>306983-9</td>\n",
       "    </tr>\n",
       "    <tr>\n",
       "      <th>13</th>\n",
       "      <td>THE MISS MABEL E LEWIS GIFT TO WIMBLEDON HIGH ...</td>\n",
       "      <td>GDST PRIZES &amp; SCHOLARSHIPS FUND(306983-9)</td>\n",
       "      <td>NaT</td>\n",
       "      <td>1995-05-17</td>\n",
       "      <td>2024-03-19</td>\n",
       "      <td>306983-3</td>\n",
       "      <td>306983-9</td>\n",
       "    </tr>\n",
       "    <tr>\n",
       "      <th>14</th>\n",
       "      <td>LIVING WORD CHRISTIAN FELLOWSHIP INTERNATIONAL...</td>\n",
       "      <td>LIVING WORD CHRISTIAN FELLOWSHIP (1202201)</td>\n",
       "      <td>NaT</td>\n",
       "      <td>2023-11-01</td>\n",
       "      <td>2024-03-19</td>\n",
       "      <td>1085806</td>\n",
       "      <td>1202201</td>\n",
       "    </tr>\n",
       "    <tr>\n",
       "      <th>15</th>\n",
       "      <td>SUDBOURNE AND TUNSTALL BAPTIST CHURCH (unregis...</td>\n",
       "      <td>GRACE CHURCH RENDLESHAM (1202945)</td>\n",
       "      <td>2023-10-31</td>\n",
       "      <td>2023-10-31</td>\n",
       "      <td>2024-03-18</td>\n",
       "      <td>NaN</td>\n",
       "      <td>1202945</td>\n",
       "    </tr>\n",
       "    <tr>\n",
       "      <th>16</th>\n",
       "      <td>GO RUN FOR FUN FOUNDATION (1156230)</td>\n",
       "      <td>THE DAILY MILE FOUNDATION (1166911)</td>\n",
       "      <td>NaT</td>\n",
       "      <td>2024-03-15</td>\n",
       "      <td>2024-03-15</td>\n",
       "      <td>1156230</td>\n",
       "      <td>1166911</td>\n",
       "    </tr>\n",
       "    <tr>\n",
       "      <th>17</th>\n",
       "      <td>THE MUSLIM ASSOCIATION OF HALL GREEN (1153816)</td>\n",
       "      <td>ARRAHMA FOUNDATION (1195363)</td>\n",
       "      <td>2023-08-01</td>\n",
       "      <td>2023-08-01</td>\n",
       "      <td>2024-03-14</td>\n",
       "      <td>1153816</td>\n",
       "      <td>1195363</td>\n",
       "    </tr>\n",
       "    <tr>\n",
       "      <th>18</th>\n",
       "      <td>DEDDINGTON VILLAGE NURSERY LTD (1117963)</td>\n",
       "      <td>DEDDINGTON PARTNERSHIP FOUNDATION STAGE UNIT (...</td>\n",
       "      <td>2023-03-06</td>\n",
       "      <td>2023-10-15</td>\n",
       "      <td>2024-03-14</td>\n",
       "      <td>1117963</td>\n",
       "      <td>1100275</td>\n",
       "    </tr>\n",
       "    <tr>\n",
       "      <th>19</th>\n",
       "      <td>KENTON PARK COMMUNITY ASSOCIATION (517690)</td>\n",
       "      <td>KENTON PARK COMMUNITY ASSOCIATION (1204136)</td>\n",
       "      <td>2023-10-10</td>\n",
       "      <td>2023-10-10</td>\n",
       "      <td>2024-03-14</td>\n",
       "      <td>517690</td>\n",
       "      <td>1204136</td>\n",
       "    </tr>\n",
       "  </tbody>\n",
       "</table>\n",
       "</div>"
      ],
      "text/plain": [
       "                                           transferor  ... transferee_number\n",
       "10               THE STRAWBERRY LINE SOCIETY (284005)  ...           1201543\n",
       "11  THE ADA SCHOLARSHIP IN CONNEXION WITH OXFORD H...  ...          306983-9\n",
       "12  THE FRANCIS STRONG AWARDS FUND ICW NEWCASTLE C...  ...          306983-9\n",
       "13  THE MISS MABEL E LEWIS GIFT TO WIMBLEDON HIGH ...  ...          306983-9\n",
       "14  LIVING WORD CHRISTIAN FELLOWSHIP INTERNATIONAL...  ...           1202201\n",
       "15  SUDBOURNE AND TUNSTALL BAPTIST CHURCH (unregis...  ...           1202945\n",
       "16                GO RUN FOR FUN FOUNDATION (1156230)  ...           1166911\n",
       "17     THE MUSLIM ASSOCIATION OF HALL GREEN (1153816)  ...           1195363\n",
       "18           DEDDINGTON VILLAGE NURSERY LTD (1117963)  ...           1100275\n",
       "19         KENTON PARK COMMUNITY ASSOCIATION (517690)  ...           1204136\n",
       "\n",
       "[10 rows x 7 columns]"
      ]
     },
     "execution_count": 133,
     "metadata": {},
     "output_type": "execute_result"
    }
   ],
   "source": [
    "# create charity number cols\n",
    "df['transferor_number'] = df['transferor'].str.extract(\n",
    "    pat='([\\d\\-\\.\\/]{5,})'\n",
    ")\n",
    "df['transferor_number'] = df['transferor_number'].str.replace(pat='[\\-\\.\\/]', repl='-')\n",
    "\n",
    "df['transferee_number'] = df['transferee'].str.extract(\n",
    "    pat='([\\d\\-\\.\\/]{5,})'\n",
    ")\n",
    "df['transferee_number'] = df['transferee_number'].str.replace(pat='[\\-\\.\\/]', repl='-')\n",
    "\n",
    "df.iloc[10:20]"
   ]
  },
  {
   "cell_type": "markdown",
   "id": "03914bb9-bf09-49a8-be4e-0cd6e0d6b4c7",
   "metadata": {},
   "source": [
    "### Number of mergers over time"
   ]
  },
  {
   "cell_type": "markdown",
   "id": "08330fea-7b63-47ae-b4c8-b70006c9cc44",
   "metadata": {},
   "source": [
    "#### Most frequent transferors/transferees"
   ]
  },
  {
   "cell_type": "code",
   "execution_count": 124,
   "id": "ba48c75e-f2b4-4a1b-b8e6-fec11442e3e8",
   "metadata": {},
   "outputs": [
    {
     "data": {
      "text/plain": [
       "transferor_number\n",
       "1189059    5\n",
       "1059082    2\n",
       "1081081    2\n",
       "1147851    2\n",
       "266630     2\n",
       "          ..\n",
       "1066789    1\n",
       "1066642    1\n",
       "1066322    1\n",
       "1067503    1\n",
       "216355     1\n",
       "Name: count, Length: 4531, dtype: int64"
      ]
     },
     "execution_count": 124,
     "metadata": {},
     "output_type": "execute_result"
    }
   ],
   "source": [
    "df['transferor_number'].value_counts()"
   ]
  },
  {
   "cell_type": "code",
   "execution_count": 87,
   "id": "5c7dac8b-a03c-45b9-97c7-8b42136d502f",
   "metadata": {},
   "outputs": [
    {
     "data": {
      "text/plain": [
       "1053467    43\n",
       "1125485    35\n",
       "210203      9\n",
       "226168      8\n",
       "210202      8\n",
       "           ..\n",
       "1067166     1\n",
       "1067168     1\n",
       "1067173     1\n",
       "1067176     1\n",
       "900539      1\n",
       "Name: count, Length: 4387, dtype: int64"
      ]
     },
     "execution_count": 87,
     "metadata": {},
     "output_type": "execute_result"
    }
   ],
   "source": [
    "df['transferor_number'].str.extract('(\\d{5,})').value_counts()"
   ]
  }
 ],
 "metadata": {
  "jupytext": {
   "formats": "ipynb,py:percent"
  },
  "kernelspec": {
   "display_name": "Python 3 (ipykernel)",
   "language": "python",
   "name": "python3"
  },
  "language_info": {
   "codemirror_mode": {
    "name": "ipython",
    "version": 3
   },
   "file_extension": ".py",
   "mimetype": "text/x-python",
   "name": "python",
   "nbconvert_exporter": "python",
   "pygments_lexer": "ipython3",
   "version": "3.11.8"
  }
 },
 "nbformat": 4,
 "nbformat_minor": 5
}
