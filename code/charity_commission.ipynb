{
 "cells": [
  {
   "cell_type": "markdown",
   "id": "d7763b51-c18a-4940-b0d8-d5db24453cbd",
   "metadata": {},
   "source": [
    "# Charity Commission register: exploratory analysis"
   ]
  },
  {
   "cell_type": "markdown",
   "id": "f832ad43-e3a9-4f77-b00a-8b74db53be63",
   "metadata": {},
   "source": [
    "## Roadmap"
   ]
  },
  {
   "cell_type": "markdown",
   "id": "e8a00659-f4d3-4d1a-b951-4541a522ab96",
   "metadata": {},
   "source": [
    "This repo aims to be an exhaustive analysis of the data released by the Charity Commission at https://register-of-charities.charitycommission.gov.uk/register/full-register-download. \n",
    "\n",
    "Some of the questions we want to look at:\n",
    "- [x] most frequent transferors\n",
    "- [x] most frequent transferees\n",
    "- [x] evolution of number of mergers per year\n",
    "- [ ] the average time gap between each merger for repeat transferors/transferees?\n",
    "- [ ] what are the annual returns of the transferee before/after the merger?\n",
    "- [ ] what's the size of transferors/transferees in terms of annual return?\n",
    "- [ ] what is the median number of trustees per charity?\n",
    "- [ ] who are \"repeat trustees\"?"
   ]
  },
  {
   "cell_type": "markdown",
   "id": "7cc68c49-54b8-4bd1-8259-fe9e07c7d009",
   "metadata": {},
   "source": [
    "For starters, the analysis covers the [Register of merged charities](https://www.gov.uk/government/publications/register-of-merged-charities) data."
   ]
  },
  {
   "cell_type": "markdown",
   "id": "0a9749dc-8ec1-42b6-9cb8-74a16a08cb7b",
   "metadata": {},
   "source": [
    "See the [notebook](https://github.com/harabat/charity_commission_register/blob/main/code/charity_commission.ipynb) for the charts."
   ]
  },
  {
   "cell_type": "markdown",
   "id": "d2570a1d-066c-4950-a8f2-95c011d41f22",
   "metadata": {},
   "source": [
    "## Register of merged charities"
   ]
  },
  {
   "cell_type": "markdown",
   "id": "91590439-3c85-4dd8-841b-db7062073ae3",
   "metadata": {},
   "source": [
    "### Intro"
   ]
  },
  {
   "cell_type": "markdown",
   "id": "7261755e-5eb2-4599-96c4-99296385d2c4",
   "metadata": {},
   "source": [
    "The data can be found at https://www.gov.uk/government/publications/register-of-merged-charities. "
   ]
  },
  {
   "cell_type": "markdown",
   "id": "e5c23d2e-30f4-4c57-addf-e5607cd7afca",
   "metadata": {},
   "source": [
    "Caveats:\n",
    "\n",
    "- The merger registration data is not accurate, especially the timespans between the dates of transfer and registration can go from -1y to 32y, but varies wildly even when outliers are removed. Ideally, this will be raised with the Charity Commission. \n",
    "- [Merging two or more Charitable Incorporated Organisations (CIOs)](https://www.gov.uk/government/publications/register-of-merged-charities/guidance-about-the-register-of-merged-charities#merging-two-or-more-charitable-incorporated-organisations-cios) does not require the merger to be registered. Consequently, the register of merged charities will be missing this data. Does this data need to be FOIA'd?"
   ]
  },
  {
   "cell_type": "markdown",
   "id": "5daf1142-5c1b-4a42-8549-a6dfc6c0d309",
   "metadata": {
    "lines_to_next_cell": 0
   },
   "source": [
    "### Imports"
   ]
  },
  {
   "cell_type": "code",
   "execution_count": 28,
   "id": "1b3d3f52-fa8f-4a9c-9c43-c3cd8cd592df",
   "metadata": {
    "lines_to_next_cell": 0
   },
   "outputs": [
    {
     "ename": "AttributeError",
     "evalue": "module 'numba' has no attribute 'generated_jit'",
     "output_type": "error",
     "traceback": [
      "\u001b[0;31m---------------------------------------------------------------------------\u001b[0m",
      "\u001b[0;31mAttributeError\u001b[0m                            Traceback (most recent call last)",
      "Cell \u001b[0;32mIn[28], line 5\u001b[0m\n\u001b[1;32m      3\u001b[0m \u001b[38;5;28;01mimport\u001b[39;00m \u001b[38;5;21;01mpandas\u001b[39;00m \u001b[38;5;28;01mas\u001b[39;00m \u001b[38;5;21;01mpd\u001b[39;00m\n\u001b[1;32m      4\u001b[0m \u001b[38;5;28;01mimport\u001b[39;00m \u001b[38;5;21;01mseaborn\u001b[39;00m \u001b[38;5;28;01mas\u001b[39;00m \u001b[38;5;21;01msns\u001b[39;00m\n\u001b[0;32m----> 5\u001b[0m \u001b[38;5;28;01mfrom\u001b[39;00m \u001b[38;5;21;01mydata_profiling\u001b[39;00m \u001b[38;5;28;01mimport\u001b[39;00m ProfileReport\n",
      "File \u001b[0;32m~/miniconda3/envs/data_science/lib/python3.11/site-packages/ydata_profiling/__init__.py:7\u001b[0m\n\u001b[1;32m      1\u001b[0m \u001b[38;5;124;03m\"\"\"Main module of ydata-profiling.\u001b[39;00m\n\u001b[1;32m      2\u001b[0m \n\u001b[1;32m      3\u001b[0m \u001b[38;5;124;03m.. include:: ../../README.md\u001b[39;00m\n\u001b[1;32m      4\u001b[0m \u001b[38;5;124;03m\"\"\"\u001b[39;00m\n\u001b[1;32m      5\u001b[0m \u001b[38;5;28;01mimport\u001b[39;00m \u001b[38;5;21;01mimportlib\u001b[39;00m\u001b[38;5;21;01m.\u001b[39;00m\u001b[38;5;21;01mutil\u001b[39;00m\n\u001b[0;32m----> 7\u001b[0m \u001b[38;5;28;01mfrom\u001b[39;00m \u001b[38;5;21;01mydata_profiling\u001b[39;00m\u001b[38;5;21;01m.\u001b[39;00m\u001b[38;5;21;01mcompare_reports\u001b[39;00m \u001b[38;5;28;01mimport\u001b[39;00m compare\n\u001b[1;32m      8\u001b[0m \u001b[38;5;28;01mfrom\u001b[39;00m \u001b[38;5;21;01mydata_profiling\u001b[39;00m\u001b[38;5;21;01m.\u001b[39;00m\u001b[38;5;21;01mcontroller\u001b[39;00m \u001b[38;5;28;01mimport\u001b[39;00m pandas_decorator\n\u001b[1;32m      9\u001b[0m \u001b[38;5;28;01mfrom\u001b[39;00m \u001b[38;5;21;01mydata_profiling\u001b[39;00m\u001b[38;5;21;01m.\u001b[39;00m\u001b[38;5;21;01mprofile_report\u001b[39;00m \u001b[38;5;28;01mimport\u001b[39;00m ProfileReport\n",
      "File \u001b[0;32m~/miniconda3/envs/data_science/lib/python3.11/site-packages/ydata_profiling/compare_reports.py:12\u001b[0m\n\u001b[1;32m     10\u001b[0m \u001b[38;5;28;01mfrom\u001b[39;00m \u001b[38;5;21;01mydata_profiling\u001b[39;00m\u001b[38;5;21;01m.\u001b[39;00m\u001b[38;5;21;01mmodel\u001b[39;00m \u001b[38;5;28;01mimport\u001b[39;00m BaseDescription\n\u001b[1;32m     11\u001b[0m \u001b[38;5;28;01mfrom\u001b[39;00m \u001b[38;5;21;01mydata_profiling\u001b[39;00m\u001b[38;5;21;01m.\u001b[39;00m\u001b[38;5;21;01mmodel\u001b[39;00m\u001b[38;5;21;01m.\u001b[39;00m\u001b[38;5;21;01malerts\u001b[39;00m \u001b[38;5;28;01mimport\u001b[39;00m Alert\n\u001b[0;32m---> 12\u001b[0m \u001b[38;5;28;01mfrom\u001b[39;00m \u001b[38;5;21;01mydata_profiling\u001b[39;00m\u001b[38;5;21;01m.\u001b[39;00m\u001b[38;5;21;01mprofile_report\u001b[39;00m \u001b[38;5;28;01mimport\u001b[39;00m ProfileReport\n\u001b[1;32m     15\u001b[0m \u001b[38;5;28;01mdef\u001b[39;00m \u001b[38;5;21m_should_wrap\u001b[39m(v1: Any, v2: Any) \u001b[38;5;241m-\u001b[39m\u001b[38;5;241m>\u001b[39m \u001b[38;5;28mbool\u001b[39m:\n\u001b[1;32m     16\u001b[0m     \u001b[38;5;28;01mif\u001b[39;00m \u001b[38;5;28misinstance\u001b[39m(v1, (\u001b[38;5;28mlist\u001b[39m, \u001b[38;5;28mdict\u001b[39m)):\n",
      "File \u001b[0;32m~/miniconda3/envs/data_science/lib/python3.11/site-packages/ydata_profiling/profile_report.py:20\u001b[0m\n\u001b[1;32m     18\u001b[0m \u001b[38;5;28;01mfrom\u001b[39;00m \u001b[38;5;21;01mtqdm\u001b[39;00m\u001b[38;5;21;01m.\u001b[39;00m\u001b[38;5;21;01mauto\u001b[39;00m \u001b[38;5;28;01mimport\u001b[39;00m tqdm\n\u001b[1;32m     19\u001b[0m \u001b[38;5;28;01mfrom\u001b[39;00m \u001b[38;5;21;01mtypeguard\u001b[39;00m \u001b[38;5;28;01mimport\u001b[39;00m typechecked\n\u001b[0;32m---> 20\u001b[0m \u001b[38;5;28;01mfrom\u001b[39;00m \u001b[38;5;21;01mvisions\u001b[39;00m \u001b[38;5;28;01mimport\u001b[39;00m VisionsTypeset\n\u001b[1;32m     22\u001b[0m \u001b[38;5;28;01mfrom\u001b[39;00m \u001b[38;5;21;01mydata_profiling\u001b[39;00m\u001b[38;5;21;01m.\u001b[39;00m\u001b[38;5;21;01mconfig\u001b[39;00m \u001b[38;5;28;01mimport\u001b[39;00m Config, Settings, SparkSettings\n\u001b[1;32m     23\u001b[0m \u001b[38;5;28;01mfrom\u001b[39;00m \u001b[38;5;21;01mydata_profiling\u001b[39;00m\u001b[38;5;21;01m.\u001b[39;00m\u001b[38;5;21;01mexpectations_report\u001b[39;00m \u001b[38;5;28;01mimport\u001b[39;00m ExpectationsReport\n",
      "File \u001b[0;32m~/miniconda3/envs/data_science/lib/python3.11/site-packages/visions/__init__.py:4\u001b[0m\n\u001b[1;32m      1\u001b[0m \u001b[38;5;124;03m\"\"\"Core functionality\"\"\"\u001b[39;00m\n\u001b[1;32m      3\u001b[0m \u001b[38;5;28;01mfrom\u001b[39;00m \u001b[38;5;21;01mvisions\u001b[39;00m \u001b[38;5;28;01mimport\u001b[39;00m types, typesets, utils\n\u001b[0;32m----> 4\u001b[0m \u001b[38;5;28;01mfrom\u001b[39;00m \u001b[38;5;21;01mvisions\u001b[39;00m\u001b[38;5;21;01m.\u001b[39;00m\u001b[38;5;21;01mbackends\u001b[39;00m \u001b[38;5;28;01mimport\u001b[39;00m \u001b[38;5;241m*\u001b[39m\n\u001b[1;32m      5\u001b[0m \u001b[38;5;28;01mfrom\u001b[39;00m \u001b[38;5;21;01mvisions\u001b[39;00m\u001b[38;5;21;01m.\u001b[39;00m\u001b[38;5;21;01mdeclarative\u001b[39;00m \u001b[38;5;28;01mimport\u001b[39;00m create_type\n\u001b[1;32m      6\u001b[0m \u001b[38;5;28;01mfrom\u001b[39;00m \u001b[38;5;21;01mvisions\u001b[39;00m\u001b[38;5;21;01m.\u001b[39;00m\u001b[38;5;21;01mfunctional\u001b[39;00m \u001b[38;5;28;01mimport\u001b[39;00m (\n\u001b[1;32m      7\u001b[0m     cast_to_detected,\n\u001b[1;32m      8\u001b[0m     cast_to_inferred,\n\u001b[1;32m      9\u001b[0m     detect_type,\n\u001b[1;32m     10\u001b[0m     infer_type,\n\u001b[1;32m     11\u001b[0m )\n",
      "File \u001b[0;32m~/miniconda3/envs/data_science/lib/python3.11/site-packages/visions/backends/__init__.py:9\u001b[0m\n\u001b[1;32m      6\u001b[0m \u001b[38;5;28;01mtry\u001b[39;00m:\n\u001b[1;32m      7\u001b[0m     \u001b[38;5;28;01mimport\u001b[39;00m \u001b[38;5;21;01mpandas\u001b[39;00m \u001b[38;5;28;01mas\u001b[39;00m \u001b[38;5;21;01mpd\u001b[39;00m\n\u001b[0;32m----> 9\u001b[0m     \u001b[38;5;28;01mimport\u001b[39;00m \u001b[38;5;21;01mvisions\u001b[39;00m\u001b[38;5;21;01m.\u001b[39;00m\u001b[38;5;21;01mbackends\u001b[39;00m\u001b[38;5;21;01m.\u001b[39;00m\u001b[38;5;21;01mpandas\u001b[39;00m\n\u001b[1;32m     10\u001b[0m     \u001b[38;5;28;01mfrom\u001b[39;00m \u001b[38;5;21;01mvisions\u001b[39;00m\u001b[38;5;21;01m.\u001b[39;00m\u001b[38;5;21;01mbackends\u001b[39;00m\u001b[38;5;21;01m.\u001b[39;00m\u001b[38;5;21;01mpandas\u001b[39;00m\u001b[38;5;21;01m.\u001b[39;00m\u001b[38;5;21;01mtest_utils\u001b[39;00m \u001b[38;5;28;01mimport\u001b[39;00m pandas_version\n\u001b[1;32m     12\u001b[0m     \u001b[38;5;28;01mif\u001b[39;00m pandas_version[\u001b[38;5;241m0\u001b[39m] \u001b[38;5;241m<\u001b[39m \u001b[38;5;241m1\u001b[39m:\n",
      "File \u001b[0;32m~/miniconda3/envs/data_science/lib/python3.11/site-packages/visions/backends/pandas/__init__.py:2\u001b[0m\n\u001b[1;32m      1\u001b[0m \u001b[38;5;28;01mimport\u001b[39;00m \u001b[38;5;21;01mvisions\u001b[39;00m\u001b[38;5;21;01m.\u001b[39;00m\u001b[38;5;21;01mbackends\u001b[39;00m\u001b[38;5;21;01m.\u001b[39;00m\u001b[38;5;21;01mpandas\u001b[39;00m\u001b[38;5;21;01m.\u001b[39;00m\u001b[38;5;21;01mtraversal\u001b[39;00m\n\u001b[0;32m----> 2\u001b[0m \u001b[38;5;28;01mimport\u001b[39;00m \u001b[38;5;21;01mvisions\u001b[39;00m\u001b[38;5;21;01m.\u001b[39;00m\u001b[38;5;21;01mbackends\u001b[39;00m\u001b[38;5;21;01m.\u001b[39;00m\u001b[38;5;21;01mpandas\u001b[39;00m\u001b[38;5;21;01m.\u001b[39;00m\u001b[38;5;21;01mtypes\u001b[39;00m\n",
      "File \u001b[0;32m~/miniconda3/envs/data_science/lib/python3.11/site-packages/visions/backends/pandas/types/__init__.py:3\u001b[0m\n\u001b[1;32m      1\u001b[0m \u001b[38;5;28;01mimport\u001b[39;00m \u001b[38;5;21;01mvisions\u001b[39;00m\u001b[38;5;21;01m.\u001b[39;00m\u001b[38;5;21;01mbackends\u001b[39;00m\u001b[38;5;21;01m.\u001b[39;00m\u001b[38;5;21;01mpandas\u001b[39;00m\u001b[38;5;21;01m.\u001b[39;00m\u001b[38;5;21;01mtypes\u001b[39;00m\u001b[38;5;21;01m.\u001b[39;00m\u001b[38;5;21;01mboolean\u001b[39;00m\n\u001b[1;32m      2\u001b[0m \u001b[38;5;28;01mimport\u001b[39;00m \u001b[38;5;21;01mvisions\u001b[39;00m\u001b[38;5;21;01m.\u001b[39;00m\u001b[38;5;21;01mbackends\u001b[39;00m\u001b[38;5;21;01m.\u001b[39;00m\u001b[38;5;21;01mpandas\u001b[39;00m\u001b[38;5;21;01m.\u001b[39;00m\u001b[38;5;21;01mtypes\u001b[39;00m\u001b[38;5;21;01m.\u001b[39;00m\u001b[38;5;21;01mcategorical\u001b[39;00m\n\u001b[0;32m----> 3\u001b[0m \u001b[38;5;28;01mimport\u001b[39;00m \u001b[38;5;21;01mvisions\u001b[39;00m\u001b[38;5;21;01m.\u001b[39;00m\u001b[38;5;21;01mbackends\u001b[39;00m\u001b[38;5;21;01m.\u001b[39;00m\u001b[38;5;21;01mpandas\u001b[39;00m\u001b[38;5;21;01m.\u001b[39;00m\u001b[38;5;21;01mtypes\u001b[39;00m\u001b[38;5;21;01m.\u001b[39;00m\u001b[38;5;21;01mcomplex\u001b[39;00m\n\u001b[1;32m      4\u001b[0m \u001b[38;5;28;01mimport\u001b[39;00m \u001b[38;5;21;01mvisions\u001b[39;00m\u001b[38;5;21;01m.\u001b[39;00m\u001b[38;5;21;01mbackends\u001b[39;00m\u001b[38;5;21;01m.\u001b[39;00m\u001b[38;5;21;01mpandas\u001b[39;00m\u001b[38;5;21;01m.\u001b[39;00m\u001b[38;5;21;01mtypes\u001b[39;00m\u001b[38;5;21;01m.\u001b[39;00m\u001b[38;5;21;01mcount\u001b[39;00m\n\u001b[1;32m      5\u001b[0m \u001b[38;5;28;01mimport\u001b[39;00m \u001b[38;5;21;01mvisions\u001b[39;00m\u001b[38;5;21;01m.\u001b[39;00m\u001b[38;5;21;01mbackends\u001b[39;00m\u001b[38;5;21;01m.\u001b[39;00m\u001b[38;5;21;01mpandas\u001b[39;00m\u001b[38;5;21;01m.\u001b[39;00m\u001b[38;5;21;01mtypes\u001b[39;00m\u001b[38;5;21;01m.\u001b[39;00m\u001b[38;5;21;01mdate\u001b[39;00m\n",
      "File \u001b[0;32m~/miniconda3/envs/data_science/lib/python3.11/site-packages/visions/backends/pandas/types/complex.py:7\u001b[0m\n\u001b[1;32m      5\u001b[0m \u001b[38;5;28;01mfrom\u001b[39;00m \u001b[38;5;21;01mvisions\u001b[39;00m\u001b[38;5;21;01m.\u001b[39;00m\u001b[38;5;21;01mbackends\u001b[39;00m\u001b[38;5;21;01m.\u001b[39;00m\u001b[38;5;21;01mpandas\u001b[39;00m\u001b[38;5;21;01m.\u001b[39;00m\u001b[38;5;21;01mseries_utils\u001b[39;00m \u001b[38;5;28;01mimport\u001b[39;00m series_not_empty, series_not_sparse\n\u001b[1;32m      6\u001b[0m \u001b[38;5;28;01mfrom\u001b[39;00m \u001b[38;5;21;01mvisions\u001b[39;00m\u001b[38;5;21;01m.\u001b[39;00m\u001b[38;5;21;01mbackends\u001b[39;00m\u001b[38;5;21;01m.\u001b[39;00m\u001b[38;5;21;01mpandas\u001b[39;00m\u001b[38;5;21;01m.\u001b[39;00m\u001b[38;5;21;01mtypes\u001b[39;00m\u001b[38;5;21;01m.\u001b[39;00m\u001b[38;5;21;01mfloat\u001b[39;00m \u001b[38;5;28;01mimport\u001b[39;00m string_is_float\n\u001b[0;32m----> 7\u001b[0m \u001b[38;5;28;01mfrom\u001b[39;00m \u001b[38;5;21;01mvisions\u001b[39;00m\u001b[38;5;21;01m.\u001b[39;00m\u001b[38;5;21;01mbackends\u001b[39;00m\u001b[38;5;21;01m.\u001b[39;00m\u001b[38;5;21;01mshared\u001b[39;00m\u001b[38;5;21;01m.\u001b[39;00m\u001b[38;5;21;01mparallelization_engines\u001b[39;00m \u001b[38;5;28;01mimport\u001b[39;00m pandas_apply\n\u001b[1;32m      8\u001b[0m \u001b[38;5;28;01mfrom\u001b[39;00m \u001b[38;5;21;01mvisions\u001b[39;00m\u001b[38;5;21;01m.\u001b[39;00m\u001b[38;5;21;01mtypes\u001b[39;00m\u001b[38;5;21;01m.\u001b[39;00m\u001b[38;5;21;01mcomplex\u001b[39;00m \u001b[38;5;28;01mimport\u001b[39;00m Complex\n\u001b[1;32m      9\u001b[0m \u001b[38;5;28;01mfrom\u001b[39;00m \u001b[38;5;21;01mvisions\u001b[39;00m\u001b[38;5;21;01m.\u001b[39;00m\u001b[38;5;21;01mtypes\u001b[39;00m\u001b[38;5;21;01m.\u001b[39;00m\u001b[38;5;21;01mstring\u001b[39;00m \u001b[38;5;28;01mimport\u001b[39;00m String\n",
      "File \u001b[0;32m~/miniconda3/envs/data_science/lib/python3.11/site-packages/visions/backends/shared/__init__.py:1\u001b[0m\n\u001b[0;32m----> 1\u001b[0m \u001b[38;5;28;01mfrom\u001b[39;00m \u001b[38;5;21;01m.\u001b[39;00m \u001b[38;5;28;01mimport\u001b[39;00m nan_handling, parallelization_engines, utilities\n",
      "File \u001b[0;32m~/miniconda3/envs/data_science/lib/python3.11/site-packages/visions/backends/shared/nan_handling.py:34\u001b[0m\n\u001b[1;32m     30\u001b[0m \u001b[38;5;66;03m# TODO: There are optimizations here, just have to define precisely the desired missing ruleset in the\u001b[39;00m\n\u001b[1;32m     31\u001b[0m \u001b[38;5;66;03m# generated jit\u001b[39;00m\n\u001b[1;32m     32\u001b[0m \u001b[38;5;28;01mif\u001b[39;00m has_numba:\n\u001b[0;32m---> 34\u001b[0m     \u001b[38;5;129m@nb\u001b[39m\u001b[38;5;241;43m.\u001b[39;49m\u001b[43mgenerated_jit\u001b[49m(nopython\u001b[38;5;241m=\u001b[39m\u001b[38;5;28;01mTrue\u001b[39;00m)\n\u001b[1;32m     35\u001b[0m     \u001b[38;5;28;01mdef\u001b[39;00m \u001b[38;5;21mis_missing\u001b[39m(x):\n\u001b[1;32m     36\u001b[0m \u001b[38;5;250m        \u001b[39m\u001b[38;5;124;03m\"\"\"\u001b[39;00m\n\u001b[1;32m     37\u001b[0m \u001b[38;5;124;03m        Return True if the value is missing, False otherwise.\u001b[39;00m\n\u001b[1;32m     38\u001b[0m \u001b[38;5;124;03m        \"\"\"\u001b[39;00m\n\u001b[1;32m     39\u001b[0m         \u001b[38;5;28;01mif\u001b[39;00m \u001b[38;5;28misinstance\u001b[39m(x, nb\u001b[38;5;241m.\u001b[39mtypes\u001b[38;5;241m.\u001b[39mFloat):\n",
      "\u001b[0;31mAttributeError\u001b[0m: module 'numba' has no attribute 'generated_jit'"
     ]
    }
   ],
   "source": [
    "import altair as alt\n",
    "import json\n",
    "import pandas as pd\n",
    "import seaborn as sns\n",
    "from ydata_profiling import ProfileReport"
   ]
  },
  {
   "cell_type": "markdown",
   "id": "b91acd8e-9294-47de-a4cd-9f63fc828d5b",
   "metadata": {},
   "source": [
    "### Cleaning"
   ]
  },
  {
   "cell_type": "markdown",
   "id": "5b512df3-0ba3-4624-912c-72d059e6eba9",
   "metadata": {},
   "source": [
    "#### Cleaning `merger` data"
   ]
  },
  {
   "cell_type": "markdown",
   "id": "bc8358d8-5719-4c1a-9f2b-fcdc21f75055",
   "metadata": {},
   "source": [
    "##### Load data"
   ]
  },
  {
   "cell_type": "code",
   "execution_count": null,
   "id": "ce3ac5fa-e205-48b3-8a9b-c6b9c4229813",
   "metadata": {},
   "outputs": [],
   "source": [
    "df = pd.read_csv('../data/mergers_register_march_2024.csv', encoding='cp1252')"
   ]
  },
  {
   "cell_type": "markdown",
   "id": "c7a9eaf7-615b-477e-af84-170f6aca0814",
   "metadata": {},
   "source": [
    "##### Cols"
   ]
  },
  {
   "cell_type": "code",
   "execution_count": null,
   "id": "7bdf7726-e53b-43da-9819-0c6a0a7d58d9",
   "metadata": {},
   "outputs": [],
   "source": [
    "df.head()"
   ]
  },
  {
   "cell_type": "code",
   "execution_count": null,
   "id": "7f7eeb91-0d67-4c0f-b225-6032a3190fed",
   "metadata": {},
   "outputs": [],
   "source": [
    "# shorten col names\n",
    "df.columns = [\n",
    "    'transferor', 'transferee', 'date_vesting', 'date_transferred', 'date_registered'\n",
    "]"
   ]
  },
  {
   "cell_type": "code",
   "execution_count": null,
   "id": "61ca08bd-55fe-4862-9a38-2a002477916a",
   "metadata": {},
   "outputs": [],
   "source": [
    "df.info()"
   ]
  },
  {
   "cell_type": "code",
   "execution_count": null,
   "id": "f7327881-e87c-4db5-9a63-197206c056f3",
   "metadata": {},
   "outputs": [],
   "source": [
    "# drop column with null values\n",
    "df = df.drop(columns='date_vesting')"
   ]
  },
  {
   "cell_type": "markdown",
   "id": "db9cf6d7-96eb-4b2e-bbb3-aecbd564f6d5",
   "metadata": {},
   "source": [
    "##### `dtypes`"
   ]
  },
  {
   "cell_type": "code",
   "execution_count": null,
   "id": "2722108d-066c-468f-a29f-7b242ebd4ad7",
   "metadata": {},
   "outputs": [],
   "source": [
    "df.dtypes"
   ]
  },
  {
   "cell_type": "code",
   "execution_count": null,
   "id": "f92df05b-4929-4985-8f17-29741f6d719a",
   "metadata": {},
   "outputs": [],
   "source": [
    "# convert first 2 cols to str\n",
    "df['transferor'] = df['transferor'].apply(str).apply(str.strip)\n",
    "df['transferee'] = df['transferee'].apply(str).apply(str.strip)"
   ]
  },
  {
   "cell_type": "code",
   "execution_count": null,
   "id": "9b29c2c1-036b-457b-a5ad-0252f1eca9a6",
   "metadata": {},
   "outputs": [],
   "source": [
    "# convert date cols to datetime\n",
    "date_cols = ['date_transferred', 'date_registered']\n",
    "\n",
    "df[date_cols] = df[date_cols].apply(lambda x: pd.to_datetime(x, format='%d/%m/%Y'))\n",
    "\n",
    "df.head()"
   ]
  },
  {
   "cell_type": "markdown",
   "id": "4803004e-ea0e-4a56-88fa-930a9b5250ab",
   "metadata": {},
   "source": [
    "##### Date cols"
   ]
  },
  {
   "cell_type": "code",
   "execution_count": null,
   "id": "d062caee-d451-4919-b526-6b19dbf211c1",
   "metadata": {},
   "outputs": [],
   "source": [
    "# shape of date_registered\n",
    "sns.histplot(df['date_registered'])"
   ]
  },
  {
   "cell_type": "code",
   "execution_count": null,
   "id": "efe23c4d-7aed-4c1b-ae87-7f5df87bdd86",
   "metadata": {},
   "outputs": [],
   "source": [
    "# shape of date_transferred\n",
    "sns.histplot(df['date_transferred'])"
   ]
  },
  {
   "cell_type": "code",
   "execution_count": null,
   "id": "a6ce25f8-da62-4660-a0f7-75fb26f08437",
   "metadata": {},
   "outputs": [],
   "source": [
    "df['registered-transfer'] = (df['date_registered'] - df['date_transferred']).dt.days / 365\n",
    "\n",
    "df.sort_values('registered-transfer')"
   ]
  },
  {
   "cell_type": "code",
   "execution_count": null,
   "id": "9ecfae67-5ff0-48a9-8157-df92d55bd3fb",
   "metadata": {},
   "outputs": [],
   "source": [
    "sns.lineplot(\n",
    "    data=df['registered-transfer'].value_counts().reset_index(),\n",
    "    x='registered-transfer',\n",
    "    y='count'\n",
    ")"
   ]
  },
  {
   "cell_type": "code",
   "execution_count": null,
   "id": "8469dbc8-17b9-4f1e-8ab8-183343ae42aa",
   "metadata": {},
   "outputs": [],
   "source": [
    "chart_transfer = (\n",
    "    alt.Chart(df['date_transferred'].to_frame())\n",
    "    .mark_bar()\n",
    "    .encode(\n",
    "        alt.X('year(date_transferred):T'),\n",
    "        alt.Y('count():Q')\n",
    "    )\n",
    ")\n",
    "\n",
    "chart_diff = (\n",
    "    alt.Chart(df[['date_transferred', 'registered-transfer']])\n",
    "    .mark_line()\n",
    "    .encode(\n",
    "        alt.X('year(date_transferred):T'),\n",
    "        alt.Y('registered-transfer:Q'),\n",
    "    )\n",
    ")\n",
    "\n",
    "chart = chart_transfer + chart_diff\n",
    "\n",
    "chart"
   ]
  },
  {
   "cell_type": "markdown",
   "id": "51976586-2252-49e5-b4a2-f926e7b6015d",
   "metadata": {},
   "source": [
    "##### Extract charity numbers"
   ]
  },
  {
   "cell_type": "code",
   "execution_count": null,
   "id": "61da1887-af08-4c1e-8b9c-fc6ad1f9f959",
   "metadata": {},
   "outputs": [],
   "source": [
    "# check how charity numbers are indicated\n",
    "df['transferor'].sample(50).str[-15:]"
   ]
  },
  {
   "cell_type": "code",
   "execution_count": null,
   "id": "00cfa612-5601-4dcf-b009-05d1235f8f71",
   "metadata": {},
   "outputs": [],
   "source": [
    "# create charity number cols by extracting contents of last group in parentheses\n",
    "# and filling any null values with any string of 5+ numbers\n",
    "df['transferor_number'] = df['transferor'].str.lower().str.extract(\n",
    "    pat='\\(([^\\(]+?)\\)$'\n",
    ")\n",
    "df['transferor_number'] = df['transferor_number'].str.replace(pat='[\\-\\.\\/]', repl='-')\n",
    "df['transferor_number'] = df['transferor_number'].combine_first(\n",
    "    df['transferor'].str.extract(pat='(\\d{5,})')\n",
    ")\n",
    "\n",
    "df['transferee_number'] = df['transferee'].str.lower().str.extract(\n",
    "    pat='\\(([^\\(]+?)\\)$'\n",
    ")\n",
    "df['transferee_number'] = df['transferee_number'].str.replace(pat='[\\-\\.\\/]', repl='-')\n",
    "df['transferee_number'] = df['transferee_number'].combine_first(\n",
    "    df['transferee'].str.extract(pat='(\\d{5,})')\n",
    ")"
   ]
  },
  {
   "cell_type": "code",
   "execution_count": null,
   "id": "ba48c75e-f2b4-4a1b-b8e6-fec11442e3e8",
   "metadata": {},
   "outputs": [],
   "source": [
    "# list values that are not charity numbers\n",
    "df['transferor_number'].loc[\n",
    "    ~df['transferor_number'].apply(str).str.contains(r'\\d')\n",
    "].value_counts()"
   ]
  },
  {
   "cell_type": "code",
   "execution_count": null,
   "id": "efab6fd3-b89c-4063-9094-88651a29f7c4",
   "metadata": {},
   "outputs": [],
   "source": [
    "# standardise values that are not charity numbers\n",
    "df['transferor_number'] = df['transferor_number'].replace(\n",
    "    to_replace={\n",
    "        'unregistered .*': 'unregistered',\n",
    "        'exempt .*': 'exempt',\n",
    "        'excepted .*': 'excepted',\n",
    "        'unincorporated .*': 'unincorporated',\n",
    "        'not registered': 'unregistered',\n",
    "    },\n",
    "    regex=True\n",
    ").replace(\n",
    "    to_replace={\n",
    "        value: 'other' for value in [\n",
    "            'unrestricted assets only', \n",
    "            'formerly known as mount zion evangelical church',\n",
    "            'all excepted',\n",
    "            'herne bay branch',\n",
    "            'bottley',\n",
    "            'mrs m gee trust',\n",
    "        ]\n",
    "    }\n",
    ")\n",
    "\n",
    "df['transferor_number'].loc[\n",
    "    ~df['transferor_number'].apply(str).str.contains(r'\\d')\n",
    "].value_counts()"
   ]
  },
  {
   "cell_type": "code",
   "execution_count": null,
   "id": "a2da8ece-e837-4653-b7cd-44130e41cd4b",
   "metadata": {},
   "outputs": [],
   "source": [
    "# list values that are not charity numbers\n",
    "df['transferee_number'].loc[\n",
    "    ~df['transferee_number'].apply(str).str.contains(r'\\d')\n",
    "].value_counts()"
   ]
  },
  {
   "cell_type": "code",
   "execution_count": null,
   "id": "2510a872-f821-4b02-a865-8c57876c4107",
   "metadata": {},
   "outputs": [],
   "source": [
    "# standardise values that are not charity numbers\n",
    "df['transferee_number'] = df['transferee_number'].replace(\n",
    "    to_replace={\n",
    "        'exempt charity': 'exempt',\n",
    "        'incorporating the merrett bequest': 'other',\n",
    "        'cio': 'other',\n",
    "        'picpus': 'other',\n",
    "    }\n",
    ")\n",
    "\n",
    "df['transferee_number'].loc[\n",
    "    ~df['transferee_number'].apply(str).str.contains(r'\\d')\n",
    "].value_counts()"
   ]
  },
  {
   "cell_type": "markdown",
   "id": "7bc61499-18d7-4385-afdd-29a9bf274ad3",
   "metadata": {},
   "source": [
    "#### Joining with `annual returns` data"
   ]
  },
  {
   "cell_type": "code",
   "execution_count": null,
   "id": "849c81df-3c0f-4719-b63d-7d3f4dd4b301",
   "metadata": {},
   "outputs": [],
   "source": [
    "with open(\n",
    "    '../data/publicextract.charity_annual_return_history.json', 'r', encoding='utf-8-sig'\n",
    ") as file:\n",
    "    data = json.load(file)\n",
    "\n",
    "df_ar = pd.DataFrame(data)"
   ]
  },
  {
   "cell_type": "code",
   "execution_count": null,
   "id": "23dda591-c969-413b-8fa3-ebe301605c11",
   "metadata": {},
   "outputs": [],
   "source": [
    "df_ar.head()"
   ]
  },
  {
   "cell_type": "code",
   "execution_count": null,
   "id": "deb854b7-8757-4756-9413-182894722fbc",
   "metadata": {},
   "outputs": [],
   "source": [
    "df_ar = df_ar[[\n",
    "    'date_of_extract',\n",
    "    'registered_charity_number',\n",
    "    'fin_period_start_date',\n",
    "    'fin_period_end_date',\n",
    "    'total_gross_income',\n",
    "    'total_gross_expenditure',\n",
    "]]"
   ]
  },
  {
   "cell_type": "code",
   "execution_count": null,
   "id": "4a24c412-92e1-4e2d-ae85-97c1ee4cf324",
   "metadata": {},
   "outputs": [],
   "source": [
    "df_ar.dtypes"
   ]
  },
  {
   "cell_type": "code",
   "execution_count": null,
   "id": "dff73f11-914e-45cc-b2ca-3e307254a892",
   "metadata": {},
   "outputs": [],
   "source": [
    "date_cols = [\n",
    "    'date_of_extract',\n",
    "    'fin_period_start_date',\n",
    "    'fin_period_end_date',\n",
    "]\n",
    "\n",
    "df_ar[date_cols] = df_ar[date_cols].apply(pd.to_datetime)\n",
    "\n",
    "df_ar.head()"
   ]
  },
  {
   "cell_type": "code",
   "execution_count": null,
   "id": "0f781a09-e42e-48ba-9f4c-c26ad5ac464c",
   "metadata": {},
   "outputs": [],
   "source": [
    "df_ar.dtypes"
   ]
  },
  {
   "cell_type": "code",
   "execution_count": null,
   "id": "553d216c-0a01-4ad1-9502-1042d3e589c9",
   "metadata": {},
   "outputs": [],
   "source": [
    "df_ar['fin_start_year'] = df_ar['fin_period_start_date'].dt.year\n",
    "df_ar['fin_end_year'] = df_ar['fin_period_end_date'].dt.year"
   ]
  },
  {
   "cell_type": "code",
   "execution_count": null,
   "id": "cf4c5882-78b8-4b77-a8ce-fdfa3a6d1866",
   "metadata": {},
   "outputs": [],
   "source": [
    "df_ar.head()"
   ]
  },
  {
   "cell_type": "code",
   "execution_count": null,
   "id": "284f5f6e-94bf-413a-9c9f-6c18c6c5547b",
   "metadata": {},
   "outputs": [],
   "source": [
    "df['merger_year'] = df['date_transferred'].dt.year"
   ]
  },
  {
   "cell_type": "markdown",
   "id": "03914bb9-bf09-49a8-be4e-0cd6e0d6b4c7",
   "metadata": {},
   "source": [
    "### Number of mergers over time"
   ]
  },
  {
   "cell_type": "markdown",
   "id": "08330fea-7b63-47ae-b4c8-b70006c9cc44",
   "metadata": {},
   "source": [
    "#### Most frequent transferors"
   ]
  },
  {
   "cell_type": "code",
   "execution_count": null,
   "id": "0ea33f1d-0c10-4976-98df-ae02eceb0e7b",
   "metadata": {},
   "outputs": [],
   "source": [
    "df['transferor_number'].value_counts()[:10].to_frame()"
   ]
  },
  {
   "cell_type": "markdown",
   "id": "32c7a21d-bee0-4c66-a8c6-efbeafb937d9",
   "metadata": {},
   "source": [
    "Most transferors are unregistered, exempt, or excepted.\n",
    "\n",
    "The [Guidance about the register of merged charities](https://www.gov.uk/government/publications/register-of-merged-charities/guidance-about-the-register-of-merged-charities#different-types-of-merger) states:\n",
    "\n",
    "> There are different types of merger:\n",
    "> \n",
    ">   - merging with an existing charity\n",
    ">   - merging with a new charity you have set up for the purpose of merging\n",
    ">   - changing structure - usually a trust or unincorporated association that wants to change to a CIO or charitable company.\n",
    "\n",
    "\n",
    "The prevalence of unregistered/exempt/excepted transferors probably indicates one of two things:\n",
    "\n",
    "- Mergers of **very small charities (which are unregistered/exempt) officially joining bigger ones**. It's likely that these small charities are merging with larger ones to gain economies of scale, access to more resources, or to increase their impact. Alternatively, they might be facing hurdles due to funding constraints, regulatory burdens, or other challenges, and merging with a larger charity is a way to ensure their assets and mission continue.\n",
    "- Mergers of charities into **a new structure (CIO or charitable company)**."
   ]
  },
  {
   "cell_type": "code",
   "execution_count": null,
   "id": "859ace4c-2aa0-4e22-ab78-e73dec1e24dc",
   "metadata": {},
   "outputs": [],
   "source": [
    "transferor_freqs = df['transferor_number'].value_counts().value_counts().reset_index(name='freqs')\n",
    "\n",
    "transferor_freqs = transferor_freqs.sort_values(by='count')\n",
    "\n",
    "transferor_freqs"
   ]
  },
  {
   "cell_type": "markdown",
   "id": "2c55b70f-77be-4cb8-a822-afa25ee5c563",
   "metadata": {},
   "source": [
    "Most registered transferors have only been in the position of transferring charity once or twice.\n",
    "\n",
    "This makes sense, since the transferor charity typically ceases to exist as a separate entity after the merger. \n",
    "\n",
    "The outcomes of a merger, as stated by the [Guidance about the register of merged charities](https://www.gov.uk/government/publications/register-of-merged-charities/guidance-about-the-register-of-merged-charities#why-register):\n",
    "\n",
    "> - your charity has closed or will close as a result of transferring your assets or\n",
    "> - your charity has not closed only because it has permanent endowment which will not be transferred to the charity you are merging with\n",
    "\n",
    "These repeat transferors might be falling into this second case. "
   ]
  },
  {
   "cell_type": "code",
   "execution_count": null,
   "id": "a4058c9a-848c-4165-9c07-c3071d025e41",
   "metadata": {},
   "outputs": [],
   "source": [
    "df[['transferor', 'transferee']].loc[df['transferor'].str.contains('1053467')].head()"
   ]
  },
  {
   "cell_type": "markdown",
   "id": "4118f79b-cf43-4325-9fb1-697813907eb2",
   "metadata": {},
   "source": [
    "*The County Durham and Darlington NHS Foundation Trust Charity* seems to be a case of a large consolidation.\n",
    "\n",
    "A number of department-specific NHS charities have merged into one entity. The aim could be to consolidate funds/reduce administrative overhead/streamline operations. "
   ]
  },
  {
   "cell_type": "code",
   "execution_count": null,
   "id": "084d1383-2c4e-4050-a4c3-4f32c58fb350",
   "metadata": {},
   "outputs": [],
   "source": [
    "df['transferor'].value_counts()[:10]"
   ]
  },
  {
   "cell_type": "code",
   "execution_count": null,
   "id": "a8bd17da-008d-4b54-ad0c-b33dc23e3782",
   "metadata": {},
   "outputs": [],
   "source": [
    "df.loc[df['transferor_number'] == '1189059'].iloc[:,:2].values"
   ]
  },
  {
   "cell_type": "markdown",
   "id": "84fc4478-75db-4cfb-960a-6334ccb6916c",
   "metadata": {},
   "source": [
    "*The Parochial Church Council of the Ecclesiastical Parish of The A453 Churches of South Nottinghamshire* seems to be an example of a \"merged\" charity splitting into separate entities. \n",
    "\n",
    "It is the most frequent transferor among registered charities, having been in that position 5 times.\n",
    "\n",
    "While this seems to be a reverse merger, it could also be the parent charity distributing some assets to children charities. "
   ]
  },
  {
   "cell_type": "markdown",
   "id": "28f0a38c-12de-4788-9bdf-ba328b6c5bf0",
   "metadata": {},
   "source": [
    "#### Most frequent transferees"
   ]
  },
  {
   "cell_type": "code",
   "execution_count": null,
   "id": "c2b2346c-1c6c-4115-8591-ad79f7f3a936",
   "metadata": {},
   "outputs": [],
   "source": [
    "df['transferee_number'].value_counts()[:10]"
   ]
  },
  {
   "cell_type": "code",
   "execution_count": null,
   "id": "6ba8fe75-e8c5-45ce-854d-3a16a69ef14e",
   "metadata": {},
   "outputs": [],
   "source": [
    "transferee_freqs = df['transferee_number'].value_counts().value_counts().reset_index(name='freqs')\n",
    "\n",
    "transferee_freqs = transferee_freqs.sort_values(by='count')\n",
    "\n",
    "transferee_freqs"
   ]
  },
  {
   "cell_type": "code",
   "execution_count": 29,
   "id": "f52374bc-60f6-477b-acbe-763435830525",
   "metadata": {},
   "outputs": [
    {
     "ename": "NameError",
     "evalue": "name 'transferee_freqs' is not defined",
     "output_type": "error",
     "traceback": [
      "\u001b[0;31m---------------------------------------------------------------------------\u001b[0m",
      "\u001b[0;31mNameError\u001b[0m                                 Traceback (most recent call last)",
      "Cell \u001b[0;32mIn[29], line 2\u001b[0m\n\u001b[1;32m      1\u001b[0m chart \u001b[38;5;241m=\u001b[39m (\n\u001b[0;32m----> 2\u001b[0m     alt\u001b[38;5;241m.\u001b[39mChart(\u001b[43mtransferee_freqs\u001b[49m)\n\u001b[1;32m      3\u001b[0m     \u001b[38;5;241m.\u001b[39mmark_bar()\n\u001b[1;32m      4\u001b[0m     \u001b[38;5;241m.\u001b[39mencode(\n\u001b[1;32m      5\u001b[0m         alt\u001b[38;5;241m.\u001b[39mX(\u001b[38;5;124m'\u001b[39m\u001b[38;5;124mcount:Q\u001b[39m\u001b[38;5;124m'\u001b[39m),\n\u001b[1;32m      6\u001b[0m         alt\u001b[38;5;241m.\u001b[39mY(\u001b[38;5;124m'\u001b[39m\u001b[38;5;124mfreqs:Q\u001b[39m\u001b[38;5;124m'\u001b[39m)\n\u001b[1;32m      7\u001b[0m     )\n\u001b[1;32m      8\u001b[0m )\n\u001b[1;32m     10\u001b[0m chart\n",
      "\u001b[0;31mNameError\u001b[0m: name 'transferee_freqs' is not defined"
     ]
    }
   ],
   "source": [
    "chart = (\n",
    "    alt.Chart(transferee_freqs)\n",
    "    .mark_bar()\n",
    "    .encode(\n",
    "        alt.X('count:Q'),\n",
    "        alt.Y('freqs:Q')\n",
    "    )\n",
    ")\n",
    "\n",
    "chart"
   ]
  },
  {
   "cell_type": "code",
   "execution_count": null,
   "id": "0973a9db-4b08-4814-92ce-005f63ed47e3",
   "metadata": {},
   "outputs": [],
   "source": [
    "df['transferee_number'].value_counts().iloc[:100].plot(kind='bar').set_xticks([])"
   ]
  },
  {
   "cell_type": "markdown",
   "id": "35f1fda7-0511-4522-b78c-8d2414e75a5d",
   "metadata": {},
   "source": [
    "Without counting the outlier that merged 1200+ times, some transferees have gone through mergers >40 times. \n",
    "\n",
    "Most transferees only go through a merger <5 times."
   ]
  },
  {
   "cell_type": "code",
   "execution_count": null,
   "id": "061ed748-10a7-421a-a8d2-fa5bfa553b00",
   "metadata": {},
   "outputs": [],
   "source": [
    "df['transferee'].value_counts()[:10]"
   ]
  },
  {
   "cell_type": "code",
   "execution_count": null,
   "id": "31e05d5a-78cc-4c00-a7bc-d2117edeae3f",
   "metadata": {},
   "outputs": [],
   "source": [
    "df[['transferor', 'transferee']].loc[\n",
    "    df['transferee'].str.contains('Kingdom Hall Trust')\n",
    "].head()"
   ]
  },
  {
   "cell_type": "code",
   "execution_count": null,
   "id": "67d5c050-1b63-40cd-b035-9d8b3a9b1127",
   "metadata": {},
   "outputs": [],
   "source": [
    "df[['transferor', 'transferee']].loc[\n",
    "    df['transferee'].str.contains('Victim Support')\n",
    "].head()"
   ]
  },
  {
   "cell_type": "code",
   "execution_count": null,
   "id": "b697600f-950d-4027-ae05-ea20a54c4cc0",
   "metadata": {},
   "outputs": [],
   "source": [
    "df[['transferor', 'transferee']].loc[\n",
    "    df['transferee'].str.contains('Mission to Seafarers')\n",
    "].head()"
   ]
  },
  {
   "cell_type": "markdown",
   "id": "e72f78fe-4061-4d72-8b29-2dd8b951b667",
   "metadata": {},
   "source": [
    "Summary from a [Brave](https://search.brave.com/search?q=The+Kingdom+Hall+Trust+&summary=1) search:\n",
    "\n",
    "The Kingdom Hall Trust:\n",
    "- Previously known as the London Company of Kingdom Witnesses, it was established on 28th July 1939 and changed its name to The Kingdom Hall Trust on 20th June 1994.\n",
    "- It is a charity associated with Jehovah’s Witnesses, with the charity number GB-CHC-275946.\n",
    "- The charity has undergone a significant merger in 2022, incorporating 1,279 Jehovah’s Witness congregations into the national charity. This is considered one of the largest charity mergers ever."
   ]
  },
  {
   "cell_type": "markdown",
   "id": "502e2cdc-7593-4e15-9a29-e2ce0286f54f",
   "metadata": {},
   "source": [
    "#### Count of mergers per year"
   ]
  },
  {
   "cell_type": "code",
   "execution_count": null,
   "id": "12a2471c-cc4a-47a7-a78f-6eb9af5a67c6",
   "metadata": {},
   "outputs": [],
   "source": [
    "merger_counts = df.groupby(\n",
    "    df['date_registered'].dt.year, as_index=True\n",
    ")['date_registered'].count()\n",
    "\n",
    "merger_counts = merger_counts.to_frame('count').reset_index()\n",
    "\n",
    "merger_counts.T"
   ]
  },
  {
   "cell_type": "code",
   "execution_count": null,
   "id": "ae0c2eeb-3a8f-4f66-9588-b8e5c624e6ee",
   "metadata": {},
   "outputs": [],
   "source": [
    "chart = (\n",
    "    alt.Chart(merger_counts)\n",
    "    .mark_bar()\n",
    "    .encode(\n",
    "        alt.Y('date_registered:N', title=''),\n",
    "        alt.X('count:Q', title=''),\n",
    "        alt.Color('date_registered:N', legend=None, scale=alt.Scale(scheme='dark2')),\n",
    "    )\n",
    "    .properties(\n",
    "        title='Mergers per year, 11/2007-03/2024',\n",
    "        width=600\n",
    "    )\n",
    ")\n",
    "chart"
   ]
  }
 ],
 "metadata": {
  "jupytext": {
   "formats": "ipynb,py:percent"
  },
  "kernelspec": {
   "display_name": "Python 3 (ipykernel)",
   "language": "python",
   "name": "python3"
  },
  "language_info": {
   "codemirror_mode": {
    "name": "ipython",
    "version": 3
   },
   "file_extension": ".py",
   "mimetype": "text/x-python",
   "name": "python",
   "nbconvert_exporter": "python",
   "pygments_lexer": "ipython3",
   "version": "3.11.8"
  }
 },
 "nbformat": 4,
 "nbformat_minor": 5
}
