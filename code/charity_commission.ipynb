{
 "cells": [
  {
   "cell_type": "markdown",
   "id": "d7763b51-c18a-4940-b0d8-d5db24453cbd",
   "metadata": {},
   "source": [
    "# Charity Commission register"
   ]
  },
  {
   "cell_type": "markdown",
   "id": "d2570a1d-066c-4950-a8f2-95c011d41f22",
   "metadata": {},
   "source": [
    "## Register of merged charities"
   ]
  },
  {
   "cell_type": "markdown",
   "id": "91590439-3c85-4dd8-841b-db7062073ae3",
   "metadata": {},
   "source": [
    "### Intro"
   ]
  },
  {
   "cell_type": "markdown",
   "id": "cb6f90d5-831c-42ed-b5f4-0f7d85c2bcbe",
   "metadata": {},
   "source": [
    "The data can be found at https://www.gov.uk/government/publications/register-of-merged-charities. "
   ]
  },
  {
   "cell_type": "markdown",
   "id": "5daf1142-5c1b-4a42-8549-a6dfc6c0d309",
   "metadata": {
    "lines_to_next_cell": 0
   },
   "source": [
    "### Imports"
   ]
  },
  {
   "cell_type": "code",
   "execution_count": 226,
   "id": "1b3d3f52-fa8f-4a9c-9c43-c3cd8cd592df",
   "metadata": {
    "lines_to_next_cell": 0
   },
   "outputs": [],
   "source": [
    "import altair as alt\n",
    "\n",
    "import pandas as pd\n",
    "import seaborn as sns\n",
    "from ydata_profiling import ProfileReport"
   ]
  },
  {
   "cell_type": "markdown",
   "id": "b91acd8e-9294-47de-a4cd-9f63fc828d5b",
   "metadata": {},
   "source": [
    "### Cleaning"
   ]
  },
  {
   "cell_type": "code",
   "execution_count": 227,
   "id": "ce3ac5fa-e205-48b3-8a9b-c6b9c4229813",
   "metadata": {},
   "outputs": [],
   "source": [
    "df = pd.read_csv('../data/mergers_register_march_2024.csv', encoding='cp1252')"
   ]
  },
  {
   "cell_type": "code",
   "execution_count": 228,
   "id": "7bdf7726-e53b-43da-9819-0c6a0a7d58d9",
   "metadata": {},
   "outputs": [
    {
     "data": {
      "text/html": [
       "<div>\n",
       "<style scoped>\n",
       "    .dataframe tbody tr th:only-of-type {\n",
       "        vertical-align: middle;\n",
       "    }\n",
       "\n",
       "    .dataframe tbody tr th {\n",
       "        vertical-align: top;\n",
       "    }\n",
       "\n",
       "    .dataframe thead th {\n",
       "        text-align: right;\n",
       "    }\n",
       "</style>\n",
       "<table border=\"1\" class=\"dataframe\">\n",
       "  <thead>\n",
       "    <tr style=\"text-align: right;\">\n",
       "      <th></th>\n",
       "      <th>Name of transferring charity (transferor) and charity number (if any)</th>\n",
       "      <th>Name of receiving charity (transferee) and charity number (if any)</th>\n",
       "      <th>Date Vesting Declaration made</th>\n",
       "      <th>Date property transferred</th>\n",
       "      <th>Date merger registered</th>\n",
       "    </tr>\n",
       "  </thead>\n",
       "  <tbody>\n",
       "    <tr>\n",
       "      <th>0</th>\n",
       "      <td>HENRY DREW THOMAS ALMSHOUSE (202453)</td>\n",
       "      <td>HENRY DREW THOMAS ALMSHOUSES AND STARCROSS WEL...</td>\n",
       "      <td>NaN</td>\n",
       "      <td>01/03/2023</td>\n",
       "      <td>26/03/2024</td>\n",
       "    </tr>\n",
       "    <tr>\n",
       "      <th>1</th>\n",
       "      <td>STARCROSS WELFARE TRUST (205101)</td>\n",
       "      <td>HENRY DREW THOMAS ALMSHOUSES AND STARCROSS WEL...</td>\n",
       "      <td>NaN</td>\n",
       "      <td>01/03/2023</td>\n",
       "      <td>26/03/2024</td>\n",
       "    </tr>\n",
       "    <tr>\n",
       "      <th>2</th>\n",
       "      <td>ROYAL WELCH FUSILIERS REGIMENTAL MUSEUM TRUST ...</td>\n",
       "      <td>ROYAL WELCH FUSILIERS REGIMENTAL MUSEUM TRUST ...</td>\n",
       "      <td>NaN</td>\n",
       "      <td>31/10/2023</td>\n",
       "      <td>26/03/2024</td>\n",
       "    </tr>\n",
       "    <tr>\n",
       "      <th>3</th>\n",
       "      <td>THE ROYAL WELCH FUSILIERS REGIMENTAL COLLECTIO...</td>\n",
       "      <td>ROYAL WELCH FUSILIERS REGIMENTAL MUSEUM TRUST ...</td>\n",
       "      <td>NaN</td>\n",
       "      <td>31/10/2023</td>\n",
       "      <td>26/03/2024</td>\n",
       "    </tr>\n",
       "    <tr>\n",
       "      <th>4</th>\n",
       "      <td>AL-HIJRAH TRUST (1018850)</td>\n",
       "      <td>AL-HIJRAH TRUST (1154046)</td>\n",
       "      <td>09/11/2022</td>\n",
       "      <td>16/02/2014</td>\n",
       "      <td>25/03/2024</td>\n",
       "    </tr>\n",
       "  </tbody>\n",
       "</table>\n",
       "</div>"
      ],
      "text/plain": [
       "  Name of transferring charity (transferor) and charity number (if any)  ... Date merger registered\n",
       "0               HENRY DREW THOMAS ALMSHOUSE (202453)                     ...             26/03/2024\n",
       "1                   STARCROSS WELFARE TRUST (205101)                     ...             26/03/2024\n",
       "2  ROYAL WELCH FUSILIERS REGIMENTAL MUSEUM TRUST ...                     ...             26/03/2024\n",
       "3  THE ROYAL WELCH FUSILIERS REGIMENTAL COLLECTIO...                     ...             26/03/2024\n",
       "4                          AL-HIJRAH TRUST (1018850)                     ...             25/03/2024\n",
       "\n",
       "[5 rows x 5 columns]"
      ]
     },
     "execution_count": 228,
     "metadata": {},
     "output_type": "execute_result"
    }
   ],
   "source": [
    "df.head()"
   ]
  },
  {
   "cell_type": "code",
   "execution_count": 229,
   "id": "2722108d-066c-468f-a29f-7b242ebd4ad7",
   "metadata": {},
   "outputs": [
    {
     "data": {
      "text/plain": [
       "Name of transferring charity (transferor) and charity number (if any)    object\n",
       "Name of receiving charity (transferee) and charity number (if any)       object\n",
       "Date Vesting Declaration made                                            object\n",
       "Date property transferred                                                object\n",
       "Date merger registered                                                   object\n",
       "dtype: object"
      ]
     },
     "execution_count": 229,
     "metadata": {},
     "output_type": "execute_result"
    }
   ],
   "source": [
    "df.dtypes"
   ]
  },
  {
   "cell_type": "code",
   "execution_count": 230,
   "id": "7f7eeb91-0d67-4c0f-b225-6032a3190fed",
   "metadata": {},
   "outputs": [],
   "source": [
    "# shorten col names\n",
    "df.columns = [\n",
    "    'transferor', 'transferee', 'date_vesting', 'date_transferred', 'date_registered'\n",
    "]"
   ]
  },
  {
   "cell_type": "code",
   "execution_count": 231,
   "id": "f92df05b-4929-4985-8f17-29741f6d719a",
   "metadata": {},
   "outputs": [],
   "source": [
    "# convert first 2 cols to str\n",
    "df['transferor'] = df['transferor'].apply(str).apply(str.strip)\n",
    "df['transferee'] = df['transferee'].apply(str).apply(str.strip)"
   ]
  },
  {
   "cell_type": "code",
   "execution_count": 232,
   "id": "9b29c2c1-036b-457b-a5ad-0252f1eca9a6",
   "metadata": {},
   "outputs": [
    {
     "data": {
      "text/html": [
       "<div>\n",
       "<style scoped>\n",
       "    .dataframe tbody tr th:only-of-type {\n",
       "        vertical-align: middle;\n",
       "    }\n",
       "\n",
       "    .dataframe tbody tr th {\n",
       "        vertical-align: top;\n",
       "    }\n",
       "\n",
       "    .dataframe thead th {\n",
       "        text-align: right;\n",
       "    }\n",
       "</style>\n",
       "<table border=\"1\" class=\"dataframe\">\n",
       "  <thead>\n",
       "    <tr style=\"text-align: right;\">\n",
       "      <th></th>\n",
       "      <th>transferor</th>\n",
       "      <th>transferee</th>\n",
       "      <th>date_vesting</th>\n",
       "      <th>date_transferred</th>\n",
       "      <th>date_registered</th>\n",
       "    </tr>\n",
       "  </thead>\n",
       "  <tbody>\n",
       "    <tr>\n",
       "      <th>0</th>\n",
       "      <td>HENRY DREW THOMAS ALMSHOUSE (202453)</td>\n",
       "      <td>HENRY DREW THOMAS ALMSHOUSES AND STARCROSS WEL...</td>\n",
       "      <td>NaT</td>\n",
       "      <td>2023-03-01</td>\n",
       "      <td>2024-03-26</td>\n",
       "    </tr>\n",
       "    <tr>\n",
       "      <th>1</th>\n",
       "      <td>STARCROSS WELFARE TRUST (205101)</td>\n",
       "      <td>HENRY DREW THOMAS ALMSHOUSES AND STARCROSS WEL...</td>\n",
       "      <td>NaT</td>\n",
       "      <td>2023-03-01</td>\n",
       "      <td>2024-03-26</td>\n",
       "    </tr>\n",
       "    <tr>\n",
       "      <th>2</th>\n",
       "      <td>ROYAL WELCH FUSILIERS REGIMENTAL MUSEUM TRUST ...</td>\n",
       "      <td>ROYAL WELCH FUSILIERS REGIMENTAL MUSEUM TRUST ...</td>\n",
       "      <td>NaT</td>\n",
       "      <td>2023-10-31</td>\n",
       "      <td>2024-03-26</td>\n",
       "    </tr>\n",
       "    <tr>\n",
       "      <th>3</th>\n",
       "      <td>THE ROYAL WELCH FUSILIERS REGIMENTAL COLLECTIO...</td>\n",
       "      <td>ROYAL WELCH FUSILIERS REGIMENTAL MUSEUM TRUST ...</td>\n",
       "      <td>NaT</td>\n",
       "      <td>2023-10-31</td>\n",
       "      <td>2024-03-26</td>\n",
       "    </tr>\n",
       "    <tr>\n",
       "      <th>4</th>\n",
       "      <td>AL-HIJRAH TRUST (1018850)</td>\n",
       "      <td>AL-HIJRAH TRUST (1154046)</td>\n",
       "      <td>2022-11-09</td>\n",
       "      <td>2014-02-16</td>\n",
       "      <td>2024-03-25</td>\n",
       "    </tr>\n",
       "  </tbody>\n",
       "</table>\n",
       "</div>"
      ],
      "text/plain": [
       "                                          transferor  ... date_registered\n",
       "0               HENRY DREW THOMAS ALMSHOUSE (202453)  ...      2024-03-26\n",
       "1                   STARCROSS WELFARE TRUST (205101)  ...      2024-03-26\n",
       "2  ROYAL WELCH FUSILIERS REGIMENTAL MUSEUM TRUST ...  ...      2024-03-26\n",
       "3  THE ROYAL WELCH FUSILIERS REGIMENTAL COLLECTIO...  ...      2024-03-26\n",
       "4                          AL-HIJRAH TRUST (1018850)  ...      2024-03-25\n",
       "\n",
       "[5 rows x 5 columns]"
      ]
     },
     "execution_count": 232,
     "metadata": {},
     "output_type": "execute_result"
    }
   ],
   "source": [
    "# convert date cols to datetime\n",
    "date_cols = ['date_vesting', 'date_transferred', 'date_registered']\n",
    "\n",
    "df[date_cols] = df[date_cols].apply(lambda x: pd.to_datetime(x, format='%d/%m/%Y'))\n",
    "\n",
    "df.head()"
   ]
  },
  {
   "cell_type": "code",
   "execution_count": 233,
   "id": "61da1887-af08-4c1e-8b9c-fc6ad1f9f959",
   "metadata": {},
   "outputs": [
    {
     "data": {
      "text/plain": [
       "2245     TRUST (802456)\n",
       "4551     (unregistered)\n",
       "3241    morgan (260189)\n",
       "701     tnesses 1067710\n",
       "3870    e Trust(250084)\n",
       "4389    sh (1125485-12)\n",
       "457     tnesses 1065276\n",
       "750     tnesses 1065266\n",
       "3626    cuit ( 1133239)\n",
       "3615    ation (1063283)\n",
       "2219    S WAY (1173684)\n",
       "3058    erseas (268094)\n",
       "2753     Trust (294384)\n",
       "3210    reland (259688)\n",
       "1672    tnesses 1065396\n",
       "3407    ation (1019311)\n",
       "1320    tnesses 1067382\n",
       "3263    Bureau (210218)\n",
       "3002    reach (1027818)\n",
       "4764    ctuary (255658)\n",
       "3826     Trust (326012)\n",
       "1344    tnesses 1067942\n",
       "3531     (All excepted)\n",
       "3096    Trust (1103343)\n",
       "4711     Trust (244610)\n",
       "507     tnesses 1066001\n",
       "183     MITED (1008765)\n",
       "3929    y Hub (1109363)\n",
       "4715    imited (291080)\n",
       "4015     Trust (293960)\n",
       "2325    ' Fund (208671)\n",
       "3149    s Gift (527099)\n",
       "383      Help (1154071)\n",
       "1906    VICES (1096157)\n",
       "4024    gn UK (1037063)\n",
       "2074    mouth (1161706)\n",
       "1736     (Unregistered)\n",
       "4299    shire (1114895)\n",
       "162      (Unregistered)\n",
       "2171    TRUST (1088365)\n",
       "4025    arity (1085913)\n",
       "3236    n Hall (277310)\n",
       "2104    CHOOL (1022246)\n",
       "35      ESCUE (1046861)\n",
       "1213    tnesses 1066220\n",
       "4215     Trust (294001)\n",
       "460     tnesses 1067340\n",
       "730     tnesses 1065232\n",
       "375     orest (1068964)\n",
       "2101    dation (312997)\n",
       "Name: transferor, dtype: object"
      ]
     },
     "execution_count": 233,
     "metadata": {},
     "output_type": "execute_result"
    }
   ],
   "source": [
    "df['transferor'].sample(50).str[-15:]"
   ]
  },
  {
   "cell_type": "code",
   "execution_count": 236,
   "id": "00cfa612-5601-4dcf-b009-05d1235f8f71",
   "metadata": {},
   "outputs": [],
   "source": [
    "# create charity number cols by extracting contents of last group in parentheses\n",
    "# and filling any null values with any string of 5+ numbers\n",
    "df['transferor_number'] = df['transferor'].str.lower().str.extract(\n",
    "    pat='\\(([^\\(]+?)\\)$'\n",
    ")\n",
    "df['transferor_number'] = df['transferor_number'].str.replace(pat='[\\-\\.\\/]', repl='-')\n",
    "df['transferor_number'] = df['transferor_number'].combine_first(\n",
    "    df['transferor'].str.extract(pat='(\\d{5,})')\n",
    ")\n",
    "\n",
    "df['transferee_number'] = df['transferee'].str.lower().str.extract(\n",
    "    pat='\\(([^\\(]+?)\\)$'\n",
    ")\n",
    "df['transferee_number'] = df['transferee_number'].str.replace(pat='[\\-\\.\\/]', repl='-')\n",
    "df['transferee_number'] = df['transferee_number'].combine_first(\n",
    "    df['transferee'].str.extract(pat='(\\d{5,})')\n",
    ")"
   ]
  },
  {
   "cell_type": "code",
   "execution_count": 237,
   "id": "ba48c75e-f2b4-4a1b-b8e6-fec11442e3e8",
   "metadata": {},
   "outputs": [
    {
     "data": {
      "text/plain": [
       "transferor_number\n",
       "unregistered                                       66\n",
       "exempt charity                                     16\n",
       "excepted charity                                    8\n",
       "unregistered charity                                6\n",
       "exempt                                              3\n",
       "excepted                                            3\n",
       "unincorporated                                      2\n",
       "unregistered unincorporated charity                 2\n",
       "unincorporated charity                              1\n",
       "unrestricted assets only                            1\n",
       "formerly known as mount zion evangelical church     1\n",
       "all excepted                                        1\n",
       "not registered                                      1\n",
       "herne bay branch                                    1\n",
       "bottley                                             1\n",
       "mrs m gee trust                                     1\n",
       "Name: count, dtype: int64"
      ]
     },
     "execution_count": 237,
     "metadata": {},
     "output_type": "execute_result"
    }
   ],
   "source": [
    "# list values that are not charity numbers\n",
    "df['transferor_number'].loc[\n",
    "    ~df['transferor_number'].apply(str).str.contains(r'\\d')\n",
    "].value_counts()"
   ]
  },
  {
   "cell_type": "code",
   "execution_count": 238,
   "id": "efab6fd3-b89c-4063-9094-88651a29f7c4",
   "metadata": {},
   "outputs": [
    {
     "data": {
      "text/plain": [
       "transferor_number\n",
       "unregistered      75\n",
       "exempt            19\n",
       "excepted          12\n",
       "other              6\n",
       "unincorporated     3\n",
       "Name: count, dtype: int64"
      ]
     },
     "execution_count": 238,
     "metadata": {},
     "output_type": "execute_result"
    }
   ],
   "source": [
    "# standardise values\n",
    "df['transferor_number'] = df['transferor_number'].replace(\n",
    "    to_replace={\n",
    "        'unregistered .*': 'unregistered',\n",
    "        'exempt .*': 'exempt',\n",
    "        'excepted .*': 'excepted',\n",
    "        'unincorporated .*': 'unincorporated',\n",
    "        'not registered': 'unregistered',\n",
    "    },\n",
    "    regex=True\n",
    ").replace(\n",
    "    to_replace={\n",
    "        value: 'other' for value in [\n",
    "            'unrestricted assets only', \n",
    "            'formerly known as mount zion evangelical church',\n",
    "            'all excepted',\n",
    "            'herne bay branch',\n",
    "            'bottley',\n",
    "            'mrs m gee trust',\n",
    "        ]\n",
    "    }\n",
    ")\n",
    "\n",
    "df['transferor_number'].loc[\n",
    "    ~df['transferor_number'].apply(str).str.contains(r'\\d')\n",
    "].value_counts()"
   ]
  },
  {
   "cell_type": "code",
   "execution_count": 239,
   "id": "a2da8ece-e837-4653-b7cd-44130e41cd4b",
   "metadata": {},
   "outputs": [
    {
     "data": {
      "text/plain": [
       "transferee_number\n",
       "unregistered                         5\n",
       "exempt charity                       4\n",
       "incorporating the merrett bequest    1\n",
       "cio                                  1\n",
       "excepted                             1\n",
       "picpus                               1\n",
       "exempt                               1\n",
       "Name: count, dtype: int64"
      ]
     },
     "execution_count": 239,
     "metadata": {},
     "output_type": "execute_result"
    }
   ],
   "source": [
    "# list values that are not charity numbers\n",
    "df['transferee_number'].loc[\n",
    "    ~df['transferee_number'].apply(str).str.contains(r'\\d')\n",
    "].value_counts()"
   ]
  },
  {
   "cell_type": "code",
   "execution_count": 244,
   "id": "2510a872-f821-4b02-a865-8c57876c4107",
   "metadata": {},
   "outputs": [
    {
     "data": {
      "text/plain": [
       "transferee_number\n",
       "exempt          5\n",
       "unregistered    5\n",
       "other           3\n",
       "excepted        1\n",
       "Name: count, dtype: int64"
      ]
     },
     "execution_count": 244,
     "metadata": {},
     "output_type": "execute_result"
    }
   ],
   "source": [
    "# standardise values\n",
    "df['transferee_number'] = df['transferee_number'].replace(\n",
    "    to_replace={\n",
    "        'exempt charity': 'exempt',\n",
    "        'incorporating the merrett bequest': 'other',\n",
    "        'cio': 'other',\n",
    "        'picpus': 'other',\n",
    "    }\n",
    ")\n",
    "\n",
    "df['transferee_number'].loc[\n",
    "    ~df['transferee_number'].apply(str).str.contains(r'\\d')\n",
    "].value_counts()"
   ]
  },
  {
   "cell_type": "markdown",
   "id": "03914bb9-bf09-49a8-be4e-0cd6e0d6b4c7",
   "metadata": {},
   "source": [
    "### Number of mergers over time"
   ]
  },
  {
   "cell_type": "markdown",
   "id": "08330fea-7b63-47ae-b4c8-b70006c9cc44",
   "metadata": {},
   "source": [
    "#### Most frequent transferors"
   ]
  },
  {
   "cell_type": "code",
   "execution_count": 245,
   "id": "859ace4c-2aa0-4e22-ab78-e73dec1e24dc",
   "metadata": {},
   "outputs": [
    {
     "data": {
      "text/plain": [
       "transferor_number\n",
       "unregistered      75\n",
       "1053467           31\n",
       "exempt            19\n",
       "excepted          12\n",
       "other              6\n",
       "1189059            5\n",
       "unincorporated     3\n",
       "1098026            2\n",
       "1060621            2\n",
       "1147851            2\n",
       "Name: count, dtype: int64"
      ]
     },
     "execution_count": 245,
     "metadata": {},
     "output_type": "execute_result"
    }
   ],
   "source": [
    "df['transferor_number'].value_counts()[:10]"
   ]
  },
  {
   "cell_type": "code",
   "execution_count": 246,
   "id": "a5753c7a-14d7-4d1a-8204-f9c14d72c545",
   "metadata": {},
   "outputs": [
    {
     "data": {
      "text/plain": [
       "[]"
      ]
     },
     "execution_count": 246,
     "metadata": {},
     "output_type": "execute_result"
    },
    {
     "data": {
      "image/png": "[encoded data removed]",
      "text/plain": [
       "<Figure size 640x480 with 1 Axes>"
      ]
     },
     "metadata": {},
     "output_type": "display_data"
    }
   ],
   "source": [
    "df['transferor_number'].value_counts().iloc[:100].plot(kind='bar').set_xticks([])"
   ]
  },
  {
   "cell_type": "markdown",
   "id": "5b40023d-e5fa-48d6-a390-08ef467fa19d",
   "metadata": {},
   "source": [
    "Most transferors are unregistered, exempt, or excepted. \n",
    "\n",
    "Most registered transferors are only transferors once or twice (which makes sense, as they get merged into the transferee)."
   ]
  },
  {
   "cell_type": "code",
   "execution_count": 252,
   "id": "a4058c9a-848c-4165-9c07-c3071d025e41",
   "metadata": {},
   "outputs": [
    {
     "data": {
      "text/html": [
       "<div>\n",
       "<style scoped>\n",
       "    .dataframe tbody tr th:only-of-type {\n",
       "        vertical-align: middle;\n",
       "    }\n",
       "\n",
       "    .dataframe tbody tr th {\n",
       "        vertical-align: top;\n",
       "    }\n",
       "\n",
       "    .dataframe thead th {\n",
       "        text-align: right;\n",
       "    }\n",
       "</style>\n",
       "<table border=\"1\" class=\"dataframe\">\n",
       "  <thead>\n",
       "    <tr style=\"text-align: right;\">\n",
       "      <th></th>\n",
       "      <th>transferor</th>\n",
       "      <th>transferee</th>\n",
       "    </tr>\n",
       "  </thead>\n",
       "  <tbody>\n",
       "    <tr>\n",
       "      <th>1767</th>\n",
       "      <td>Accident and Emergency Charity (1053467.01)</td>\n",
       "      <td>The County Durham and Darlington NHS Foundatio...</td>\n",
       "    </tr>\n",
       "    <tr>\n",
       "      <th>1768</th>\n",
       "      <td>Anaesthetics Charity (1053467.02)</td>\n",
       "      <td>The County Durham and Darlington NHS Foundatio...</td>\n",
       "    </tr>\n",
       "    <tr>\n",
       "      <th>1769</th>\n",
       "      <td>Bequest of Robert Fidderman for the Darlington...</td>\n",
       "      <td>The County Durham and Darlington NHS Foundatio...</td>\n",
       "    </tr>\n",
       "    <tr>\n",
       "      <th>1770</th>\n",
       "      <td>Book of Remembrance Charity 1053467.25</td>\n",
       "      <td>The County Durham and Darlington NHS Foundatio...</td>\n",
       "    </tr>\n",
       "    <tr>\n",
       "      <th>1771</th>\n",
       "      <td>Business Management Charity (1053467.03)</td>\n",
       "      <td>The County Durham and Darlington NHS Foundatio...</td>\n",
       "    </tr>\n",
       "    <tr>\n",
       "      <th>1772</th>\n",
       "      <td>Cancer Charity (1053467.04)</td>\n",
       "      <td>The County Durham and Darlington NHS Foundatio...</td>\n",
       "    </tr>\n",
       "    <tr>\n",
       "      <th>1773</th>\n",
       "      <td>Cardiology Charity (1053467.05)</td>\n",
       "      <td>The County Durham and Darlington NHS Foundatio...</td>\n",
       "    </tr>\n",
       "    <tr>\n",
       "      <th>1774</th>\n",
       "      <td>Chaplaincy Charity (1053467.06)</td>\n",
       "      <td>The County Durham and Darlington NHS Foundatio...</td>\n",
       "    </tr>\n",
       "    <tr>\n",
       "      <th>1775</th>\n",
       "      <td>Charitable North Durham Acute 1053467.36</td>\n",
       "      <td>The County Durham and Darlington NHS Foundatio...</td>\n",
       "    </tr>\n",
       "    <tr>\n",
       "      <th>1776</th>\n",
       "      <td>Community Health Care North Durham Health Prom...</td>\n",
       "      <td>The County Durham and Darlington NHS Foundatio...</td>\n",
       "    </tr>\n",
       "    <tr>\n",
       "      <th>1777</th>\n",
       "      <td>Community Health Care North Durham Palliative ...</td>\n",
       "      <td>The County Durham and Darlington NHS Foundatio...</td>\n",
       "    </tr>\n",
       "    <tr>\n",
       "      <th>1778</th>\n",
       "      <td>Dermatology Charity (1053467.07)</td>\n",
       "      <td>The County Durham and Darlington NHS Foundatio...</td>\n",
       "    </tr>\n",
       "    <tr>\n",
       "      <th>1779</th>\n",
       "      <td>Diabetic Charity (1053467.08)</td>\n",
       "      <td>The County Durham and Darlington NHS Foundatio...</td>\n",
       "    </tr>\n",
       "    <tr>\n",
       "      <th>1780</th>\n",
       "      <td>Dietetic Charity (1053467.09)</td>\n",
       "      <td>The County Durham and Darlington NHS Foundatio...</td>\n",
       "    </tr>\n",
       "    <tr>\n",
       "      <th>1781</th>\n",
       "      <td>Gastroenterology Charity (1053467.10)</td>\n",
       "      <td>The County Durham and Darlington NHS Foundatio...</td>\n",
       "    </tr>\n",
       "    <tr>\n",
       "      <th>1782</th>\n",
       "      <td>Gynaecological Research Charity (1053467.12)</td>\n",
       "      <td>The County Durham and Darlington NHS Foundatio...</td>\n",
       "    </tr>\n",
       "    <tr>\n",
       "      <th>1783</th>\n",
       "      <td>Gynaecology Charity (1053467.11)</td>\n",
       "      <td>The County Durham and Darlington NHS Foundatio...</td>\n",
       "    </tr>\n",
       "    <tr>\n",
       "      <th>1784</th>\n",
       "      <td>Haematology Charity 1053467.13</td>\n",
       "      <td>The County Durham and Darlington NHS Foundatio...</td>\n",
       "    </tr>\n",
       "    <tr>\n",
       "      <th>1785</th>\n",
       "      <td>Lipid Clinic Charity 1053467.14</td>\n",
       "      <td>The County Durham and Darlington NHS Foundatio...</td>\n",
       "    </tr>\n",
       "    <tr>\n",
       "      <th>1786</th>\n",
       "      <td>Medical Charity 1053467.15</td>\n",
       "      <td>The County Durham and Darlington NHS Foundatio...</td>\n",
       "    </tr>\n",
       "    <tr>\n",
       "      <th>1787</th>\n",
       "      <td>Microbiology Charity 1053467.16</td>\n",
       "      <td>The County Durham and Darlington NHS Foundatio...</td>\n",
       "    </tr>\n",
       "    <tr>\n",
       "      <th>1788</th>\n",
       "      <td>Minor Injuries Charity 1053467.31</td>\n",
       "      <td>The County Durham and Darlington NHS Foundatio...</td>\n",
       "    </tr>\n",
       "    <tr>\n",
       "      <th>1789</th>\n",
       "      <td>North Durham General Fund 1053467.32</td>\n",
       "      <td>The County Durham and Darlington NHS Foundatio...</td>\n",
       "    </tr>\n",
       "    <tr>\n",
       "      <th>1790</th>\n",
       "      <td>Nursing and Quality Charity 1053467.17</td>\n",
       "      <td>The County Durham and Darlington NHS Foundatio...</td>\n",
       "    </tr>\n",
       "    <tr>\n",
       "      <th>1791</th>\n",
       "      <td>Occupational Therapy Charity 1053467.19</td>\n",
       "      <td>The County Durham and Darlington NHS Foundatio...</td>\n",
       "    </tr>\n",
       "    <tr>\n",
       "      <th>1792</th>\n",
       "      <td>Orthopaedic Charity 1053467.18</td>\n",
       "      <td>The County Durham and Darlington NHS Foundatio...</td>\n",
       "    </tr>\n",
       "    <tr>\n",
       "      <th>1793</th>\n",
       "      <td>Pain Management Unit Charity 1053467.30</td>\n",
       "      <td>The County Durham and Darlington NHS Foundatio...</td>\n",
       "    </tr>\n",
       "    <tr>\n",
       "      <th>1794</th>\n",
       "      <td>Palliative Care Support Charity 1053467.20</td>\n",
       "      <td>The County Durham and Darlington NHS Foundatio...</td>\n",
       "    </tr>\n",
       "    <tr>\n",
       "      <th>1795</th>\n",
       "      <td>Pathology Charity 1053467.21</td>\n",
       "      <td>The County Durham and Darlington NHS Foundatio...</td>\n",
       "    </tr>\n",
       "    <tr>\n",
       "      <th>1796</th>\n",
       "      <td>Patients Welfare Dryburn Fund 1053467.33</td>\n",
       "      <td>The County Durham and Darlington NHS Foundatio...</td>\n",
       "    </tr>\n",
       "    <tr>\n",
       "      <th>1797</th>\n",
       "      <td>Patients Welfare Shotley Bridge Fund 1053467.34</td>\n",
       "      <td>The County Durham and Darlington NHS Foundatio...</td>\n",
       "    </tr>\n",
       "    <tr>\n",
       "      <th>1798</th>\n",
       "      <td>Physiotherapy Charity 1053467.22</td>\n",
       "      <td>The County Durham and Darlington NHS Foundatio...</td>\n",
       "    </tr>\n",
       "    <tr>\n",
       "      <th>1799</th>\n",
       "      <td>Plastic Surgery Charity 1053467.23</td>\n",
       "      <td>The County Durham and Darlington NHS Foundatio...</td>\n",
       "    </tr>\n",
       "    <tr>\n",
       "      <th>1800</th>\n",
       "      <td>Radiology Charity 1053467.24</td>\n",
       "      <td>The County Durham and Darlington NHS Foundatio...</td>\n",
       "    </tr>\n",
       "    <tr>\n",
       "      <th>1801</th>\n",
       "      <td>Respiratory Disease Charity 1053467.26</td>\n",
       "      <td>The County Durham and Darlington NHS Foundatio...</td>\n",
       "    </tr>\n",
       "    <tr>\n",
       "      <th>1802</th>\n",
       "      <td>Rheumatology Research Charity 1053467.27</td>\n",
       "      <td>The County Durham and Darlington NHS Foundatio...</td>\n",
       "    </tr>\n",
       "    <tr>\n",
       "      <th>1803</th>\n",
       "      <td>Surgical Charity 1053467.28</td>\n",
       "      <td>The County Durham and Darlington NHS Foundatio...</td>\n",
       "    </tr>\n",
       "    <tr>\n",
       "      <th>1804</th>\n",
       "      <td>The Kenneth Mckeown Prize Fund 1053467.41</td>\n",
       "      <td>The County Durham and Darlington NHS Foundatio...</td>\n",
       "    </tr>\n",
       "    <tr>\n",
       "      <th>1805</th>\n",
       "      <td>The Lady Eden Ward Charity 1053467.37</td>\n",
       "      <td>The County Durham and Darlington NHS Foundatio...</td>\n",
       "    </tr>\n",
       "    <tr>\n",
       "      <th>1806</th>\n",
       "      <td>The North Durham Acute Hospitals NHS Trust (Ex...</td>\n",
       "      <td>The County Durham and Darlington NHS Foundatio...</td>\n",
       "    </tr>\n",
       "    <tr>\n",
       "      <th>1807</th>\n",
       "      <td>The Post Graduate Medical Centre Charity 10534...</td>\n",
       "      <td>The County Durham and Darlington NHS Foundatio...</td>\n",
       "    </tr>\n",
       "    <tr>\n",
       "      <th>1808</th>\n",
       "      <td>Urology/Kidney Charity 1053467.29</td>\n",
       "      <td>The County Durham and Darlington NHS Foundatio...</td>\n",
       "    </tr>\n",
       "    <tr>\n",
       "      <th>1809</th>\n",
       "      <td>William Drysdale Endowment 1053467.39</td>\n",
       "      <td>The County Durham and Darlington NHS Foundatio...</td>\n",
       "    </tr>\n",
       "  </tbody>\n",
       "</table>\n",
       "</div>"
      ],
      "text/plain": [
       "                                             transferor                                         transferee\n",
       "1767        Accident and Emergency Charity (1053467.01)  The County Durham and Darlington NHS Foundatio...\n",
       "1768                  Anaesthetics Charity (1053467.02)  The County Durham and Darlington NHS Foundatio...\n",
       "1769  Bequest of Robert Fidderman for the Darlington...  The County Durham and Darlington NHS Foundatio...\n",
       "1770             Book of Remembrance Charity 1053467.25  The County Durham and Darlington NHS Foundatio...\n",
       "1771           Business Management Charity (1053467.03)  The County Durham and Darlington NHS Foundatio...\n",
       "1772                        Cancer Charity (1053467.04)  The County Durham and Darlington NHS Foundatio...\n",
       "1773                    Cardiology Charity (1053467.05)  The County Durham and Darlington NHS Foundatio...\n",
       "1774                    Chaplaincy Charity (1053467.06)  The County Durham and Darlington NHS Foundatio...\n",
       "1775           Charitable North Durham Acute 1053467.36  The County Durham and Darlington NHS Foundatio...\n",
       "1776  Community Health Care North Durham Health Prom...  The County Durham and Darlington NHS Foundatio...\n",
       "1777  Community Health Care North Durham Palliative ...  The County Durham and Darlington NHS Foundatio...\n",
       "1778                   Dermatology Charity (1053467.07)  The County Durham and Darlington NHS Foundatio...\n",
       "1779                      Diabetic Charity (1053467.08)  The County Durham and Darlington NHS Foundatio...\n",
       "1780                      Dietetic Charity (1053467.09)  The County Durham and Darlington NHS Foundatio...\n",
       "1781              Gastroenterology Charity (1053467.10)  The County Durham and Darlington NHS Foundatio...\n",
       "1782       Gynaecological Research Charity (1053467.12)  The County Durham and Darlington NHS Foundatio...\n",
       "1783                   Gynaecology Charity (1053467.11)  The County Durham and Darlington NHS Foundatio...\n",
       "1784                     Haematology Charity 1053467.13  The County Durham and Darlington NHS Foundatio...\n",
       "1785                    Lipid Clinic Charity 1053467.14  The County Durham and Darlington NHS Foundatio...\n",
       "1786                         Medical Charity 1053467.15  The County Durham and Darlington NHS Foundatio...\n",
       "1787                    Microbiology Charity 1053467.16  The County Durham and Darlington NHS Foundatio...\n",
       "1788                  Minor Injuries Charity 1053467.31  The County Durham and Darlington NHS Foundatio...\n",
       "1789               North Durham General Fund 1053467.32  The County Durham and Darlington NHS Foundatio...\n",
       "1790             Nursing and Quality Charity 1053467.17  The County Durham and Darlington NHS Foundatio...\n",
       "1791            Occupational Therapy Charity 1053467.19  The County Durham and Darlington NHS Foundatio...\n",
       "1792                     Orthopaedic Charity 1053467.18  The County Durham and Darlington NHS Foundatio...\n",
       "1793            Pain Management Unit Charity 1053467.30  The County Durham and Darlington NHS Foundatio...\n",
       "1794         Palliative Care Support Charity 1053467.20  The County Durham and Darlington NHS Foundatio...\n",
       "1795                       Pathology Charity 1053467.21  The County Durham and Darlington NHS Foundatio...\n",
       "1796           Patients Welfare Dryburn Fund 1053467.33  The County Durham and Darlington NHS Foundatio...\n",
       "1797    Patients Welfare Shotley Bridge Fund 1053467.34  The County Durham and Darlington NHS Foundatio...\n",
       "1798                   Physiotherapy Charity 1053467.22  The County Durham and Darlington NHS Foundatio...\n",
       "1799                 Plastic Surgery Charity 1053467.23  The County Durham and Darlington NHS Foundatio...\n",
       "1800                       Radiology Charity 1053467.24  The County Durham and Darlington NHS Foundatio...\n",
       "1801             Respiratory Disease Charity 1053467.26  The County Durham and Darlington NHS Foundatio...\n",
       "1802           Rheumatology Research Charity 1053467.27  The County Durham and Darlington NHS Foundatio...\n",
       "1803                        Surgical Charity 1053467.28  The County Durham and Darlington NHS Foundatio...\n",
       "1804          The Kenneth Mckeown Prize Fund 1053467.41  The County Durham and Darlington NHS Foundatio...\n",
       "1805              The Lady Eden Ward Charity 1053467.37  The County Durham and Darlington NHS Foundatio...\n",
       "1806  The North Durham Acute Hospitals NHS Trust (Ex...  The County Durham and Darlington NHS Foundatio...\n",
       "1807  The Post Graduate Medical Centre Charity 10534...  The County Durham and Darlington NHS Foundatio...\n",
       "1808                  Urology/Kidney Charity 1053467.29  The County Durham and Darlington NHS Foundatio...\n",
       "1809              William Drysdale Endowment 1053467.39  The County Durham and Darlington NHS Foundatio..."
      ]
     },
     "execution_count": 252,
     "metadata": {},
     "output_type": "execute_result"
    }
   ],
   "source": [
    "df[['transferor', 'transferee']].loc[df['transferor'].str.contains('1053467')]"
   ]
  },
  {
   "cell_type": "code",
   "execution_count": 253,
   "id": "084d1383-2c4e-4050-a4c3-4f32c58fb350",
   "metadata": {},
   "outputs": [
    {
     "data": {
      "text/plain": [
       "transferor\n",
       "The Parochial Church Council of the Ecclesiastical Parish of The A453 Churches of South Nottinghamshire (1189059)    5\n",
       "Derbyshire Dales Crossroads Caring for Carers (1098026)                                                              2\n",
       "Girl Norah                                                                                                           2\n",
       "Signature Care and Support (1081081)                                                                                 2\n",
       "South Leicestershire Crossroads Care Attendant Scheme (1062620)                                                      2\n",
       "Broxtowe Crossroads Limited (1059082)                                                                                2\n",
       "Positive Pete (1147851)                                                                                              2\n",
       "The Chronic Granulomatous Disorder Research Trust (1003425)                                                          2\n",
       "Wigan Advanced Motorists (518387)                                                                                    2\n",
       "The Victorian Society (210707)                                                                                       2\n",
       "Name: count, dtype: int64"
      ]
     },
     "execution_count": 253,
     "metadata": {},
     "output_type": "execute_result"
    }
   ],
   "source": [
    "df['transferor'].value_counts()[:10]"
   ]
  },
  {
   "attachments": {},
   "cell_type": "markdown",
   "id": "408bd5af-2e54-4637-913d-93b702463696",
   "metadata": {},
   "source": [
    "In one case, a number of hospital departments seem to have merged into one entity (*The County Durham and Darlington NHS Foundation Trust Charity*). \n",
    "\n",
    "*The Parochial Church Council of the Ecclesiastical Parish of The A453 Churches of South Nottinghamshire* has managed to be the transferor 5 times. "
   ]
  },
  {
   "cell_type": "markdown",
   "id": "28f0a38c-12de-4788-9bdf-ba328b6c5bf0",
   "metadata": {},
   "source": [
    "#### Most frequent transferors"
   ]
  },
  {
   "cell_type": "code",
   "execution_count": 254,
   "id": "c2b2346c-1c6c-4115-8591-ad79f7f3a936",
   "metadata": {},
   "outputs": [
    {
     "data": {
      "text/plain": [
       "transferee_number\n",
       "275946       1281\n",
       "298028         70\n",
       "212432         60\n",
       "1053467        43\n",
       "801465         40\n",
       "1125485        35\n",
       "1004630        17\n",
       "1051649        16\n",
       "210202-19      14\n",
       "1122062        11\n",
       "Name: count, dtype: int64"
      ]
     },
     "execution_count": 254,
     "metadata": {},
     "output_type": "execute_result"
    }
   ],
   "source": [
    "df['transferee_number'].value_counts()[:10]"
   ]
  },
  {
   "cell_type": "code",
   "execution_count": 257,
   "id": "0973a9db-4b08-4814-92ce-005f63ed47e3",
   "metadata": {},
   "outputs": [
    {
     "data": {
      "text/plain": [
       "[]"
      ]
     },
     "execution_count": 257,
     "metadata": {},
     "output_type": "execute_result"
    },
    {
     "data": {
      "image/png": "[encoded data removed]",
      "text/plain": [
       "<Figure size 640x480 with 1 Axes>"
      ]
     },
     "metadata": {},
     "output_type": "display_data"
    }
   ],
   "source": [
    "df['transferee_number'].value_counts().iloc[:100].plot(kind='bar').set_xticks([])"
   ]
  },
  {
   "cell_type": "markdown",
   "id": "35f1fda7-0511-4522-b78c-8d2414e75a5d",
   "metadata": {},
   "source": [
    "Without counting the outlier that merged 1200+ times, some transferees have gone through mergers >40 times. \n",
    "\n",
    "Most transferees only go through a merger <5 times."
   ]
  },
  {
   "cell_type": "code",
   "execution_count": 272,
   "id": "061ed748-10a7-421a-a8d2-fa5bfa553b00",
   "metadata": {},
   "outputs": [
    {
     "data": {
      "text/plain": [
       "transferee\n",
       "The Kingdom Hall Trust 275946                                              1279\n",
       "Victim Support (298028)                                                      70\n",
       "The Mission to Seafarers (212432)                                            60\n",
       "The County Durham and Darlington NHS Foundation Trust Charity (1053467)      43\n",
       "The Merchant Taylors' Schools Crosby (1125485)                               35\n",
       "Central Hardship and Relief Fund (801465)                                    20\n",
       "Central Hardship and Relief Trust (CHART) (801465)                           18\n",
       "UK Community Foundations (1004630)                                           16\n",
       "Royal Artillery Benevolent Fund (210202-19)                                  14\n",
       "Bauer Radio's Cash for Kids Charities (1122062)                              11\n",
       "Name: count, dtype: int64"
      ]
     },
     "execution_count": 272,
     "metadata": {},
     "output_type": "execute_result"
    }
   ],
   "source": [
    "df['transferee'].value_counts()[:10]"
   ]
  },
  {
   "cell_type": "code",
   "execution_count": 273,
   "id": "31e05d5a-78cc-4c00-a7bc-d2117edeae3f",
   "metadata": {},
   "outputs": [
    {
     "data": {
      "text/html": [
       "<div>\n",
       "<style scoped>\n",
       "    .dataframe tbody tr th:only-of-type {\n",
       "        vertical-align: middle;\n",
       "    }\n",
       "\n",
       "    .dataframe tbody tr th {\n",
       "        vertical-align: top;\n",
       "    }\n",
       "\n",
       "    .dataframe thead th {\n",
       "        text-align: right;\n",
       "    }\n",
       "</style>\n",
       "<table border=\"1\" class=\"dataframe\">\n",
       "  <thead>\n",
       "    <tr style=\"text-align: right;\">\n",
       "      <th></th>\n",
       "      <th>transferor</th>\n",
       "      <th>transferee</th>\n",
       "    </tr>\n",
       "  </thead>\n",
       "  <tbody>\n",
       "    <tr>\n",
       "      <th>437</th>\n",
       "      <td>Hull, Pearson Park  Congregation of Jehovah's ...</td>\n",
       "      <td>The Kingdom Hall Trust 275946</td>\n",
       "    </tr>\n",
       "    <tr>\n",
       "      <th>453</th>\n",
       "      <td>Aberaeron  Congregation of Jehovah's Witnesses...</td>\n",
       "      <td>The Kingdom Hall Trust 275946</td>\n",
       "    </tr>\n",
       "    <tr>\n",
       "      <th>454</th>\n",
       "      <td>Aberdare Congregation of Jehovah's Witnesses 2...</td>\n",
       "      <td>The Kingdom Hall Trust 275946</td>\n",
       "    </tr>\n",
       "    <tr>\n",
       "      <th>455</th>\n",
       "      <td>Abergavenny  Congregation of Jehovah's Witness...</td>\n",
       "      <td>The Kingdom Hall Trust 275946</td>\n",
       "    </tr>\n",
       "    <tr>\n",
       "      <th>456</th>\n",
       "      <td>Abertillery  Congregation of Jehovah's Witness...</td>\n",
       "      <td>The Kingdom Hall Trust 275946</td>\n",
       "    </tr>\n",
       "  </tbody>\n",
       "</table>\n",
       "</div>"
      ],
      "text/plain": [
       "                                            transferor                     transferee\n",
       "437  Hull, Pearson Park  Congregation of Jehovah's ...  The Kingdom Hall Trust 275946\n",
       "453  Aberaeron  Congregation of Jehovah's Witnesses...  The Kingdom Hall Trust 275946\n",
       "454  Aberdare Congregation of Jehovah's Witnesses 2...  The Kingdom Hall Trust 275946\n",
       "455  Abergavenny  Congregation of Jehovah's Witness...  The Kingdom Hall Trust 275946\n",
       "456  Abertillery  Congregation of Jehovah's Witness...  The Kingdom Hall Trust 275946"
      ]
     },
     "execution_count": 273,
     "metadata": {},
     "output_type": "execute_result"
    }
   ],
   "source": [
    "df[['transferor', 'transferee']].loc[\n",
    "    df['transferee'].str.contains('Kingdom Hall Trust')\n",
    "].head()"
   ]
  },
  {
   "cell_type": "code",
   "execution_count": 274,
   "id": "67d5c050-1b63-40cd-b035-9d8b3a9b1127",
   "metadata": {},
   "outputs": [
    {
     "data": {
      "text/html": [
       "<div>\n",
       "<style scoped>\n",
       "    .dataframe tbody tr th:only-of-type {\n",
       "        vertical-align: middle;\n",
       "    }\n",
       "\n",
       "    .dataframe tbody tr th {\n",
       "        vertical-align: top;\n",
       "    }\n",
       "\n",
       "    .dataframe thead th {\n",
       "        text-align: right;\n",
       "    }\n",
       "</style>\n",
       "<table border=\"1\" class=\"dataframe\">\n",
       "  <thead>\n",
       "    <tr style=\"text-align: right;\">\n",
       "      <th></th>\n",
       "      <th>transferor</th>\n",
       "      <th>transferee</th>\n",
       "    </tr>\n",
       "  </thead>\n",
       "  <tbody>\n",
       "    <tr>\n",
       "      <th>4180</th>\n",
       "      <td>Bromley Victim Support Scheme (1108399)</td>\n",
       "      <td>Victim Support (298028)</td>\n",
       "    </tr>\n",
       "    <tr>\n",
       "      <th>4181</th>\n",
       "      <td>Camden Victim Support (1054692)</td>\n",
       "      <td>Victim Support (298028)</td>\n",
       "    </tr>\n",
       "    <tr>\n",
       "      <th>4182</th>\n",
       "      <td>Lewisham Victim Support Scheme (1042159)</td>\n",
       "      <td>Victim Support (298028)</td>\n",
       "    </tr>\n",
       "    <tr>\n",
       "      <th>4183</th>\n",
       "      <td>Victim Support County Durham (1090221)</td>\n",
       "      <td>Victim Support (298028)</td>\n",
       "    </tr>\n",
       "    <tr>\n",
       "      <th>4184</th>\n",
       "      <td>Victim Support Devon (1088440)</td>\n",
       "      <td>Victim Support (298028)</td>\n",
       "    </tr>\n",
       "  </tbody>\n",
       "</table>\n",
       "</div>"
      ],
      "text/plain": [
       "                                    transferor               transferee\n",
       "4180   Bromley Victim Support Scheme (1108399)  Victim Support (298028)\n",
       "4181           Camden Victim Support (1054692)  Victim Support (298028)\n",
       "4182  Lewisham Victim Support Scheme (1042159)  Victim Support (298028)\n",
       "4183    Victim Support County Durham (1090221)  Victim Support (298028)\n",
       "4184            Victim Support Devon (1088440)  Victim Support (298028)"
      ]
     },
     "execution_count": 274,
     "metadata": {},
     "output_type": "execute_result"
    }
   ],
   "source": [
    "df[['transferor', 'transferee']].loc[\n",
    "    df['transferee'].str.contains('Victim Support')\n",
    "].head()"
   ]
  },
  {
   "cell_type": "code",
   "execution_count": 276,
   "id": "b697600f-950d-4027-ae05-ea20a54c4cc0",
   "metadata": {},
   "outputs": [
    {
     "data": {
      "text/html": [
       "<div>\n",
       "<style scoped>\n",
       "    .dataframe tbody tr th:only-of-type {\n",
       "        vertical-align: middle;\n",
       "    }\n",
       "\n",
       "    .dataframe tbody tr th {\n",
       "        vertical-align: top;\n",
       "    }\n",
       "\n",
       "    .dataframe thead th {\n",
       "        text-align: right;\n",
       "    }\n",
       "</style>\n",
       "<table border=\"1\" class=\"dataframe\">\n",
       "  <thead>\n",
       "    <tr style=\"text-align: right;\">\n",
       "      <th></th>\n",
       "      <th>transferor</th>\n",
       "      <th>transferee</th>\n",
       "    </tr>\n",
       "  </thead>\n",
       "  <tbody>\n",
       "    <tr>\n",
       "      <th>4415</th>\n",
       "      <td>Ada Milligan</td>\n",
       "      <td>The Mission to Seafarers (212432)</td>\n",
       "    </tr>\n",
       "    <tr>\n",
       "      <th>4416</th>\n",
       "      <td>Agnes Jones Memorial Fund</td>\n",
       "      <td>The Mission to Seafarers (212432)</td>\n",
       "    </tr>\n",
       "    <tr>\n",
       "      <th>4417</th>\n",
       "      <td>Andrew McKee Memorial Fund</td>\n",
       "      <td>The Mission to Seafarers (212432)</td>\n",
       "    </tr>\n",
       "    <tr>\n",
       "      <th>4418</th>\n",
       "      <td>Annie Walker</td>\n",
       "      <td>The Mission to Seafarers (212432)</td>\n",
       "    </tr>\n",
       "    <tr>\n",
       "      <th>4419</th>\n",
       "      <td>ASM Harris</td>\n",
       "      <td>The Mission to Seafarers (212432)</td>\n",
       "    </tr>\n",
       "  </tbody>\n",
       "</table>\n",
       "</div>"
      ],
      "text/plain": [
       "                      transferor                         transferee\n",
       "4415                Ada Milligan  The Mission to Seafarers (212432)\n",
       "4416   Agnes Jones Memorial Fund  The Mission to Seafarers (212432)\n",
       "4417  Andrew McKee Memorial Fund  The Mission to Seafarers (212432)\n",
       "4418                Annie Walker  The Mission to Seafarers (212432)\n",
       "4419                  ASM Harris  The Mission to Seafarers (212432)"
      ]
     },
     "execution_count": 276,
     "metadata": {},
     "output_type": "execute_result"
    }
   ],
   "source": [
    "df[['transferor', 'transferee']].loc[\n",
    "    df['transferee'].str.contains('Mission to Seafarers')\n",
    "].head()"
   ]
  },
  {
   "cell_type": "markdown",
   "id": "e72f78fe-4061-4d72-8b29-2dd8b951b667",
   "metadata": {},
   "source": [
    "Summary from a [Brave](https://search.brave.com/search?q=The+Kingdom+Hall+Trust+&summary=1) search:\n",
    "\n",
    "The Kingdom Hall Trust:\n",
    "- Previously known as the London Company of Kingdom Witnesses, it was established on 28th July 1939 and changed its name to The Kingdom Hall Trust on 20th June 1994.\n",
    "- It is a charity associated with Jehovah’s Witnesses, with the charity number GB-CHC-275946.\n",
    "- The charity has undergone a significant merger in 2022, incorporating 1,279 Jehovah’s Witness congregations into the national charity. This is considered one of the largest charity mergers ever."
   ]
  }
 ],
 "metadata": {
  "jupytext": {
   "formats": "ipynb,py:percent"
  },
  "kernelspec": {
   "display_name": "Python 3 (ipykernel)",
   "language": "python",
   "name": "python3"
  },
  "language_info": {
   "codemirror_mode": {
    "name": "ipython",
    "version": 3
   },
   "file_extension": ".py",
   "mimetype": "text/x-python",
   "name": "python",
   "nbconvert_exporter": "python",
   "pygments_lexer": "ipython3",
   "version": "3.11.8"
  }
 },
 "nbformat": 4,
 "nbformat_minor": 5
}
