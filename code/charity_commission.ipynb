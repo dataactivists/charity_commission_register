{
 "cells": [
  {
   "cell_type": "markdown",
   "id": "d7763b51-c18a-4940-b0d8-d5db24453cbd",
   "metadata": {},
   "source": [
    "# Charity Commission register: exploratory analysis"
   ]
  },
  {
   "cell_type": "markdown",
   "id": "f832ad43-e3a9-4f77-b00a-8b74db53be63",
   "metadata": {},
   "source": [
    "## Roadmap"
   ]
  },
  {
   "cell_type": "markdown",
   "id": "e8a00659-f4d3-4d1a-b951-4541a522ab96",
   "metadata": {},
   "source": [
    "This repo aims to be an exhaustive analysis of the data released by the Charity Commission at https://register-of-charities.charitycommission.gov.uk/register/full-register-download.\n",
    "\n",
    "Some of the questions we want to look at:\n",
    "- [x] most frequent transferors\n",
    "- [x] most frequent transferees\n",
    "- [x] evolution of number of mergers per year\n",
    "- [x] what are the annual returns of the transferee before/after the merger?\n",
    "- [x] what's the size of transferors/transferees in terms of annual return?\n",
    "- [ ] what is the median number of trustees per charity?\n",
    "- [ ] who are \"repeat trustees\"?"
   ]
  },
  {
   "cell_type": "markdown",
   "id": "7cc68c49-54b8-4bd1-8259-fe9e07c7d009",
   "metadata": {},
   "source": [
    "For starters, the analysis covers the [Register of merged charities](https://www.gov.uk/government/publications/register-of-merged-charities) data."
   ]
  },
  {
   "cell_type": "markdown",
   "id": "0a9749dc-8ec1-42b6-9cb8-74a16a08cb7b",
   "metadata": {},
   "source": [
    "See the [notebook](https://github.com/harabat/charity_commission_register/blob/main/code/charity_commission.ipynb) for the charts."
   ]
  },
  {
   "cell_type": "markdown",
   "id": "d2570a1d-066c-4950-a8f2-95c011d41f22",
   "metadata": {},
   "source": [
    "## Register of merged charities"
   ]
  },
  {
   "cell_type": "markdown",
   "id": "91590439-3c85-4dd8-841b-db7062073ae3",
   "metadata": {},
   "source": [
    "### Intro"
   ]
  },
  {
   "cell_type": "markdown",
   "id": "7261755e-5eb2-4599-96c4-99296385d2c4",
   "metadata": {},
   "source": [
    "The data can be found at https://www.gov.uk/government/publications/register-of-merged-charities."
   ]
  },
  {
   "cell_type": "markdown",
   "id": "e5c23d2e-30f4-4c57-addf-e5607cd7afca",
   "metadata": {},
   "source": [
    "Caveats:\n",
    "\n",
    "- The merger registration data is not accurate, especially the timespans between the dates of transfer and registration can go from -1y to 32y, but varies wildly even when outliers are removed. Ideally, this will be raised with the Charity Commission.\n",
    "- [Merging two or more Charitable Incorporated Organisations (CIOs)](https://www.gov.uk/government/publications/register-of-merged-charities/guidance-about-the-register-of-merged-charities#merging-two-or-more-charitable-incorporated-organisations-cios) does not require the merger to be registered. Consequently, the register of merged charities will be missing this data. Does this data need to be FOIA'd?"
   ]
  },
  {
   "cell_type": "markdown",
   "id": "5daf1142-5c1b-4a42-8549-a6dfc6c0d309",
   "metadata": {
    "lines_to_next_cell": 0
   },
   "source": [
    "### Imports"
   ]
  },
  {
   "cell_type": "code",
   "execution_count": null,
   "id": "1b3d3f52-fa8f-4a9c-9c43-c3cd8cd592df",
   "metadata": {
    "lines_to_next_cell": 0
   },
   "outputs": [],
   "source": [
    "import altair as alt\n",
    "import dataframe_image as dfi\n",
    "import json\n",
    "import pandas as pd\n",
    "import seaborn as sns"
   ]
  },
  {
   "cell_type": "markdown",
   "id": "5b512df3-0ba3-4624-912c-72d059e6eba9",
   "metadata": {},
   "source": [
    "### Cleaning `merger` data"
   ]
  },
  {
   "cell_type": "markdown",
   "id": "bc8358d8-5719-4c1a-9f2b-fcdc21f75055",
   "metadata": {},
   "source": [
    "#### Load data"
   ]
  },
  {
   "cell_type": "code",
   "execution_count": null,
   "id": "ce3ac5fa-e205-48b3-8a9b-c6b9c4229813",
   "metadata": {},
   "outputs": [],
   "source": [
    "df = pd.read_csv('../data/mergers_register_march_2024.csv', encoding='cp1252')"
   ]
  },
  {
   "cell_type": "markdown",
   "id": "c7a9eaf7-615b-477e-af84-170f6aca0814",
   "metadata": {},
   "source": [
    "#### Cols"
   ]
  },
  {
   "cell_type": "code",
   "execution_count": null,
   "id": "7bdf7726-e53b-43da-9819-0c6a0a7d58d9",
   "metadata": {},
   "outputs": [],
   "source": [
    "df.head()"
   ]
  },
  {
   "cell_type": "code",
   "execution_count": null,
   "id": "7f7eeb91-0d67-4c0f-b225-6032a3190fed",
   "metadata": {},
   "outputs": [],
   "source": [
    "# shorten col names\n",
    "df.columns = [\n",
    "    'transferor',\n",
    "    'transferee',\n",
    "    'date_vesting',\n",
    "    'date_transferred',\n",
    "    'date_registered',\n",
    "]"
   ]
  },
  {
   "cell_type": "code",
   "execution_count": null,
   "id": "61ca08bd-55fe-4862-9a38-2a002477916a",
   "metadata": {},
   "outputs": [],
   "source": [
    "df.info()"
   ]
  },
  {
   "cell_type": "code",
   "execution_count": null,
   "id": "f7327881-e87c-4db5-9a63-197206c056f3",
   "metadata": {},
   "outputs": [],
   "source": [
    "# drop column with null values\n",
    "df = df.drop(columns='date_vesting')"
   ]
  },
  {
   "cell_type": "markdown",
   "id": "db9cf6d7-96eb-4b2e-bbb3-aecbd564f6d5",
   "metadata": {},
   "source": [
    "#### `dtypes`"
   ]
  },
  {
   "cell_type": "code",
   "execution_count": null,
   "id": "2722108d-066c-468f-a29f-7b242ebd4ad7",
   "metadata": {},
   "outputs": [],
   "source": [
    "df.dtypes"
   ]
  },
  {
   "cell_type": "code",
   "execution_count": null,
   "id": "f92df05b-4929-4985-8f17-29741f6d719a",
   "metadata": {},
   "outputs": [],
   "source": [
    "# convert first 2 cols to str\n",
    "df['transferor'] = df['transferor'].apply(str).apply(str.strip)\n",
    "df['transferee'] = df['transferee'].apply(str).apply(str.strip)"
   ]
  },
  {
   "cell_type": "code",
   "execution_count": null,
   "id": "9b29c2c1-036b-457b-a5ad-0252f1eca9a6",
   "metadata": {},
   "outputs": [],
   "source": [
    "# convert date cols to datetime\n",
    "date_cols = ['date_transferred', 'date_registered']\n",
    "\n",
    "df[date_cols] = df[date_cols].apply(lambda x: pd.to_datetime(x, format='%d/%m/%Y'))\n",
    "\n",
    "df.head()"
   ]
  },
  {
   "cell_type": "markdown",
   "id": "4803004e-ea0e-4a56-88fa-930a9b5250ab",
   "metadata": {},
   "source": [
    "#### Date cols"
   ]
  },
  {
   "cell_type": "markdown",
   "id": "a139d33a-efc6-4556-9c48-47fa30c03146",
   "metadata": {},
   "source": [
    "This dataset contains transfers dated from 1990, while registrations only start in 2007."
   ]
  },
  {
   "cell_type": "code",
   "execution_count": null,
   "id": "a6ce25f8-da62-4660-a0f7-75fb26f08437",
   "metadata": {},
   "outputs": [],
   "source": [
    "# calculate timespan between date of transfer and date of registration\n",
    "df['registered-transfer'] = (\n",
    "    df['date_registered'] - df['date_transferred']\n",
    ").dt.days / 365\n",
    "\n",
    "df.sort_values('registered-transfer')"
   ]
  },
  {
   "cell_type": "code",
   "execution_count": null,
   "id": "4537007a-1b6b-47bf-a0b4-7190cacdd776",
   "metadata": {},
   "outputs": [],
   "source": [
    "# count of transfer and registration by year\n",
    "chart_transfer_bar = (\n",
    "    alt.Chart(df['date_transferred'].to_frame())\n",
    "    .mark_line(point=True)\n",
    "    .encode(\n",
    "        alt.X('count():Q', title=''),\n",
    "        alt.Y('year(date_transferred):T').sort('descending'),\n",
    "    )\n",
    ")\n",
    "\n",
    "chart_registered_bar = (\n",
    "    alt.Chart(df['date_registered'].to_frame())\n",
    "    .mark_line(point=True)\n",
    "    .encode(\n",
    "        alt.X('count():Q', title=''),\n",
    "        alt.Y('year(date_registered):T').sort('descending'),\n",
    "    )\n",
    ")\n",
    "\n",
    "chart = (\n",
    "    alt.hconcat(chart_transfer_bar, chart_registered_bar)\n",
    "    .resolve_scale(y='shared')\n",
    "    .properties(title='Count of transfers and registrations by year')\n",
    ")\n",
    "\n",
    "chart.save('../charts/count_transfer_registration_year.png')\n",
    "\n",
    "chart"
   ]
  },
  {
   "cell_type": "code",
   "execution_count": null,
   "id": "744cf896-cd16-484a-9af1-512ced19a819",
   "metadata": {},
   "outputs": [],
   "source": [
    "# distribution of timespans between transfer and registration\n",
    "chart_transfer_bar = (\n",
    "    alt.Chart(df['date_transferred'].to_frame())\n",
    "    .mark_bar()\n",
    "    .encode(\n",
    "        alt.X('year(date_transferred):T'),\n",
    "        alt.Y('count():Q').title('count of records').scale(\n",
    "            alt.Scale(domain=[-100, 1600])\n",
    "        )\n",
    "    )\n",
    ")\n",
    "\n",
    "chart_diff_line = (\n",
    "    alt.Chart(df[['date_transferred', 'registered-transfer']])\n",
    "    .mark_line(color='darkred')\n",
    "    .encode(\n",
    "        alt.X('year(date_transferred):T'),\n",
    "        alt.Y('registered-transfer:Q').axis(\n",
    "            alt.Axis(\n",
    "                title='date registered - date of transfer (years)',\n",
    "                titleColor='darkred'\n",
    "            )\n",
    "        ).scale(alt.Scale(domain=[-2.5, 35])),\n",
    "        alt.Tooltip('registered-transfer:Q'),\n",
    "    )\n",
    ")\n",
    "\n",
    "chart_diff_hist = (\n",
    "    alt.Chart(df['registered-transfer'].to_frame())\n",
    "    .mark_bar(color='darkred')\n",
    "    .encode(\n",
    "        alt.X('count():Q').title(\n",
    "            'frequencies of N years between transfer and registration'\n",
    "        ),\n",
    "        alt.Y('registered-transfer:Q').title('').scale(alt.Scale(domain=[-2.5, 35])),\n",
    "    )\n",
    ")\n",
    "\n",
    "chart = (\n",
    "    alt.hconcat(\n",
    "        (chart_transfer_bar + chart_diff_line).resolve_scale(y='independent'),\n",
    "        chart_diff_hist\n",
    "    )\n",
    "    .properties(title='Differences between transfer and registration year')\n",
    ")\n",
    "\n",
    "chart.save('../charts/diff_transfer_registration_year.png')\n",
    "\n",
    "chart"
   ]
  },
  {
   "cell_type": "code",
   "execution_count": null,
   "id": "d52a741f-0ba3-40b0-a340-2f32f0cb8443",
   "metadata": {
    "scrolled": true
   },
   "outputs": [],
   "source": [
    "df.loc[df['registered-transfer'] > 10].sort_values(\n",
    "    'registered-transfer', ascending=False\n",
    ")"
   ]
  },
  {
   "cell_type": "markdown",
   "id": "771f61e1-a1ec-4904-8179-ad102e09ce8c",
   "metadata": {},
   "source": [
    "It seems that the *Register of merged charities* contains mergers from 1990, while the registrations start in late 2007.\n",
    "\n",
    "It seems unlikely that these very few ancient transfers and their late registrations represent reality. The repetitive seesaw pattern also seems to indicate errors, though it's not obvious what it's due to.\n",
    "\n",
    "We'll choose to drop any transfers from <2008 in our analysis, as they are few and represent the bulk of the long `registered-transfer` durations."
   ]
  },
  {
   "cell_type": "code",
   "execution_count": null,
   "id": "f39a9967-a5e2-4366-b421-4887320c7915",
   "metadata": {},
   "outputs": [],
   "source": [
    "# drop transfers from <2008\n",
    "df = df.loc[df['date_transferred'].dt.year >= 2008]"
   ]
  },
  {
   "cell_type": "code",
   "execution_count": null,
   "id": "4d6326c5-5ebe-4fed-871d-7cf5baede123",
   "metadata": {},
   "outputs": [],
   "source": [
    "# count of transfer and registration by year\n",
    "chart_transfer_bar = (\n",
    "    alt.Chart(df['date_transferred'].to_frame())\n",
    "    .mark_line(point=True)\n",
    "    .encode(\n",
    "        alt.X('count():Q', title=''),\n",
    "        alt.Y('year(date_transferred):T').sort('descending'),\n",
    "    )\n",
    ")\n",
    "\n",
    "chart_registered_bar = (\n",
    "    alt.Chart(df['date_registered'].to_frame())\n",
    "    .mark_line(point=True)\n",
    "    .encode(\n",
    "        alt.X('count():Q', title=''),\n",
    "        alt.Y('year(date_registered):T').sort('descending'),\n",
    "    )\n",
    ")\n",
    "\n",
    "chart = (\n",
    "    alt.hconcat(chart_transfer_bar, chart_registered_bar)\n",
    "    .resolve_scale(y='shared')\n",
    "    .properties(title='Count of transfers and registrations by year')\n",
    ")\n",
    "\n",
    "chart.save('../charts/count_transfer_registration_year_trimmed.png')\n",
    "\n",
    "chart"
   ]
  },
  {
   "cell_type": "code",
   "execution_count": null,
   "id": "3abbda48-33a0-456f-bc69-536661d5e63c",
   "metadata": {},
   "outputs": [],
   "source": [
    "# distribution of timespans between transfer and registration\n",
    "chart_transfer_bar = (\n",
    "    alt.Chart(df['date_transferred'].to_frame())\n",
    "    .mark_bar()\n",
    "    .encode(\n",
    "        alt.X('year(date_transferred):T'),\n",
    "        alt.Y('count():Q').title('count of records').scale(\n",
    "            alt.Scale(domain=[-100, 1600])\n",
    "        )\n",
    "    )\n",
    ")\n",
    "\n",
    "chart_diff_line = (\n",
    "    alt.Chart(df[['date_transferred', 'registered-transfer']])\n",
    "    .mark_line(color='darkred')\n",
    "    .encode(\n",
    "        alt.X('year(date_transferred):T'),\n",
    "        alt.Y('registered-transfer:Q').axis(\n",
    "            alt.Axis(\n",
    "                title='date registered - date of transfer (years)',\n",
    "                titleColor='darkred'\n",
    "            )\n",
    "        ),\n",
    "        alt.Tooltip('registered-transfer:Q'),\n",
    "    )\n",
    ")\n",
    "\n",
    "chart_diff_hist = (\n",
    "    alt.Chart(df['registered-transfer'].to_frame())\n",
    "    .mark_bar(color='darkred')\n",
    "    .encode(\n",
    "        alt.X('count():Q').title(\n",
    "            'frequencies of N years between transfer and registration'\n",
    "        ),\n",
    "        alt.Y('registered-transfer:Q').title(''),\n",
    "    )\n",
    ")\n",
    "\n",
    "chart = (\n",
    "    alt.hconcat(\n",
    "        (chart_transfer_bar + chart_diff_line).resolve_scale(y='independent'),\n",
    "        chart_diff_hist\n",
    "    )\n",
    "    .properties(title='Differences between transfer and registration year')\n",
    ")\n",
    "\n",
    "chart.save('../charts/diff_transfer_registration_year_trimmed.png')\n",
    "\n",
    "chart"
   ]
  },
  {
   "cell_type": "markdown",
   "id": "51976586-2252-49e5-b4a2-f926e7b6015d",
   "metadata": {},
   "source": [
    "#### Extract charity numbers"
   ]
  },
  {
   "cell_type": "code",
   "execution_count": null,
   "id": "61da1887-af08-4c1e-8b9c-fc6ad1f9f959",
   "metadata": {},
   "outputs": [],
   "source": [
    "# check how charity numbers are indicated at end of string\n",
    "df['transferor'].sample(10, random_state=42).str[-35:]"
   ]
  },
  {
   "cell_type": "code",
   "execution_count": null,
   "id": "21f233c4-252b-4591-9e00-cd1f14740902",
   "metadata": {},
   "outputs": [],
   "source": [
    "# separators in charity numbers\n",
    "df['transferor'].str.extract(r'\\(\\d+(\\D)\\d+\\)$').dropna()[0].unique()"
   ]
  },
  {
   "cell_type": "code",
   "execution_count": null,
   "id": "00cfa612-5601-4dcf-b009-05d1235f8f71",
   "metadata": {},
   "outputs": [],
   "source": [
    "# create charity number cols by extracting contents of last group in parentheses\n",
    "# and filling any null values with any string of 5+ numbers\n",
    "df['transferor_number'] = df['transferor'].str.lower().str.extract(\n",
    "    pat=r'\\(([^\\(]+?)\\)$'\n",
    ")\n",
    "df['transferor_number'] = df['transferor_number'].str.replace(pat=r'[\\-\\.\\/]', repl='-')\n",
    "df['transferor_number'] = df['transferor_number'].combine_first(\n",
    "    df['transferor'].str.extract(pat=r'(\\d{5,})')[0]\n",
    ")\n",
    "\n",
    "df['transferee_number'] = df['transferee'].str.lower().str.extract(\n",
    "    pat=r'\\(([^\\(]+?)\\)$'\n",
    ")\n",
    "df['transferee_number'] = df['transferee_number'].str.replace(pat=r'[\\-\\.\\/]', repl='-')\n",
    "df['transferee_number'] = df['transferee_number'].combine_first(\n",
    "    df['transferee'].str.extract(pat=r'(\\d{5,})')[0]\n",
    ")"
   ]
  },
  {
   "cell_type": "code",
   "execution_count": null,
   "id": "ba48c75e-f2b4-4a1b-b8e6-fec11442e3e8",
   "metadata": {},
   "outputs": [],
   "source": [
    "# list values that are not charity numbers\n",
    "df['transferor_number'].loc[\n",
    "    df['transferor_number'].apply(str).str.contains(r'[a-zA-Z]')\n",
    "].value_counts()"
   ]
  },
  {
   "cell_type": "code",
   "execution_count": null,
   "id": "efab6fd3-b89c-4063-9094-88651a29f7c4",
   "metadata": {},
   "outputs": [],
   "source": [
    "# standardise values that are not charity numbers\n",
    "df['transferor_number'] = df['transferor_number'].replace(\n",
    "    to_replace={\n",
    "        'unregistered .*': 'unregistered',\n",
    "        'exempt.*': 'exempt',\n",
    "        '.*excepted.*': 'excepted',\n",
    "        'unincorporated .*': 'unincorporated',\n",
    "        'not registered': 'unregistered',\n",
    "    },\n",
    "    regex=True,\n",
    ").replace(\n",
    "    to_replace={\n",
    "        value: 'other' for value in [\n",
    "            'unrestricted assets only', \n",
    "            'formerly known as mount zion evangelical church',\n",
    "            'herne bay branch',\n",
    "            'bottley',\n",
    "            'mrs m gee trust',\n",
    "        ]\n",
    "    }\n",
    ")\n",
    "\n",
    "df['transferor_number'].loc[\n",
    "    ~df['transferor_number'].apply(str).str.contains(r'\\d')\n",
    "].value_counts()"
   ]
  },
  {
   "cell_type": "code",
   "execution_count": null,
   "id": "a2da8ece-e837-4653-b7cd-44130e41cd4b",
   "metadata": {},
   "outputs": [],
   "source": [
    "# list values that are not charity numbers\n",
    "df['transferee_number'].loc[\n",
    "    df['transferee_number'].apply(str).str.contains(r'[a-zA-Z]')\n",
    "].value_counts()"
   ]
  },
  {
   "cell_type": "code",
   "execution_count": null,
   "id": "2510a872-f821-4b02-a865-8c57876c4107",
   "metadata": {},
   "outputs": [],
   "source": [
    "# standardise values that are not charity numbers\n",
    "df['transferee_number'] = df['transferee_number'].replace(\n",
    "    to_replace={\n",
    "        'exempt.*': 'exempt',\n",
    "        'incorporating the merrett bequest': 'other',\n",
    "        'cio': 'other',\n",
    "        'picpus': 'other',\n",
    "    },\n",
    "    regex=True,\n",
    ")\n",
    "\n",
    "df['transferee_number'].loc[\n",
    "    df['transferee_number'].apply(str).str.contains(r'[a-zA-Z]')\n",
    "].value_counts()"
   ]
  },
  {
   "cell_type": "markdown",
   "id": "4680b7cc-8fe6-4400-a14e-d5917184d850",
   "metadata": {},
   "source": [
    "Charity numbers are indicated as a series of numbers between parentheses at the end of the string.\n",
    "\n",
    "However, this series of numbers is sometimes not between parentheses, sometimes contains a separator (which varies from one transferor to another).\n",
    "\n",
    "Sometimes, the reason for why charity does not have a charity number is indicated, but it is not provided systematically, and the wording varies.\n",
    "\n",
    "This creates hurdles in analysis, as all these discrepancies need to be identified and navigated case by case."
   ]
  },
  {
   "cell_type": "markdown",
   "id": "03914bb9-bf09-49a8-be4e-0cd6e0d6b4c7",
   "metadata": {},
   "source": [
    "### Number of mergers over time"
   ]
  },
  {
   "cell_type": "markdown",
   "id": "08330fea-7b63-47ae-b4c8-b70006c9cc44",
   "metadata": {},
   "source": [
    "#### Most frequent transferors"
   ]
  },
  {
   "cell_type": "code",
   "execution_count": null,
   "id": "0ea33f1d-0c10-4976-98df-ae02eceb0e7b",
   "metadata": {},
   "outputs": [],
   "source": [
    "# most frequent transferors as indicated by charity number\n",
    "most_frequent_transferors = df['transferor_number'].value_counts()[:10].to_frame()\n",
    "\n",
    "dfi.export(\n",
    "    most_frequent_transferors,\n",
    "    '../charts/most_frequent_transferors.png',\n",
    "    table_conversion='selenium',\n",
    ")\n",
    "\n",
    "most_frequent_transferors"
   ]
  },
  {
   "cell_type": "markdown",
   "id": "32c7a21d-bee0-4c66-a8c6-efbeafb937d9",
   "metadata": {},
   "source": [
    "Most transferors are unregistered, exempt, or excepted.\n",
    "\n",
    "The [Guidance about the register of merged charities](https://www.gov.uk/government/publications/register-of-merged-charities/guidance-about-the-register-of-merged-charities#different-types-of-merger) states:\n",
    "\n",
    "> There are different types of merger:\n",
    "> \n",
    ">   - merging with an existing charity\n",
    ">   - merging with a new charity you have set up for the purpose of merging\n",
    ">   - changing structure - usually a trust or unincorporated association that wants to change to a CIO or charitable company.\n",
    "\n",
    "\n",
    "The prevalence of unregistered/exempt/excepted transferors probably indicates one of two things:\n",
    "\n",
    "- Mergers of **very small charities (which are unregistered/exempt) officially joining bigger ones**. It's likely that these small charities are merging with larger ones to gain economies of scale, access to more resources, or to increase their impact. Alternatively, they might be facing hurdles due to funding constraints, regulatory burdens, or other challenges, and merging with a larger charity is a way to ensure their assets and mission continue.\n",
    "- Mergers of charities into **a new structure (CIO or charitable company)**.\n",
    "\n",
    "We'll look at charities 1053467 (75 mergers) and 1189059 (5 mergers) later."
   ]
  },
  {
   "cell_type": "code",
   "execution_count": null,
   "id": "859ace4c-2aa0-4e22-ab78-e73dec1e24dc",
   "metadata": {},
   "outputs": [],
   "source": [
    "# frequencies of merger events for individual transferors\n",
    "transferor_freqs = (\n",
    "    df['transferor_number']\n",
    "    .value_counts()\n",
    "    .value_counts()\n",
    "    .reset_index(name='freqs')\n",
    ")\n",
    "\n",
    "transferor_freqs = transferor_freqs.sort_values(by='count')\n",
    "\n",
    "transferor_freqs.columns = ['count_of_mergers', 'frequency']\n",
    "\n",
    "transferor_freqs = transferor_freqs.set_index('count_of_mergers', drop=True)\n",
    "\n",
    "dfi.export(\n",
    "    transferor_freqs,\n",
    "    '../charts/transferor_freqs.png',\n",
    "    table_conversion='selenium',\n",
    ")\n",
    "\n",
    "transferor_freqs"
   ]
  },
  {
   "cell_type": "markdown",
   "id": "2c55b70f-77be-4cb8-a822-afa25ee5c563",
   "metadata": {},
   "source": [
    "Most registered transferors have only been in the position of transferring charity once or twice.\n",
    "\n",
    "This makes sense, since the transferor charity typically ceases to exist as a separate entity after the merger.\n",
    "\n",
    "The outcomes of a merger, as stated by the [Guidance about the register of merged charities](https://www.gov.uk/government/publications/register-of-merged-charities/guidance-about-the-register-of-merged-charities#why-register):\n",
    "\n",
    "> - your charity has closed or will close as a result of transferring your assets or\n",
    "> - your charity has not closed only because it has permanent endowment which will not be transferred to the charity you are merging with\n",
    "\n",
    "These repeat transferors might be falling into this second case."
   ]
  },
  {
   "cell_type": "code",
   "execution_count": null,
   "id": "a4058c9a-848c-4165-9c07-c3071d025e41",
   "metadata": {},
   "outputs": [],
   "source": [
    "# mergers of most frequent transferor\n",
    "consolidation_merger = df.loc[\n",
    "    df['transferor'].str.contains('1053467'),\n",
    "    ['transferor', 'transferee']\n",
    "].head()\n",
    "\n",
    "consolidation_merger = consolidation_merger.set_index('transferor', drop=True)\n",
    "\n",
    "dfi.export(\n",
    "    consolidation_merger,\n",
    "    '../charts/consolidation_merger.png',\n",
    "    table_conversion='selenium',\n",
    ")\n",
    "\n",
    "consolidation_merger"
   ]
  },
  {
   "cell_type": "markdown",
   "id": "4118f79b-cf43-4325-9fb1-697813907eb2",
   "metadata": {},
   "source": [
    "*The County Durham and Darlington NHS Foundation Trust Charity* seems to be a case of a large consolidation.\n",
    "\n",
    "A number of department-specific NHS charities have merged into one entity. The aim could be to consolidate funds/reduce administrative overhead/streamline operations."
   ]
  },
  {
   "cell_type": "code",
   "execution_count": null,
   "id": "084d1383-2c4e-4050-a4c3-4f32c58fb350",
   "metadata": {},
   "outputs": [],
   "source": [
    "# most frequent transferors by charity name\n",
    "df['transferor'].value_counts()[:10].to_frame()"
   ]
  },
  {
   "cell_type": "code",
   "execution_count": null,
   "id": "a8bd17da-008d-4b54-ad0c-b33dc23e3782",
   "metadata": {},
   "outputs": [],
   "source": [
    "# mergers of second most frequent transferor\n",
    "reverse_merger = df.loc[\n",
    "    df['transferor_number'] == '1189059'\n",
    "].set_index('transferee', drop=True)['transferor'].to_frame()\n",
    "\n",
    "dfi.export(\n",
    "    reverse_merger,\n",
    "    '../charts/reverse_merger.png',\n",
    "    table_conversion='selenium',\n",
    ")\n",
    "\n",
    "reverse_merger"
   ]
  },
  {
   "cell_type": "markdown",
   "id": "84fc4478-75db-4cfb-960a-6334ccb6916c",
   "metadata": {},
   "source": [
    "*The Parochial Church Council of the Ecclesiastical Parish of The A453 Churches of South Nottinghamshire* seems to be an example of a \"merged\" charity splitting into separate entities.\n",
    "\n",
    "It is the most frequent transferor among registered charities, having been in that position 5 times.\n",
    "\n",
    "While this seems to be a reverse merger, it could also be the parent charity distributing some assets to children charities."
   ]
  },
  {
   "cell_type": "markdown",
   "id": "28f0a38c-12de-4788-9bdf-ba328b6c5bf0",
   "metadata": {},
   "source": [
    "#### Most frequent transferees"
   ]
  },
  {
   "cell_type": "code",
   "execution_count": null,
   "id": "f0f569a1-7b94-4f32-8ec9-a2aaa07f190b",
   "metadata": {},
   "outputs": [],
   "source": [
    "# check that frequent transferees are all registered\n",
    "df['transferee_number'].value_counts()[:10]"
   ]
  },
  {
   "cell_type": "code",
   "execution_count": null,
   "id": "827cfbbb-ff7c-4186-9676-489ca8562b5a",
   "metadata": {},
   "outputs": [],
   "source": [
    "# most frequent transferees\n",
    "most_frequent_transferees = df['transferee'].value_counts()[:10].to_frame()\n",
    "\n",
    "dfi.export(\n",
    "    most_frequent_transferees,\n",
    "    '../charts/most_frequent_transferees.png',\n",
    "    table_conversion='selenium',\n",
    ")\n",
    "\n",
    "most_frequent_transferees"
   ]
  },
  {
   "cell_type": "markdown",
   "id": "2632b9b1-bf87-48d4-acc9-90f2494a5cc1",
   "metadata": {},
   "source": [
    "Without counting the outlier that merged 1200+ times, some transferees have gone through mergers >40 times."
   ]
  },
  {
   "cell_type": "code",
   "execution_count": null,
   "id": "6ba8fe75-e8c5-45ce-854d-3a16a69ef14e",
   "metadata": {},
   "outputs": [],
   "source": [
    "# frequencies of merger events for individual transferees\n",
    "transferee_freqs = (\n",
    "    df['transferee_number']\n",
    "    .value_counts()\n",
    "    .value_counts()\n",
    "    .reset_index(name='freqs')\n",
    ")\n",
    "\n",
    "transferee_freqs = transferee_freqs.sort_values(by='count')\n",
    "\n",
    "transferee_freqs.columns = ['count_of_mergers', 'frequency']\n",
    "\n",
    "transferee_freqs = transferee_freqs.set_index('count_of_mergers', drop=True)\n",
    "\n",
    "dfi.export(\n",
    "    transferee_freqs,\n",
    "    '../charts/transferee_freqs.png',\n",
    "    table_conversion='selenium',\n",
    ")\n",
    "\n",
    "transferee_freqs"
   ]
  },
  {
   "cell_type": "markdown",
   "id": "f4c9905f-31d8-4997-8dda-c2e288d693e9",
   "metadata": {},
   "source": [
    "Most transferees only go through a merger <5 times."
   ]
  },
  {
   "cell_type": "code",
   "execution_count": null,
   "id": "31e05d5a-78cc-4c00-a7bc-d2117edeae3f",
   "metadata": {},
   "outputs": [],
   "source": [
    "# mergers of most frequent transferee\n",
    "consolidation_merger_kingdom_hall_trust = df.loc[\n",
    "    df['transferee'].str.contains('Kingdom Hall Trust'),\n",
    "    ['transferor', 'transferee']\n",
    "].head()\n",
    "\n",
    "dfi.export(\n",
    "    consolidation_merger_kingdom_hall_trust,\n",
    "    '../charts/consolidation_merger_kingdom_hall_trust.png',\n",
    "    table_conversion='selenium',\n",
    ")\n",
    "\n",
    "consolidation_merger_kingdom_hall_trust = consolidation_merger_kingdom_hall_trust.set_index(\n",
    "    'transferor', drop=True\n",
    ")\n",
    "\n",
    "consolidation_merger_kingdom_hall_trust"
   ]
  },
  {
   "cell_type": "code",
   "execution_count": null,
   "id": "67d5c050-1b63-40cd-b035-9d8b3a9b1127",
   "metadata": {},
   "outputs": [],
   "source": [
    "# mergers of second most frequent transferee\n",
    "consolidation_merger_victim_support = df.loc[\n",
    "    df['transferee'].str.contains('Victim Support'),\n",
    "    ['transferor', 'transferee']\n",
    "].head()\n",
    "\n",
    "dfi.export(\n",
    "    consolidation_merger_victim_support,\n",
    "    '../charts/consolidation_merger_victim_support.png',\n",
    "    table_conversion='selenium',\n",
    ")\n",
    "\n",
    "consolidation_merger_victim_support = consolidation_merger_victim_support.set_index(\n",
    "    'transferor', drop=True\n",
    ")\n",
    "\n",
    "consolidation_merger_victim_support"
   ]
  },
  {
   "cell_type": "markdown",
   "id": "f5deac02-eadd-4789-96d7-eab58a4d8963",
   "metadata": {},
   "source": [
    "Both Kingdom Hall Trust and Victim Support (and other frequent transferees) seem to be consolidation mergers."
   ]
  },
  {
   "cell_type": "markdown",
   "id": "03da147b-1b7b-4066-8c50-54b3482a3f72",
   "metadata": {},
   "source": [
    "Summary from a [Brave](https://search.brave.com/search?q=The+Kingdom+Hall+Trust+&summary=1) search:\n",
    "\n",
    "> The Kingdom Hall Trust:\n",
    "> - Previously known as the London Company of Kingdom Witnesses, it was established on 28th July 1939 and changed its name to The Kingdom Hall Trust on 20th June 1994.\n",
    "> - It is a charity associated with Jehovah’s Witnesses, with the charity number GB-CHC-275946.\n",
    "> - The charity has undergone a significant merger in 2022, incorporating 1,279 Jehovah’s Witness congregations into the national charity. This is considered one of the largest charity mergers ever."
   ]
  },
  {
   "cell_type": "markdown",
   "id": "502e2cdc-7593-4e15-9a29-e2ce0286f54f",
   "metadata": {},
   "source": [
    "#### Count of mergers per year"
   ]
  },
  {
   "cell_type": "code",
   "execution_count": null,
   "id": "12a2471c-cc4a-47a7-a78f-6eb9af5a67c6",
   "metadata": {},
   "outputs": [],
   "source": [
    "# merger counts by year\n",
    "merger_counts = df.groupby(\n",
    "    df['date_registered'].dt.year, as_index=True\n",
    ")['date_registered'].count()\n",
    "\n",
    "merger_counts = merger_counts.to_frame('count').reset_index()\n",
    "\n",
    "merger_counts.T"
   ]
  },
  {
   "cell_type": "code",
   "execution_count": null,
   "id": "ae0c2eeb-3a8f-4f66-9588-b8e5c624e6ee",
   "metadata": {},
   "outputs": [],
   "source": [
    "# merger counts by year\n",
    "chart = (\n",
    "    alt.Chart(merger_counts)\n",
    "    .mark_bar()\n",
    "    .encode(\n",
    "        alt.Y('date_registered:N', title=''),\n",
    "        alt.X('count:Q', title=''),\n",
    "        alt.Color('date_registered:N', legend=None, scale=alt.Scale(scheme='dark2')),\n",
    "    )\n",
    "    .properties(\n",
    "        title='Mergers per year, 2008-2024',\n",
    "        width=600\n",
    "    )\n",
    ")\n",
    "\n",
    "chart.save('../charts/merger_counts.png')\n",
    "\n",
    "chart"
   ]
  },
  {
   "cell_type": "markdown",
   "id": "7bc61499-18d7-4385-afdd-29a9bf274ad3",
   "metadata": {},
   "source": [
    "### Joining with `annual returns` data (draft)"
   ]
  },
  {
   "cell_type": "markdown",
   "id": "eeeb6829-18fa-4ca4-bd96-362ef4046f0c",
   "metadata": {},
   "source": [
    "#### Load data"
   ]
  },
  {
   "cell_type": "code",
   "execution_count": null,
   "id": "849c81df-3c0f-4719-b63d-7d3f4dd4b301",
   "metadata": {},
   "outputs": [],
   "source": [
    "# load annual return data\n",
    "with open(\n",
    "    '../data/publicextract.charity_annual_return_history.json',\n",
    "    'r',\n",
    "    encoding='utf-8-sig',\n",
    ") as file:\n",
    "    data = json.load(file)\n",
    "\n",
    "df_ar = pd.DataFrame(data)"
   ]
  },
  {
   "cell_type": "markdown",
   "id": "025ae328-4a3f-47e9-b7c2-4409d77f4741",
   "metadata": {},
   "source": [
    "#### Cols"
   ]
  },
  {
   "cell_type": "code",
   "execution_count": null,
   "id": "23dda591-c969-413b-8fa3-ebe301605c11",
   "metadata": {},
   "outputs": [],
   "source": [
    "df_ar.head()"
   ]
  },
  {
   "cell_type": "code",
   "execution_count": null,
   "id": "deb854b7-8757-4756-9413-182894722fbc",
   "metadata": {},
   "outputs": [],
   "source": [
    "# select cols\n",
    "df_ar = df_ar[[\n",
    "    'registered_charity_number',\n",
    "    'fin_period_start_date',\n",
    "    'fin_period_end_date',\n",
    "    'total_gross_income',\n",
    "    'total_gross_expenditure',\n",
    "]]"
   ]
  },
  {
   "cell_type": "markdown",
   "id": "2a212030-f57f-49dd-afad-2d316891dbe0",
   "metadata": {},
   "source": [
    "#### `dtypes`"
   ]
  },
  {
   "cell_type": "code",
   "execution_count": null,
   "id": "4a24c412-92e1-4e2d-ae85-97c1ee4cf324",
   "metadata": {},
   "outputs": [],
   "source": [
    "df_ar.dtypes"
   ]
  },
  {
   "cell_type": "code",
   "execution_count": null,
   "id": "dff73f11-914e-45cc-b2ca-3e307254a892",
   "metadata": {},
   "outputs": [],
   "source": [
    "# convert date cols to datetime\n",
    "date_cols = [\n",
    "    'fin_period_start_date',\n",
    "    'fin_period_end_date',\n",
    "]\n",
    "\n",
    "df_ar[date_cols] = df_ar[date_cols].apply(pd.to_datetime)\n",
    "\n",
    "df_ar.head()"
   ]
  },
  {
   "cell_type": "code",
   "execution_count": null,
   "id": "0f781a09-e42e-48ba-9f4c-c26ad5ac464c",
   "metadata": {},
   "outputs": [],
   "source": [
    "df_ar.dtypes"
   ]
  },
  {
   "cell_type": "markdown",
   "id": "57503984-d78d-4c91-a605-855f8c59d6b8",
   "metadata": {},
   "source": [
    "#### Date cols"
   ]
  },
  {
   "cell_type": "code",
   "execution_count": null,
   "id": "0d8ae5c8-0050-479e-b2ac-0c9acd7448dc",
   "metadata": {},
   "outputs": [],
   "source": [
    "# extract year from date cols\n",
    "df_ar['fin_start_year'] = df_ar['fin_period_start_date'].dt.year\n",
    "df_ar['fin_end_year'] = df_ar['fin_period_end_date'].dt.year\n",
    "\n",
    "df_ar.head()"
   ]
  },
  {
   "cell_type": "markdown",
   "id": "84cf54fd-de01-4877-be90-c4befd577de3",
   "metadata": {},
   "source": [
    "#### Merge"
   ]
  },
  {
   "cell_type": "code",
   "execution_count": null,
   "id": "284f5f6e-94bf-413a-9c9f-6c18c6c5547b",
   "metadata": {},
   "outputs": [],
   "source": [
    "# extract merger years\n",
    "df['merger_year'] = df['date_transferred'].dt.year\n",
    "df['merger_year_next'] = df['merger_year'].apply(lambda x: x + 1)\n",
    "\n",
    "df.head()"
   ]
  },
  {
   "cell_type": "code",
   "execution_count": null,
   "id": "515eb02f-f395-47dc-a510-517ed1f9b1fd",
   "metadata": {},
   "outputs": [],
   "source": [
    "# convert charity number to string\n",
    "df_ar['registered_charity_number'] = df_ar['registered_charity_number'].apply(str)"
   ]
  },
  {
   "cell_type": "code",
   "execution_count": null,
   "id": "87381233-b34b-4f4c-9727-c091640b1906",
   "metadata": {},
   "outputs": [],
   "source": [
    "# drop cols\n",
    "df_ar = df_ar.drop(columns=[\n",
    "    'fin_period_start_date',\n",
    "    'fin_period_end_date',\n",
    "    'total_gross_expenditure',\n",
    "])"
   ]
  },
  {
   "cell_type": "code",
   "execution_count": null,
   "id": "dbabafde-e98f-4a3a-8a31-878042422cda",
   "metadata": {},
   "outputs": [],
   "source": [
    "# annual return of transferees\n",
    "df_merged_transferee = df.drop(\n",
    "    columns=['date_registered', 'registered-transfer']\n",
    ").merge(\n",
    "    df_ar,\n",
    "    left_on=['transferee_number', 'merger_year'],\n",
    "    right_on=['registered_charity_number', 'fin_start_year'],\n",
    "    how='left'\n",
    ").merge(\n",
    "    df_ar,\n",
    "    left_on=['transferee_number', 'merger_year_next'],\n",
    "    right_on=['registered_charity_number', 'fin_start_year'],\n",
    "    how='left'\n",
    ")"
   ]
  },
  {
   "cell_type": "code",
   "execution_count": null,
   "id": "65974d23-afb4-4127-85f2-d0bcc2377416",
   "metadata": {},
   "outputs": [],
   "source": [
    "# annual return of transferors\n",
    "df_merged_transferor = df.drop(\n",
    "    columns=['date_registered', 'registered-transfer']\n",
    ").merge(\n",
    "    df_ar,\n",
    "    left_on=['transferor_number', 'merger_year'],\n",
    "    right_on=['registered_charity_number', 'fin_start_year'],\n",
    "    how='left'\n",
    ").merge(\n",
    "    df_ar,\n",
    "    left_on=['transferor_number', 'merger_year_next'],\n",
    "    right_on=['registered_charity_number', 'fin_start_year'],\n",
    "    how='left'\n",
    ")"
   ]
  },
  {
   "cell_type": "markdown",
   "id": "375cf432-cc00-4d4a-8799-ab74d8d2b95a",
   "metadata": {},
   "source": [
    "#### Effect"
   ]
  },
  {
   "cell_type": "code",
   "execution_count": null,
   "id": "c8ceceb1-1266-4bac-a8ad-b2c6dcd74caa",
   "metadata": {},
   "outputs": [],
   "source": [
    "# drop null income values\n",
    "df_merged_transferee = df_merged_transferee.dropna(\n",
    "    subset=['total_gross_income_x', 'total_gross_income_y'],\n",
    "    how='all'\n",
    ")"
   ]
  },
  {
   "cell_type": "code",
   "execution_count": null,
   "id": "ff752afd-c8b0-4713-afc2-8939dc208f76",
   "metadata": {},
   "outputs": [],
   "source": [
    "# annual return change from year N to N+1\n",
    "df_merged_transferee['effect'] = (\n",
    "    (\n",
    "        df_merged_transferee['total_gross_income_y']\n",
    "        - df_merged_transferee['total_gross_income_x']\n",
    "    )\n",
    "    / df_merged_transferee['total_gross_income_x']\n",
    "    * 100\n",
    ")"
   ]
  },
  {
   "cell_type": "code",
   "execution_count": null,
   "id": "822aaa63-829e-49f0-bdf8-05e599272395",
   "metadata": {},
   "outputs": [],
   "source": [
    "# drop null income values\n",
    "df_merged_transferor = df_merged_transferor.dropna(\n",
    "    subset=['total_gross_income_x', 'total_gross_income_y'],\n",
    "    how='all'\n",
    ")"
   ]
  },
  {
   "cell_type": "code",
   "execution_count": null,
   "id": "254aca3a-740b-47d9-b6ee-c40d0c025fe9",
   "metadata": {},
   "outputs": [],
   "source": [
    "# annual return change from year N to N+1\n",
    "df_merged_transferor['effect'] = (\n",
    "    (\n",
    "        df_merged_transferor['total_gross_income_y']\n",
    "        - df_merged_transferor['total_gross_income_x']\n",
    "    )\n",
    "    / df_merged_transferor['total_gross_income_x']\n",
    "    * 100\n",
    ")"
   ]
  },
  {
   "cell_type": "markdown",
   "id": "c6ac178a-541c-4111-9299-43d847505070",
   "metadata": {},
   "source": [
    "### Effect of mergers on annual return (draft)"
   ]
  },
  {
   "cell_type": "code",
   "execution_count": null,
   "id": "eccb2d9a-a5b0-4493-aa33-83caff124527",
   "metadata": {},
   "outputs": [],
   "source": [
    "# charities with no income before merger\n",
    "new_charities = df_merged_transferee.loc[\n",
    "    (\n",
    "        pd.isna(df_merged_transferee['total_gross_income_x'])\n",
    "        | (df_merged_transferee['total_gross_income_x'] == 0)\n",
    "    )\n",
    "    & (df_merged_transferee['total_gross_income_y'] > 0)\n",
    "].shape[0] / df_merged_transferee.shape[0]\n",
    "\n",
    "print(f'{new_charities:.0%} of mergers result in the creation of new charities')"
   ]
  },
  {
   "cell_type": "markdown",
   "id": "0c210c44-b3eb-432b-b19c-98de40168cae",
   "metadata": {},
   "source": [
    "12% of mergers result in the creation of new charities.\n",
    "\n",
    "As indicated by the number of unregistered organisations or organisations with an annual return of 0 before merger, and >0 after merger."
   ]
  },
  {
   "cell_type": "code",
   "execution_count": null,
   "id": "59ff4273-cd72-4b66-85f1-8964dc03355b",
   "metadata": {},
   "outputs": [],
   "source": [
    "# charities with an income before and after merger\n",
    "existing_charities = df_merged_transferee.loc[\n",
    "    ~(\n",
    "        pd.isna(df_merged_transferee['total_gross_income_x'])\n",
    "        | (df_merged_transferee['total_gross_income_x'] == 0)\n",
    "    )\n",
    "]"
   ]
  },
  {
   "cell_type": "code",
   "execution_count": null,
   "id": "32518b56-f98c-458b-b3b5-e5b0f122deee",
   "metadata": {},
   "outputs": [],
   "source": [
    "# effect of mergers on annual return\n",
    "chart = (\n",
    "    alt.Chart(existing_charities['effect'].dropna().apply(round).to_frame())\n",
    "    .mark_bar()\n",
    "    .encode(\n",
    "        alt.X('effect:Q').scale(domain=[-105, 105], clamp=True).title('effect (%)'),\n",
    "        alt.Y('count():Q').title(''),\n",
    "    )\n",
    ").properties(\n",
    "    title='Effect of mergers on annual return of transferees'\n",
    ")\n",
    "\n",
    "chart.save('../charts/effect_transferees.png')\n",
    "\n",
    "chart"
   ]
  },
  {
   "cell_type": "markdown",
   "id": "71543b10-df94-4442-bfdb-1089285d45d1",
   "metadata": {},
   "source": [
    "Most mergers seem to result in the transferee having a 80% decrease of their annual return.\n",
    "\n",
    "This peak at 1200 is reminiscent of a previous chart however..."
   ]
  },
  {
   "cell_type": "code",
   "execution_count": null,
   "id": "29543bbc-3b97-4f5a-9ad6-3b5687b7b885",
   "metadata": {},
   "outputs": [],
   "source": [
    "# charities with especially large effects\n",
    "existing_charities.loc[\n",
    "    (existing_charities['effect'] < -75)\n",
    "    & (existing_charities['effect'] > -80) \n",
    "]"
   ]
  },
  {
   "cell_type": "markdown",
   "id": "9db32646-bc16-4cfe-9469-789b02bb4a84",
   "metadata": {},
   "source": [
    "What happens if we exclude Kingdom Hall Trust from our analysis?"
   ]
  },
  {
   "cell_type": "code",
   "execution_count": null,
   "id": "6945f06a-01a1-4b54-89d2-a25d721add32",
   "metadata": {},
   "outputs": [],
   "source": [
    "# drop Kingdom Hall Trust from records\n",
    "existing_charities_sans_kht = existing_charities.loc[\n",
    "    ~existing_charities['transferee'].str.lower().str.contains('kingdom hall')\n",
    "]"
   ]
  },
  {
   "cell_type": "code",
   "execution_count": null,
   "id": "1363db68-e07b-4bbe-a48c-c92c29a3738c",
   "metadata": {},
   "outputs": [],
   "source": [
    "# effect of mergers on annual return\n",
    "chart = (\n",
    "    alt.Chart(existing_charities_sans_kht['effect'].dropna().apply(round).to_frame())\n",
    "    .mark_bar()\n",
    "    .encode(\n",
    "        alt.X('effect:Q').scale(domain=[-105, 105], clamp=True).title('effect (%)'),\n",
    "        alt.Y('count():Q').title(''),\n",
    "    )\n",
    ").properties(\n",
    "    title=[\n",
    "        'Effect of mergers on annual return of transferees',\n",
    "        '(sans Kingdom Hall Trust)'\n",
    "    ]\n",
    ")\n",
    "\n",
    "chart.save('../charts/effect_transferees_sans.png')\n",
    "\n",
    "chart"
   ]
  },
  {
   "cell_type": "markdown",
   "id": "72bd5fc0-aa8c-46c6-814c-3c0348f751cf",
   "metadata": {},
   "source": [
    "The bulk of transferees seem to have had +/- 40% change to their annual returns within the financial period that a merger happened in."
   ]
  },
  {
   "cell_type": "code",
   "execution_count": null,
   "id": "d3e87067-1a4f-4b89-b839-3d6986463ce5",
   "metadata": {},
   "outputs": [],
   "source": [
    "# effect of mergers on annual return\n",
    "chart = (\n",
    "    alt.Chart(df_merged_transferor['effect'].dropna().apply(round).to_frame())\n",
    "    .mark_bar()\n",
    "    .encode(\n",
    "        alt.X('effect:Q').title('effect (%)'),\n",
    "        alt.Y('count():Q').title('')\n",
    "    )\n",
    ").properties(\n",
    "    title='Effect of mergers on annual return of transferors'\n",
    ")\n",
    "\n",
    "chart.save('../charts/effect_transferors.png')\n",
    "\n",
    "chart"
   ]
  },
  {
   "cell_type": "markdown",
   "id": "f54dd6ee-bca2-4045-936c-3ae8adfdaae9",
   "metadata": {},
   "source": [
    "For most transferors, their annual return either went to 0 or remained the same.\n",
    "\n",
    "\n",
    "This indicates that most transferors either merge into the transferee and cease to exist as an entity, or their merger is largely inconsequential in terms of annual return."
   ]
  }
 ],
 "metadata": {
  "jupytext": {
   "formats": "ipynb,py:percent"
  },
  "kernelspec": {
   "display_name": "Python 3 (ipykernel)",
   "language": "python",
   "name": "python3"
  },
  "language_info": {
   "codemirror_mode": {
    "name": "ipython",
    "version": 3
   },
   "file_extension": ".py",
   "mimetype": "text/x-python",
   "name": "python",
   "nbconvert_exporter": "python",
   "pygments_lexer": "ipython3",
   "version": "3.11.8"
  }
 },
 "nbformat": 4,
 "nbformat_minor": 5
}
