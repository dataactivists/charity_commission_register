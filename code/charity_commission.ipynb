{
 "cells": [
  {
   "cell_type": "markdown",
   "id": "d7763b51-c18a-4940-b0d8-d5db24453cbd",
   "metadata": {},
   "source": [
    "# Charity Commission register: exploratory analysis"
   ]
  },
  {
   "cell_type": "markdown",
   "id": "f832ad43-e3a9-4f77-b00a-8b74db53be63",
   "metadata": {},
   "source": [
    "## Roadmap"
   ]
  },
  {
   "cell_type": "markdown",
   "id": "e8a00659-f4d3-4d1a-b951-4541a522ab96",
   "metadata": {},
   "source": [
    "This repo aims to be an exhaustive analysis of the data released by the Charity Commission at https://register-of-charities.charitycommission.gov.uk/register/full-register-download.\n",
    "\n",
    "Some of the questions we want to look at:\n",
    "- [x] most frequent transferors\n",
    "- [x] most frequent transferees\n",
    "- [x] evolution of number of mergers per year\n",
    "- [x] what are the annual returns of the transferee before/after the merger?\n",
    "- [x] what's the size of transferors/transferees in terms of annual return?\n",
    "- [ ] what is the median number of trustees per charity?\n",
    "- [ ] who are \"repeat trustees\"?"
   ]
  },
  {
   "cell_type": "markdown",
   "id": "7cc68c49-54b8-4bd1-8259-fe9e07c7d009",
   "metadata": {},
   "source": [
    "For starters, the analysis covers the [Register of merged charities](https://www.gov.uk/government/publications/register-of-merged-charities) data."
   ]
  },
  {
   "cell_type": "markdown",
   "id": "0a9749dc-8ec1-42b6-9cb8-74a16a08cb7b",
   "metadata": {},
   "source": [
    "See the [notebook](https://github.com/dataactivists/charity_commission_register/blob/main/code/charity_commission.ipynb) for the charts."
   ]
  },
  {
   "cell_type": "markdown",
   "id": "5daf1142-5c1b-4a42-8549-a6dfc6c0d309",
   "metadata": {
    "lines_to_next_cell": 0
   },
   "source": [
    "## Imports"
   ]
  },
  {
   "cell_type": "code",
   "execution_count": null,
   "id": "1b3d3f52-fa8f-4a9c-9c43-c3cd8cd592df",
   "metadata": {
    "lines_to_next_cell": 0
   },
   "outputs": [],
   "source": [
    "import altair as alt\n",
    "import dataframe_image as dfi\n",
    "import json\n",
    "import numpy as np\n",
    "import pandas as pd\n",
    "import seaborn as sns"
   ]
  },
  {
   "cell_type": "markdown",
   "id": "d2570a1d-066c-4950-a8f2-95c011d41f22",
   "metadata": {},
   "source": [
    "## Register of merged charities"
   ]
  },
  {
   "cell_type": "markdown",
   "id": "91590439-3c85-4dd8-841b-db7062073ae3",
   "metadata": {
    "jp-MarkdownHeadingCollapsed": true
   },
   "source": [
    "### Intro"
   ]
  },
  {
   "cell_type": "markdown",
   "id": "7261755e-5eb2-4599-96c4-99296385d2c4",
   "metadata": {},
   "source": [
    "The data can be found at https://www.gov.uk/government/publications/register-of-merged-charities."
   ]
  },
  {
   "cell_type": "markdown",
   "id": "a9317bf6-cbe4-4306-94e6-26c7920cb4f9",
   "metadata": {},
   "source": [
    "- [Merging two or more Charitable Incorporated Organisations (CIOs)](https://www.gov.uk/government/publications/register-of-merged-charities/guidance-about-the-register-of-merged-charities#merging-two-or-more-charitable-incorporated-organisations-cios) does not require the merger to be registered. Consequently, the register of merged charities will be missing this data. Does this data need to be FOIA'd?"
   ]
  },
  {
   "cell_type": "markdown",
   "id": "5b512df3-0ba3-4624-912c-72d059e6eba9",
   "metadata": {
    "jp-MarkdownHeadingCollapsed": true
   },
   "source": [
    "### Cleaning `merger` data"
   ]
  },
  {
   "cell_type": "markdown",
   "id": "bc8358d8-5719-4c1a-9f2b-fcdc21f75055",
   "metadata": {
    "jp-MarkdownHeadingCollapsed": true
   },
   "source": [
    "#### Load data"
   ]
  },
  {
   "cell_type": "code",
   "execution_count": null,
   "id": "ce3ac5fa-e205-48b3-8a9b-c6b9c4229813",
   "metadata": {},
   "outputs": [],
   "source": [
    "df = pd.read_csv('../data/mergers_register_july_2024.csv', encoding='cp1252')"
   ]
  },
  {
   "cell_type": "markdown",
   "id": "c7a9eaf7-615b-477e-af84-170f6aca0814",
   "metadata": {
    "jp-MarkdownHeadingCollapsed": true
   },
   "source": [
    "#### Cols"
   ]
  },
  {
   "cell_type": "code",
   "execution_count": null,
   "id": "7bdf7726-e53b-43da-9819-0c6a0a7d58d9",
   "metadata": {},
   "outputs": [],
   "source": [
    "df.head()"
   ]
  },
  {
   "cell_type": "code",
   "execution_count": null,
   "id": "7f7eeb91-0d67-4c0f-b225-6032a3190fed",
   "metadata": {},
   "outputs": [],
   "source": [
    "# shorten col names\n",
    "df.columns = [\n",
    "    'transferor',\n",
    "    'transferee',\n",
    "    'date_vesting',\n",
    "    'date_transferred',\n",
    "    'date_registered',\n",
    "]"
   ]
  },
  {
   "cell_type": "code",
   "execution_count": null,
   "id": "61ca08bd-55fe-4862-9a38-2a002477916a",
   "metadata": {},
   "outputs": [],
   "source": [
    "df.info()"
   ]
  },
  {
   "cell_type": "code",
   "execution_count": null,
   "id": "f7327881-e87c-4db5-9a63-197206c056f3",
   "metadata": {},
   "outputs": [],
   "source": [
    "# drop column with null values\n",
    "df = df.drop(columns='date_vesting')"
   ]
  },
  {
   "cell_type": "markdown",
   "id": "db9cf6d7-96eb-4b2e-bbb3-aecbd564f6d5",
   "metadata": {
    "jp-MarkdownHeadingCollapsed": true
   },
   "source": [
    "#### `dtypes`"
   ]
  },
  {
   "cell_type": "code",
   "execution_count": null,
   "id": "2722108d-066c-468f-a29f-7b242ebd4ad7",
   "metadata": {},
   "outputs": [],
   "source": [
    "df.dtypes"
   ]
  },
  {
   "cell_type": "code",
   "execution_count": null,
   "id": "54f075b5-36c0-4bb2-8efa-6fd1361c76e0",
   "metadata": {},
   "outputs": [],
   "source": [
    "df.convert_dtypes().dtypes"
   ]
  },
  {
   "cell_type": "code",
   "execution_count": null,
   "id": "f92df05b-4929-4985-8f17-29741f6d719a",
   "metadata": {},
   "outputs": [],
   "source": [
    "# strip whitespace\n",
    "df['transferor'] = df['transferor'].apply(str.strip)\n",
    "df['transferee'] = df['transferee'].apply(str.strip)"
   ]
  },
  {
   "cell_type": "code",
   "execution_count": null,
   "id": "9b29c2c1-036b-457b-a5ad-0252f1eca9a6",
   "metadata": {},
   "outputs": [],
   "source": [
    "# convert date cols to datetime\n",
    "date_cols = ['date_transferred', 'date_registered']\n",
    "\n",
    "df[date_cols] = df[date_cols].apply(lambda x: pd.to_datetime(x, format='%d/%m/%Y'))\n",
    "\n",
    "df.head()"
   ]
  },
  {
   "cell_type": "markdown",
   "id": "4803004e-ea0e-4a56-88fa-930a9b5250ab",
   "metadata": {
    "jp-MarkdownHeadingCollapsed": true
   },
   "source": [
    "#### Date cols"
   ]
  },
  {
   "cell_type": "markdown",
   "id": "a139d33a-efc6-4556-9c48-47fa30c03146",
   "metadata": {},
   "source": [
    "This dataset contains transfers dated from 1990, while registrations only start in 2007."
   ]
  },
  {
   "cell_type": "code",
   "execution_count": null,
   "id": "a6ce25f8-da62-4660-a0f7-75fb26f08437",
   "metadata": {},
   "outputs": [],
   "source": [
    "# calculate timespan between date of transfer and date of registration\n",
    "df['registered-transfer'] = (\n",
    "    df['date_registered'] - df['date_transferred']\n",
    ").dt.days / 365\n",
    "\n",
    "df.sort_values('registered-transfer')"
   ]
  },
  {
   "cell_type": "code",
   "execution_count": null,
   "id": "699f6fad-bb7a-477d-884c-773f673b4e9e",
   "metadata": {},
   "outputs": [],
   "source": [
    "# transfer and registration by year\n",
    "\n",
    "chart = (\n",
    "    alt.Chart(df[['date_registered', 'date_transferred']])\n",
    "    .mark_circle(point=alt.OverlayMarkDef(filled=False))\n",
    "    .transform_calculate(year_registration='year(datum.date_registered)')\n",
    "    .transform_calculate(year_transfer='year(datum.date_transferred)')\n",
    "    .encode(\n",
    "        alt.Y('year_registration:O').sort('-y'),\n",
    "        alt.X('year_transfer:O').sort('x'),\n",
    "    )\n",
    "    .properties(title='Year of transfer vs registration')\n",
    ")\n",
    "\n",
    "chart.save('../charts/transfer_vs_registration_year.png')\n",
    "\n",
    "chart"
   ]
  },
  {
   "cell_type": "code",
   "execution_count": null,
   "id": "96cf6af9-a99e-4c6f-a5b9-0c237d65419b",
   "metadata": {},
   "outputs": [],
   "source": [
    "# count of transfer and registration by year\n",
    "\n",
    "chart = (\n",
    "    alt.Chart(df[['date_registered', 'date_transferred']])\n",
    "    .mark_line(point=alt.OverlayMarkDef(filled=False))\n",
    "    .transform_calculate(year_registration='year(datum.date_registered)')\n",
    "    .transform_calculate(year_transfer='year(datum.date_transferred)')\n",
    "    .transform_fold(['year_registration', 'year_transfer'], as_=['type', 'year'])\n",
    "    .encode(\n",
    "        alt.X('year:O').title('Year'),\n",
    "        alt.Y('count():Q').title(''),\n",
    "        alt.Color('type:N').legend(title='Type'), \n",
    "    )\n",
    "    .properties(title='Count of transfers and registrations by year')\n",
    ")\n",
    "\n",
    "chart.save('../charts/count_transfer_registration_year.png')\n",
    "\n",
    "chart"
   ]
  },
  {
   "cell_type": "code",
   "execution_count": null,
   "id": "744cf896-cd16-484a-9af1-512ced19a819",
   "metadata": {},
   "outputs": [],
   "source": [
    "# distribution of timespans between transfer and registration\n",
    "chart_diff_line = (\n",
    "    alt.Chart(df[['date_transferred', 'registered-transfer']])\n",
    "    .mark_line(color='darkred')\n",
    "    .encode(\n",
    "        alt.X('year(date_transferred):T').title('year of transfer'),\n",
    "        alt.Y('registered-transfer:Q').title('Timespan between transfer and registration'),\n",
    "    )\n",
    ")\n",
    "\n",
    "chart_diff_hist = (\n",
    "    alt.Chart(df['registered-transfer'].to_frame())\n",
    "    .mark_bar(color='darkred')\n",
    "    .encode(\n",
    "        alt.X('count():Q').title('frequencies of specific timespans'),\n",
    "        alt.Y('registered-transfer:Q').title('').axis(labels=False),\n",
    "    )\n",
    ")\n",
    "\n",
    "chart = (\n",
    "    alt.hconcat(chart_diff_line, chart_diff_hist).resolve_axis(y='shared')\n",
    "    .properties(title='Patterns of number of years between transfer and registration')\n",
    ")\n",
    "\n",
    "chart.save('../charts/diff_transfer_registration_year.png')\n",
    "\n",
    "chart"
   ]
  },
  {
   "cell_type": "code",
   "execution_count": null,
   "id": "d52a741f-0ba3-40b0-a340-2f32f0cb8443",
   "metadata": {},
   "outputs": [],
   "source": [
    "df.loc[df['registered-transfer'] > 10].sort_values(\n",
    "    'registered-transfer', ascending=False\n",
    ")"
   ]
  },
  {
   "cell_type": "markdown",
   "id": "771f61e1-a1ec-4904-8179-ad102e09ce8c",
   "metadata": {},
   "source": [
    "It seems that the *Register of merged charities* contains mergers from 1990, while the registrations start in late 2007.\n",
    "\n",
    "It seems unlikely that these very few ancient transfers and their late registrations represent reality. The repetitive seesaw pattern also seems to indicate errors, though it's not obvious what it's due to.\n",
    "\n",
    "We'll choose to drop any transfers from <2008 in our analysis, as they are few and represent the bulk of the long `registered-transfer` durations."
   ]
  },
  {
   "cell_type": "code",
   "execution_count": null,
   "id": "f39a9967-a5e2-4366-b421-4887320c7915",
   "metadata": {},
   "outputs": [],
   "source": [
    "# drop transfers from <2008\n",
    "df = df.loc[df['date_transferred'].dt.year >= 2008]"
   ]
  },
  {
   "cell_type": "code",
   "execution_count": null,
   "id": "4d6326c5-5ebe-4fed-871d-7cf5baede123",
   "metadata": {},
   "outputs": [],
   "source": [
    "# count of transfer and registration by year\n",
    "\n",
    "chart = (\n",
    "    alt.Chart(df[['date_registered', 'date_transferred']])\n",
    "    .mark_line(point=alt.OverlayMarkDef(filled=False))\n",
    "    .transform_calculate(year_registration='year(datum.date_registered)')\n",
    "    .transform_calculate(year_transfer='year(datum.date_transferred)')\n",
    "    .transform_fold(['year_registration', 'year_transfer'], as_=['type', 'year'])\n",
    "    .encode(\n",
    "        alt.X('year:O').title('Year'),\n",
    "        alt.Y('count():Q').title(''),\n",
    "        alt.Color('type:N').legend(title='Type'), \n",
    "    )\n",
    "    .properties(title='Count of transfers and registrations by year (after 2007)')\n",
    ")\n",
    "\n",
    "chart.save('../charts/count_transfer_registration_year_trimmed.png')\n",
    "\n",
    "chart"
   ]
  },
  {
   "cell_type": "code",
   "execution_count": null,
   "id": "3abbda48-33a0-456f-bc69-536661d5e63c",
   "metadata": {},
   "outputs": [],
   "source": [
    "# distribution of timespans between transfer and registration\n",
    "chart_diff_line = (\n",
    "    alt.Chart(df[['date_transferred', 'registered-transfer']])\n",
    "    .mark_line(color='darkred')\n",
    "    .encode(\n",
    "        alt.X('year(date_transferred):T').title('year of transfer'),\n",
    "        alt.Y('registered-transfer:Q').title('Timespan between transfer and registration'),\n",
    "    )\n",
    ")\n",
    "\n",
    "chart_diff_hist = (\n",
    "    alt.Chart(df['registered-transfer'].to_frame())\n",
    "    .mark_bar(color='darkred')\n",
    "    .encode(\n",
    "        alt.X('count():Q').title('frequencies of specific timespans'),\n",
    "        alt.Y('registered-transfer:Q').title('').axis(labels=False),\n",
    "    )\n",
    ")\n",
    "\n",
    "chart = (\n",
    "    alt.hconcat(chart_diff_line, chart_diff_hist).resolve_axis(y='shared')\n",
    "    .properties(title='Patterns of number of years between transfer and registration (after 2007)')\n",
    ")\n",
    "\n",
    "chart.save('../charts/diff_transfer_registration_year_trimmed.png')\n",
    "\n",
    "chart"
   ]
  },
  {
   "cell_type": "markdown",
   "id": "51976586-2252-49e5-b4a2-f926e7b6015d",
   "metadata": {
    "jp-MarkdownHeadingCollapsed": true
   },
   "source": [
    "#### Extract charity numbers"
   ]
  },
  {
   "cell_type": "code",
   "execution_count": null,
   "id": "61da1887-af08-4c1e-8b9c-fc6ad1f9f959",
   "metadata": {},
   "outputs": [],
   "source": [
    "# check how charity numbers are indicated at end of string\n",
    "df['transferor'].sample(10, random_state=42).str[-35:]"
   ]
  },
  {
   "cell_type": "code",
   "execution_count": null,
   "id": "21f233c4-252b-4591-9e00-cd1f14740902",
   "metadata": {},
   "outputs": [],
   "source": [
    "# separators in charity numbers\n",
    "df['transferor'].str.extract(r'\\(\\d+(\\D)\\d+\\)$').dropna()[0].unique()"
   ]
  },
  {
   "cell_type": "code",
   "execution_count": null,
   "id": "00cfa612-5601-4dcf-b009-05d1235f8f71",
   "metadata": {},
   "outputs": [],
   "source": [
    "# create charity number cols by extracting contents of last group in parentheses\n",
    "# and filling any null values with any string of 5+ digits contained in the string\n",
    "df['transferor_number'] = df['transferor'].str.lower().str.extract(\n",
    "    pat=r'\\(([^\\(]+?)\\)$'\n",
    ")\n",
    "df['transferor_number'] = df['transferor_number'].str.replace(pat=r'[\\-\\.\\/]', repl='-')\n",
    "df['transferor_number'] = df['transferor_number'].combine_first(\n",
    "    df['transferor'].str.extract(pat=r'(\\d{5,})')[0]\n",
    ")\n",
    "\n",
    "df['transferee_number'] = df['transferee'].str.lower().str.extract(\n",
    "    pat=r'\\(([^\\(]+?)\\)$'\n",
    ")\n",
    "df['transferee_number'] = df['transferee_number'].str.replace(pat=r'[\\-\\.\\/]', repl='-')\n",
    "df['transferee_number'] = df['transferee_number'].combine_first(\n",
    "    df['transferee'].str.extract(pat=r'(\\d{5,})')[0]\n",
    ")"
   ]
  },
  {
   "cell_type": "code",
   "execution_count": null,
   "id": "ba48c75e-f2b4-4a1b-b8e6-fec11442e3e8",
   "metadata": {},
   "outputs": [],
   "source": [
    "# list values that are not charity numbers\n",
    "no_charity_number_transferors = df['transferor_number'].loc[\n",
    "    df['transferor_number'].apply(str).str.contains(r'[a-zA-Z]')\n",
    "].value_counts().to_frame()\n",
    "\n",
    "dfi.export(\n",
    "    no_charity_number_transferors,\n",
    "    '../charts/no_charity_number_transferors.png',\n",
    "    table_conversion='selenium'\n",
    ")\n",
    "\n",
    "no_charity_number_transferors"
   ]
  },
  {
   "cell_type": "code",
   "execution_count": null,
   "id": "efab6fd3-b89c-4063-9094-88651a29f7c4",
   "metadata": {},
   "outputs": [],
   "source": [
    "# standardise values that are not charity numbers\n",
    "df['transferor_number'] = df['transferor_number'].replace(\n",
    "    to_replace={\n",
    "        'unregistered .*': 'unregistered',\n",
    "        'exempt.*': 'exempt',\n",
    "        '.*excepted.*': 'excepted',\n",
    "        'unincorporated .*': 'unincorporated',\n",
    "        'not registered': 'unregistered',\n",
    "    },\n",
    "    regex=True,\n",
    ").replace(\n",
    "    to_replace={\n",
    "        value: 'other' for value in [\n",
    "            'unrestricted assets only', \n",
    "            'formerly known as mount zion evangelical church',\n",
    "            'herne bay branch',\n",
    "            'bottley',\n",
    "            'mrs m gee trust',\n",
    "        ]\n",
    "    }\n",
    ")\n",
    "\n",
    "df['transferor_number'].loc[\n",
    "    ~df['transferor_number'].apply(str).str.contains(r'\\d')\n",
    "].value_counts()"
   ]
  },
  {
   "cell_type": "code",
   "execution_count": null,
   "id": "a2da8ece-e837-4653-b7cd-44130e41cd4b",
   "metadata": {},
   "outputs": [],
   "source": [
    "# list values that are not charity numbers\n",
    "no_charity_number_transferees = df['transferee_number'].loc[\n",
    "    df['transferee_number'].apply(str).str.contains(r'[a-zA-Z]')\n",
    "].value_counts().to_frame()\n",
    "\n",
    "dfi.export(\n",
    "    no_charity_number_transferees,\n",
    "    '../charts/no_charity_number_transferees.png',\n",
    "    table_conversion='selenium'\n",
    ")\n",
    "\n",
    "no_charity_number_transferees"
   ]
  },
  {
   "cell_type": "code",
   "execution_count": null,
   "id": "2510a872-f821-4b02-a865-8c57876c4107",
   "metadata": {},
   "outputs": [],
   "source": [
    "# standardise values that are not charity numbers\n",
    "df['transferee_number'] = df['transferee_number'].replace(\n",
    "    to_replace={\n",
    "        'exempt.*': 'exempt',\n",
    "        'incorporating the merrett bequest': 'other',\n",
    "        'cio': 'other',\n",
    "        'picpus': 'other',\n",
    "    },\n",
    "    regex=True,\n",
    ")\n",
    "\n",
    "df['transferee_number'].loc[\n",
    "    df['transferee_number'].apply(str).str.contains(r'[a-zA-Z]')\n",
    "].value_counts()"
   ]
  },
  {
   "cell_type": "markdown",
   "id": "4680b7cc-8fe6-4400-a14e-d5917184d850",
   "metadata": {},
   "source": [
    "Charity numbers are generally indicated in the data files as a series of digits between parentheses at the end of the charity name: for example, `Crisis UK (1082947)`.\n",
    "\n",
    "The charity numbers are sometimes not between parentheses, or contain varying separator characters (`1170369-1` vs `1053467.01`), or the parentheses contain some other information.\n",
    "\n",
    "Often, the charity is exempt from having a registration number, and the reason is often indicated, but it is not provided systematically, and the wording varies greatly.\n",
    "\n",
    "That **the charity numbers or their absence are not indicated in a standardised way** translates to a **need to identify and evaluate the discrepancies case by case**, as this is key information which cannot be discarded. For example, to find which charities are exempt from registration, one first needs to find the many ways that this information is conveyed (\"exempt\", \"excepted\", \"all exempted\", etc.)."
   ]
  },
  {
   "cell_type": "markdown",
   "id": "877953a4-7004-4fbe-a6e8-30426f2553b0",
   "metadata": {
    "jp-MarkdownHeadingCollapsed": true
   },
   "source": [
    "#### Charity name spelling"
   ]
  },
  {
   "cell_type": "code",
   "execution_count": null,
   "id": "7ef62ebf-0bba-4297-b6f8-f0872630f2cd",
   "metadata": {},
   "outputs": [],
   "source": [
    "duplicate_names_transferees = df.loc[\n",
    "    ~(df['transferee_number'].apply(str).str.contains(r'[a-zA-Z]')),\n",
    "    ['transferee_number', 'transferee']\n",
    "].drop_duplicates().groupby(\n",
    "    'transferee_number'\n",
    ").count().sort_values('transferee')\n",
    "\n",
    "print(\n",
    "    f'''\n",
    "    {duplicate_names_transferees.loc[\n",
    "        duplicate_names_transferees['transferee'] > 1\n",
    "    ].size / duplicate_names_transferees.size:.1%} of charity numbers have >1 charity name\n",
    "    '''\n",
    ")"
   ]
  },
  {
   "cell_type": "code",
   "execution_count": null,
   "id": "fbfd97df-fed7-42b7-81b6-33720105d843",
   "metadata": {},
   "outputs": [],
   "source": [
    "duplicate_names_transferees = duplicate_names_transferees.loc[\n",
    "    duplicate_names_transferees['transferee'] > 1\n",
    "]\n",
    "\n",
    "duplicate_names_transferees.head()"
   ]
  },
  {
   "cell_type": "code",
   "execution_count": null,
   "id": "26c8f610-30c3-4506-83dc-38399f149361",
   "metadata": {},
   "outputs": [],
   "source": [
    "duplicate_names_transferees = df.set_index('transferee_number').loc[\n",
    "    duplicate_names_transferees.index,\n",
    "    'transferee'\n",
    "].drop_duplicates().sort_values().values\n",
    "\n",
    "duplicate_names_transferees"
   ]
  },
  {
   "cell_type": "code",
   "execution_count": null,
   "id": "8da76a94-0ae1-4eba-b4f6-75520ca578d1",
   "metadata": {},
   "outputs": [],
   "source": [
    "duplicate_names_transferors = df.loc[\n",
    "    ~(df['transferor_number'].apply(str).str.contains(r'[a-zA-Z]')),\n",
    "    ['transferor_number', 'transferor']\n",
    "].drop_duplicates().groupby(\n",
    "    'transferor_number'\n",
    ").count().sort_values('transferor')\n",
    "\n",
    "print(\n",
    "    f'''\n",
    "    {duplicate_names_transferors.loc[\n",
    "        duplicate_names_transferors['transferor'] > 1\n",
    "    ].size / duplicate_names_transferors.size:.1%} of charity numbers have >1 charity name\n",
    "    '''\n",
    ")"
   ]
  },
  {
   "cell_type": "code",
   "execution_count": null,
   "id": "3e73a7dd-3b9b-472f-b739-4280c5272cc1",
   "metadata": {},
   "outputs": [],
   "source": [
    "duplicate_names_transferors = duplicate_names_transferors.loc[\n",
    "    duplicate_names_transferors['transferor'] > 1\n",
    "]\n",
    "\n",
    "duplicate_names_transferors = df.set_index('transferor_number').loc[\n",
    "    duplicate_names_transferors.index,\n",
    "    'transferor'\n",
    "].drop_duplicates().sort_values().values"
   ]
  },
  {
   "cell_type": "markdown",
   "id": "03914bb9-bf09-49a8-be4e-0cd6e0d6b4c7",
   "metadata": {},
   "source": [
    "### Number of mergers over time"
   ]
  },
  {
   "cell_type": "markdown",
   "id": "08330fea-7b63-47ae-b4c8-b70006c9cc44",
   "metadata": {
    "jp-MarkdownHeadingCollapsed": true
   },
   "source": [
    "#### Most frequent transferors"
   ]
  },
  {
   "cell_type": "code",
   "execution_count": null,
   "id": "c1b07c01-7f88-436e-8a49-812155d96cc2",
   "metadata": {},
   "outputs": [],
   "source": [
    "# registered vs unregistered\n",
    "registered_vs_unregistered_transferors = df['transferor_number'].apply(\n",
    "    lambda x: 'exempt/unregistered/similar' if str(x).isalpha() else 'registered'\n",
    ").value_counts().to_frame()\n",
    "\n",
    "dfi.export(\n",
    "    registered_vs_unregistered_transferors,\n",
    "    '../charts/registered_vs_unregistered_transferors.png',\n",
    "    table_conversion='selenium',\n",
    ")\n",
    "\n",
    "registered_vs_unregistered_transferors"
   ]
  },
  {
   "cell_type": "markdown",
   "id": "a2293a2c-5903-475e-b898-faa842c719f6",
   "metadata": {},
   "source": [
    "The unregistered, exempt, or excepted transferors are relatively few. \n",
    "\n",
    "The [Guidance about the register of merged charities](https://www.gov.uk/government/publications/register-of-merged-charities/guidance-about-the-register-of-merged-charities#different-types-of-merger) states:\n",
    "\n",
    "> There are different types of merger:\n",
    "> \n",
    ">   - merging with an existing charity\n",
    ">   - merging with a new charity you have set up for the purpose of merging\n",
    ">   - changing structure - usually a trust or unincorporated association that wants to change to a CIO or charitable company.\n",
    "\n",
    "\n",
    "These unregistered/exempt/excepted transferors might fall into either of two categories:\n",
    "\n",
    "- Mergers of **very small charities (which are unregistered/exempt) officially joining bigger ones**. It's likely that these small charities are merging with larger ones to gain economies of scale, access to more resources, or to increase their impact. Alternatively, they might be facing hurdles due to funding constraints, regulatory burdens, or other challenges, and merging with a larger charity is a way to ensure their assets and mission continue.\n",
    "- Mergers of charities into **a new structure (CIO or charitable company)**."
   ]
  },
  {
   "cell_type": "code",
   "execution_count": null,
   "id": "859ace4c-2aa0-4e22-ab78-e73dec1e24dc",
   "metadata": {},
   "outputs": [],
   "source": [
    "# frequencies of merger events for individual transferors\n",
    "transferor_freqs = (\n",
    "    df['transferor_number']\n",
    "    .value_counts()\n",
    "    .value_counts()\n",
    "    .reset_index(name='freqs')\n",
    ")\n",
    "\n",
    "transferor_freqs = transferor_freqs.sort_values(by='count')\n",
    "\n",
    "transferor_freqs.columns = ['count_of_mergers', 'frequency']\n",
    "\n",
    "transferor_freqs = transferor_freqs.set_index('count_of_mergers', drop=True)\n",
    "\n",
    "dfi.export(\n",
    "    transferor_freqs,\n",
    "    '../charts/transferor_freqs.png',\n",
    "    table_conversion='selenium',\n",
    ")\n",
    "\n",
    "transferor_freqs"
   ]
  },
  {
   "cell_type": "markdown",
   "id": "448ef504-4a96-49e1-b979-4df0d2412475",
   "metadata": {},
   "source": [
    "Most registered transferors have only been in the position of the transferring charity once or twice.\n",
    "\n",
    "This makes sense, since the transferor charity typically ceases to exist as a separate entity after the merger.\n",
    "\n",
    "The outcomes of a merger, as stated by the [Guidance about the register of merged charities](https://www.gov.uk/government/publications/register-of-merged-charities/guidance-about-the-register-of-merged-charities#why-register):\n",
    "\n",
    "> - your charity has closed or will close as a result of transferring your assets or\n",
    "> - your charity has not closed only because it has permanent endowment which will not be transferred to the charity you are merging with"
   ]
  },
  {
   "cell_type": "markdown",
   "id": "4db9d85f-9f09-46f8-bd57-aa43606da8f4",
   "metadata": {},
   "source": [
    "The repeat transferors from the following figure might be falling into this second case."
   ]
  },
  {
   "cell_type": "code",
   "execution_count": null,
   "id": "902e6e45-0ad6-4a05-b626-28f635a1d0bb",
   "metadata": {},
   "outputs": [],
   "source": [
    "# most frequent transferors as indicated by charity number\n",
    "most_frequent_transferors = df.loc[\n",
    "    ~df['transferor_number'].apply(lambda x: str(x).isalpha()),\n",
    "    'transferor_number'\n",
    "].value_counts().to_frame()[:10]\n",
    "\n",
    "dfi.export(\n",
    "    most_frequent_transferors,\n",
    "    '../charts/most_frequent_transferors.png',\n",
    "    table_conversion='selenium',\n",
    ")\n",
    "\n",
    "most_frequent_transferors"
   ]
  },
  {
   "cell_type": "markdown",
   "id": "b3b36785-893d-4a48-8673-2bf233d72954",
   "metadata": {},
   "source": [
    "Let's look at charities 1053467 (75 mergers) and 1189059 (5 mergers)."
   ]
  },
  {
   "cell_type": "code",
   "execution_count": null,
   "id": "a4058c9a-848c-4165-9c07-c3071d025e41",
   "metadata": {},
   "outputs": [],
   "source": [
    "# mergers of most frequent transferor\n",
    "consolidation_merger = df.loc[\n",
    "    df['transferor'].str.contains('1053467'),\n",
    "    ['transferor', 'transferee']\n",
    "].head()\n",
    "\n",
    "consolidation_merger = consolidation_merger.set_index('transferor', drop=True)\n",
    "\n",
    "dfi.export(\n",
    "    consolidation_merger,\n",
    "    '../charts/consolidation_merger.png',\n",
    "    table_conversion='selenium',\n",
    ")\n",
    "\n",
    "consolidation_merger"
   ]
  },
  {
   "cell_type": "markdown",
   "id": "4118f79b-cf43-4325-9fb1-697813907eb2",
   "metadata": {},
   "source": [
    "*The County Durham and Darlington NHS Foundation Trust Charity* seems to be a case of a large consolidation.\n",
    "\n",
    "A number of department-specific NHS charities have merged into one entity. The aim could be to consolidate funds/reduce administrative overhead/streamline operations."
   ]
  },
  {
   "cell_type": "code",
   "execution_count": null,
   "id": "084d1383-2c4e-4050-a4c3-4f32c58fb350",
   "metadata": {},
   "outputs": [],
   "source": [
    "# most frequent transferors by charity name\n",
    "df['transferor'].value_counts()[:10].to_frame()"
   ]
  },
  {
   "cell_type": "code",
   "execution_count": null,
   "id": "a8bd17da-008d-4b54-ad0c-b33dc23e3782",
   "metadata": {},
   "outputs": [],
   "source": [
    "# mergers of second most frequent transferor\n",
    "reverse_merger = df.loc[\n",
    "    df['transferor_number'] == '1189059'\n",
    "].set_index('transferee', drop=True)['transferor'].to_frame()\n",
    "\n",
    "dfi.export(\n",
    "    reverse_merger,\n",
    "    '../charts/reverse_merger.png',\n",
    "    table_conversion='selenium',\n",
    ")\n",
    "\n",
    "reverse_merger"
   ]
  },
  {
   "cell_type": "markdown",
   "id": "84fc4478-75db-4cfb-960a-6334ccb6916c",
   "metadata": {},
   "source": [
    "*The Parochial Church Council of the Ecclesiastical Parish of The A453 Churches of South Nottinghamshire* seems to be an example of a \"merged\" charity splitting into separate entities.\n",
    "\n",
    "It is the most frequent transferor among registered charities, having been in that position 5 times.\n",
    "\n",
    "While this seems to be a reverse merger, it could also be the parent charity distributing some assets to children charities."
   ]
  },
  {
   "cell_type": "markdown",
   "id": "28f0a38c-12de-4788-9bdf-ba328b6c5bf0",
   "metadata": {
    "jp-MarkdownHeadingCollapsed": true
   },
   "source": [
    "#### Most frequent transferees"
   ]
  },
  {
   "cell_type": "code",
   "execution_count": null,
   "id": "5ef563d9-5e7e-4516-bd8d-031a641302a1",
   "metadata": {},
   "outputs": [],
   "source": [
    "# registered vs unregistered\n",
    "registered_vs_unregistered_transferees = df['transferee_number'].apply(\n",
    "    lambda x: 'exempt/unregistered/similar' if str(x).isalpha() else 'registered'\n",
    ").value_counts().to_frame()\n",
    "\n",
    "dfi.export(\n",
    "    registered_vs_unregistered_transferees,\n",
    "    '../charts/registered_vs_unregistered_transferees.png',\n",
    "    table_conversion='selenium',\n",
    ")\n",
    "\n",
    "registered_vs_unregistered_transferees"
   ]
  },
  {
   "cell_type": "markdown",
   "id": "2640f468-262f-48f5-a040-4b8277aec667",
   "metadata": {},
   "source": [
    "Unregistered charities are not frequently in the position of the transferee, which is what we'd expect, as these charities would probably be larger and more established. "
   ]
  },
  {
   "cell_type": "code",
   "execution_count": null,
   "id": "f0f569a1-7b94-4f32-8ec9-a2aaa07f190b",
   "metadata": {},
   "outputs": [],
   "source": [
    "# check that frequent transferees are all registered\n",
    "df['transferee_number'].value_counts()[:10]"
   ]
  },
  {
   "cell_type": "code",
   "execution_count": null,
   "id": "827cfbbb-ff7c-4186-9676-489ca8562b5a",
   "metadata": {},
   "outputs": [],
   "source": [
    "# most frequent transferees\n",
    "most_frequent_transferees = df['transferee'].value_counts()[:10].to_frame()\n",
    "\n",
    "dfi.export(\n",
    "    most_frequent_transferees,\n",
    "    '../charts/most_frequent_transferees.png',\n",
    "    table_conversion='selenium',\n",
    ")\n",
    "\n",
    "most_frequent_transferees"
   ]
  },
  {
   "cell_type": "markdown",
   "id": "2632b9b1-bf87-48d4-acc9-90f2494a5cc1",
   "metadata": {},
   "source": [
    "Without counting the outlier that merged 1200+ times, some transferees have gone through mergers >40 times."
   ]
  },
  {
   "cell_type": "code",
   "execution_count": null,
   "id": "6ba8fe75-e8c5-45ce-854d-3a16a69ef14e",
   "metadata": {},
   "outputs": [],
   "source": [
    "# frequencies of merger events for individual transferees\n",
    "transferee_freqs = (\n",
    "    df['transferee_number']\n",
    "    .value_counts()\n",
    "    .value_counts()\n",
    "    .reset_index(name='freqs')\n",
    ")\n",
    "\n",
    "transferee_freqs = transferee_freqs.sort_values(by='count')\n",
    "\n",
    "transferee_freqs.columns = ['count_of_mergers', 'frequency']\n",
    "\n",
    "transferee_freqs = transferee_freqs.set_index('count_of_mergers', drop=True)\n",
    "\n",
    "dfi.export(\n",
    "    transferee_freqs,\n",
    "    '../charts/transferee_freqs.png',\n",
    "    table_conversion='selenium',\n",
    ")\n",
    "\n",
    "transferee_freqs"
   ]
  },
  {
   "cell_type": "markdown",
   "id": "f4c9905f-31d8-4997-8dda-c2e288d693e9",
   "metadata": {},
   "source": [
    "Most transferees only go through a merger <5 times."
   ]
  },
  {
   "cell_type": "code",
   "execution_count": null,
   "id": "31e05d5a-78cc-4c00-a7bc-d2117edeae3f",
   "metadata": {},
   "outputs": [],
   "source": [
    "# mergers of most frequent transferee\n",
    "consolidation_merger_kingdom_hall_trust = df.loc[\n",
    "    df['transferee'].str.contains('Kingdom Hall Trust'),\n",
    "    ['transferor', 'transferee']\n",
    "].head()\n",
    "\n",
    "dfi.export(\n",
    "    consolidation_merger_kingdom_hall_trust,\n",
    "    '../charts/consolidation_merger_kingdom_hall_trust.png',\n",
    "    table_conversion='selenium',\n",
    ")\n",
    "\n",
    "consolidation_merger_kingdom_hall_trust = consolidation_merger_kingdom_hall_trust.set_index(\n",
    "    'transferor', drop=True\n",
    ")\n",
    "\n",
    "consolidation_merger_kingdom_hall_trust"
   ]
  },
  {
   "cell_type": "code",
   "execution_count": null,
   "id": "67d5c050-1b63-40cd-b035-9d8b3a9b1127",
   "metadata": {},
   "outputs": [],
   "source": [
    "# mergers of second most frequent transferee\n",
    "consolidation_merger_victim_support = df.loc[\n",
    "    df['transferee'].str.contains('Victim Support'),\n",
    "    ['transferor', 'transferee']\n",
    "].head()\n",
    "\n",
    "dfi.export(\n",
    "    consolidation_merger_victim_support,\n",
    "    '../charts/consolidation_merger_victim_support.png',\n",
    "    table_conversion='selenium',\n",
    ")\n",
    "\n",
    "consolidation_merger_victim_support = consolidation_merger_victim_support.set_index(\n",
    "    'transferor', drop=True\n",
    ")\n",
    "\n",
    "consolidation_merger_victim_support"
   ]
  },
  {
   "cell_type": "markdown",
   "id": "f5deac02-eadd-4789-96d7-eab58a4d8963",
   "metadata": {},
   "source": [
    "Both Kingdom Hall Trust and Victim Support (and other frequent transferees) seem to be consolidation mergers."
   ]
  },
  {
   "cell_type": "markdown",
   "id": "03da147b-1b7b-4066-8c50-54b3482a3f72",
   "metadata": {},
   "source": [
    "Summary from a [Brave](https://search.brave.com/search?q=The+Kingdom+Hall+Trust+&summary=1) search:\n",
    "\n",
    "> The Kingdom Hall Trust:\n",
    "> - Previously known as the London Company of Kingdom Witnesses, it was established on 28th July 1939 and changed its name to The Kingdom Hall Trust on 20th June 1994.\n",
    "> - It is a charity associated with Jehovah’s Witnesses, with the charity number GB-CHC-275946.\n",
    "> - The charity has undergone a significant merger in 2022, incorporating 1,279 Jehovah’s Witness congregations into the national charity. This is considered one of the largest charity mergers ever."
   ]
  },
  {
   "cell_type": "markdown",
   "id": "502e2cdc-7593-4e15-9a29-e2ce0286f54f",
   "metadata": {
    "jp-MarkdownHeadingCollapsed": true
   },
   "source": [
    "#### Count of mergers per year"
   ]
  },
  {
   "cell_type": "code",
   "execution_count": null,
   "id": "12a2471c-cc4a-47a7-a78f-6eb9af5a67c6",
   "metadata": {},
   "outputs": [],
   "source": [
    "# merger counts by year\n",
    "merger_counts = df.groupby(\n",
    "    df['date_transferred'].dt.year, as_index=True\n",
    ")['date_transferred'].count()\n",
    "\n",
    "merger_counts = merger_counts.to_frame('count').reset_index()\n",
    "\n",
    "merger_counts.T"
   ]
  },
  {
   "cell_type": "code",
   "execution_count": null,
   "id": "ae0c2eeb-3a8f-4f66-9588-b8e5c624e6ee",
   "metadata": {},
   "outputs": [],
   "source": [
    "# merger counts by year\n",
    "chart = (\n",
    "    alt.Chart(merger_counts)\n",
    "    .mark_bar()\n",
    "    .encode(\n",
    "        alt.Y('date_transferred:N', title=''),\n",
    "        alt.X('count:Q', title=''),\n",
    "        alt.Color('date_transferred:N', legend=None, scale=alt.Scale(scheme='dark2')),\n",
    "    )\n",
    "    .properties(\n",
    "        title='Mergers per year, 2008-2024',\n",
    "        width=600\n",
    "    )\n",
    ")\n",
    "\n",
    "chart.save('../charts/merger_counts.png')\n",
    "\n",
    "chart"
   ]
  },
  {
   "cell_type": "code",
   "execution_count": null,
   "id": "a5a05ad8-09e9-4522-88c2-5fb7984b9154",
   "metadata": {},
   "outputs": [],
   "source": [
    "# merger counts by year\n",
    "merger_counts_unique = df.drop_duplicates(subset=['transferee', 'date_transferred']).groupby(\n",
    "    df['date_transferred'].dt.year, as_index=True\n",
    ")['date_transferred'].count()\n",
    "\n",
    "merger_counts_unique = merger_counts_unique.to_frame('count').reset_index()\n",
    "\n",
    "merger_counts_unique.T"
   ]
  },
  {
   "cell_type": "code",
   "execution_count": null,
   "id": "d152e4ea-dcd9-42d4-a765-4e8233325d20",
   "metadata": {},
   "outputs": [],
   "source": [
    "# merger counts by year\n",
    "chart = (\n",
    "    alt.Chart(merger_counts_unique)\n",
    "    .mark_bar()\n",
    "    .encode(\n",
    "        alt.Y('date_transferred:N', title=''),\n",
    "        alt.X('count:Q', title=''),\n",
    "        alt.Color('date_transferred:N', legend=None, scale=alt.Scale(scheme='dark2')),\n",
    "    )\n",
    "    .properties(\n",
    "        title='Mergers per year (consolidation = 1 merger), 2008-2024',\n",
    "        width=600\n",
    "    )\n",
    ")\n",
    "\n",
    "chart.save('../charts/merger_counts_unique.png')\n",
    "\n",
    "chart"
   ]
  },
  {
   "cell_type": "markdown",
   "id": "7bc61499-18d7-4385-afdd-29a9bf274ad3",
   "metadata": {
    "jp-MarkdownHeadingCollapsed": true
   },
   "source": [
    "### Joining with `annual returns` data"
   ]
  },
  {
   "cell_type": "markdown",
   "id": "eeeb6829-18fa-4ca4-bd96-362ef4046f0c",
   "metadata": {
    "jp-MarkdownHeadingCollapsed": true
   },
   "source": [
    "#### Load data"
   ]
  },
  {
   "cell_type": "code",
   "execution_count": null,
   "id": "849c81df-3c0f-4719-b63d-7d3f4dd4b301",
   "metadata": {},
   "outputs": [],
   "source": [
    "# # load annual return data\n",
    "# with open(\n",
    "#     '../data/publicextract.charity_annual_return_history.json',\n",
    "#     'r',\n",
    "#     encoding='utf-8-sig',\n",
    "# ) as file:\n",
    "#     data = json.load(file)\n",
    "\n",
    "# df_ar = pd.DataFrame(data)\n",
    "\n",
    "# df_ar.to_parquet('../data/publicextract.charity_annual_return_history.parquet')"
   ]
  },
  {
   "cell_type": "code",
   "execution_count": null,
   "id": "0a61e99c-bc26-4c96-afe7-d7ec63fd4623",
   "metadata": {},
   "outputs": [],
   "source": [
    "df_ar = pd.read_parquet('../data/publicextract.charity_annual_return_history.parquet')"
   ]
  },
  {
   "cell_type": "markdown",
   "id": "025ae328-4a3f-47e9-b7c2-4409d77f4741",
   "metadata": {
    "jp-MarkdownHeadingCollapsed": true
   },
   "source": [
    "#### Cols"
   ]
  },
  {
   "cell_type": "code",
   "execution_count": null,
   "id": "23dda591-c969-413b-8fa3-ebe301605c11",
   "metadata": {},
   "outputs": [],
   "source": [
    "df_ar.head()"
   ]
  },
  {
   "cell_type": "code",
   "execution_count": null,
   "id": "deb854b7-8757-4756-9413-182894722fbc",
   "metadata": {},
   "outputs": [],
   "source": [
    "# select cols\n",
    "df_ar = df_ar[[\n",
    "    'registered_charity_number',\n",
    "    'fin_period_start_date',\n",
    "    'fin_period_end_date',\n",
    "    'total_gross_income',\n",
    "    'total_gross_expenditure',\n",
    "]]"
   ]
  },
  {
   "cell_type": "markdown",
   "id": "2a212030-f57f-49dd-afad-2d316891dbe0",
   "metadata": {
    "jp-MarkdownHeadingCollapsed": true
   },
   "source": [
    "#### `dtypes`"
   ]
  },
  {
   "cell_type": "code",
   "execution_count": null,
   "id": "4a24c412-92e1-4e2d-ae85-97c1ee4cf324",
   "metadata": {},
   "outputs": [],
   "source": [
    "df_ar.dtypes"
   ]
  },
  {
   "cell_type": "code",
   "execution_count": null,
   "id": "dff73f11-914e-45cc-b2ca-3e307254a892",
   "metadata": {},
   "outputs": [],
   "source": [
    "# convert date cols to datetime\n",
    "date_cols = [\n",
    "    'fin_period_start_date',\n",
    "    'fin_period_end_date',\n",
    "]\n",
    "\n",
    "df_ar[date_cols] = df_ar[date_cols].apply(pd.to_datetime)\n",
    "\n",
    "df_ar.head()"
   ]
  },
  {
   "cell_type": "code",
   "execution_count": null,
   "id": "0f781a09-e42e-48ba-9f4c-c26ad5ac464c",
   "metadata": {},
   "outputs": [],
   "source": [
    "df_ar.dtypes"
   ]
  },
  {
   "cell_type": "markdown",
   "id": "57503984-d78d-4c91-a605-855f8c59d6b8",
   "metadata": {
    "jp-MarkdownHeadingCollapsed": true
   },
   "source": [
    "#### Date cols"
   ]
  },
  {
   "cell_type": "code",
   "execution_count": null,
   "id": "0d8ae5c8-0050-479e-b2ac-0c9acd7448dc",
   "metadata": {},
   "outputs": [],
   "source": [
    "# extract year from date cols\n",
    "df_ar['fin_start_year'] = df_ar['fin_period_start_date'].dt.year\n",
    "df_ar['fin_end_year'] = df_ar['fin_period_end_date'].dt.year\n",
    "\n",
    "df_ar.head()"
   ]
  },
  {
   "cell_type": "markdown",
   "id": "84cf54fd-de01-4877-be90-c4befd577de3",
   "metadata": {
    "jp-MarkdownHeadingCollapsed": true
   },
   "source": [
    "#### Merge"
   ]
  },
  {
   "cell_type": "code",
   "execution_count": null,
   "id": "284f5f6e-94bf-413a-9c9f-6c18c6c5547b",
   "metadata": {},
   "outputs": [],
   "source": [
    "# extract merger years\n",
    "df['merger_year'] = df['date_transferred'].dt.year\n",
    "df['merger_year_next'] = df['merger_year'].apply(lambda x: x + 1)\n",
    "\n",
    "df.head()"
   ]
  },
  {
   "cell_type": "code",
   "execution_count": null,
   "id": "515eb02f-f395-47dc-a510-517ed1f9b1fd",
   "metadata": {},
   "outputs": [],
   "source": [
    "# convert charity number to string\n",
    "df_ar['registered_charity_number'] = df_ar['registered_charity_number'].apply(str).apply(str.strip)"
   ]
  },
  {
   "cell_type": "code",
   "execution_count": null,
   "id": "87381233-b34b-4f4c-9727-c091640b1906",
   "metadata": {},
   "outputs": [],
   "source": [
    "# drop cols\n",
    "df_ar = df_ar.drop(columns=[\n",
    "    'fin_period_start_date',\n",
    "    'fin_period_end_date',\n",
    "    'total_gross_expenditure',\n",
    "])"
   ]
  },
  {
   "cell_type": "code",
   "execution_count": null,
   "id": "dbabafde-e98f-4a3a-8a31-878042422cda",
   "metadata": {},
   "outputs": [],
   "source": [
    "# annual return of transferees\n",
    "df_merged_transferee = df.drop(\n",
    "    columns=['date_registered', 'registered-transfer']\n",
    ").merge(\n",
    "    df_ar,\n",
    "    left_on=['transferee_number', 'merger_year'],\n",
    "    right_on=['registered_charity_number', 'fin_start_year'],\n",
    "    how='left'\n",
    ").merge(\n",
    "    df_ar,\n",
    "    left_on=['transferee_number', 'merger_year_next'],\n",
    "    right_on=['registered_charity_number', 'fin_start_year'],\n",
    "    how='left',\n",
    "    suffixes=['_current', '_next']    \n",
    ")\n",
    "\n",
    "df_merged_transferee.head()"
   ]
  },
  {
   "cell_type": "code",
   "execution_count": null,
   "id": "65974d23-afb4-4127-85f2-d0bcc2377416",
   "metadata": {},
   "outputs": [],
   "source": [
    "# annual return of transferors\n",
    "df_merged_transferor = df.drop(\n",
    "    columns=['date_registered', 'registered-transfer']\n",
    ").merge(\n",
    "    df_ar,\n",
    "    left_on=['transferor_number', 'merger_year'],\n",
    "    right_on=['registered_charity_number', 'fin_start_year'],\n",
    "    how='left'\n",
    ").merge(\n",
    "    df_ar,\n",
    "    left_on=['transferor_number', 'merger_year_next'],\n",
    "    right_on=['registered_charity_number', 'fin_start_year'],\n",
    "    how='left',\n",
    "    suffixes=['_current', '_next']\n",
    ")\n",
    "\n",
    "df_merged_transferor.head()"
   ]
  },
  {
   "cell_type": "markdown",
   "id": "375cf432-cc00-4d4a-8799-ab74d8d2b95a",
   "metadata": {
    "jp-MarkdownHeadingCollapsed": true
   },
   "source": [
    "#### Effect"
   ]
  },
  {
   "cell_type": "code",
   "execution_count": null,
   "id": "c8ceceb1-1266-4bac-a8ad-b2c6dcd74caa",
   "metadata": {},
   "outputs": [],
   "source": [
    "# drop null income values\n",
    "df_merged_transferee = df_merged_transferee.dropna(\n",
    "    subset=['total_gross_income_current', 'total_gross_income_next'],\n",
    "    how='all'\n",
    ")"
   ]
  },
  {
   "cell_type": "code",
   "execution_count": null,
   "id": "bc6390f9-87b6-4b52-8f5a-1a8bbdb0dee5",
   "metadata": {},
   "outputs": [],
   "source": [
    "# fill empty incomes with 0\n",
    "df_merged_transferee[\n",
    "    ['total_gross_income_current', 'total_gross_income_next']\n",
    "] = df_merged_transferee[\n",
    "    ['total_gross_income_current', 'total_gross_income_next']\n",
    "].fillna(0)"
   ]
  },
  {
   "cell_type": "code",
   "execution_count": null,
   "id": "ff752afd-c8b0-4713-afc2-8939dc208f76",
   "metadata": {},
   "outputs": [],
   "source": [
    "# annual return change from year N to N+1\n",
    "df_merged_transferee['effect'] = (\n",
    "    (\n",
    "        df_merged_transferee['total_gross_income_next']\n",
    "        - df_merged_transferee['total_gross_income_current']\n",
    "    )\n",
    "    / df_merged_transferee['total_gross_income_current']\n",
    "    * 100\n",
    ")"
   ]
  },
  {
   "cell_type": "code",
   "execution_count": null,
   "id": "8c2257a5-a4d7-433e-afff-fcfd1e266b1a",
   "metadata": {},
   "outputs": [],
   "source": [
    "# replace incomes appearing or disappearing by +/-100\n",
    "df_merged_transferee['effect'] = df_merged_transferee['effect'].replace([-np.inf, np.inf], [-100, 100])"
   ]
  },
  {
   "cell_type": "code",
   "execution_count": null,
   "id": "822aaa63-829e-49f0-bdf8-05e599272395",
   "metadata": {},
   "outputs": [],
   "source": [
    "# drop null income values\n",
    "df_merged_transferor = df_merged_transferor.dropna(\n",
    "    subset=['total_gross_income_current', 'total_gross_income_next'],\n",
    "    how='all'\n",
    ")"
   ]
  },
  {
   "cell_type": "code",
   "execution_count": null,
   "id": "fdc8175e-fc78-485f-b08e-3db827322f0e",
   "metadata": {},
   "outputs": [],
   "source": [
    "# fill empty incomes with 0\n",
    "df_merged_transferor[\n",
    "    ['total_gross_income_current', 'total_gross_income_next']\n",
    "] = df_merged_transferor[\n",
    "    ['total_gross_income_current', 'total_gross_income_next']\n",
    "].fillna(0)"
   ]
  },
  {
   "cell_type": "code",
   "execution_count": null,
   "id": "254aca3a-740b-47d9-b6ee-c40d0c025fe9",
   "metadata": {},
   "outputs": [],
   "source": [
    "# annual return change from year N to N+1\n",
    "df_merged_transferor['effect'] = (\n",
    "    (\n",
    "        df_merged_transferor['total_gross_income_next']\n",
    "        - df_merged_transferor['total_gross_income_current']\n",
    "    )\n",
    "    / df_merged_transferor['total_gross_income_current']\n",
    "    * 100\n",
    ")"
   ]
  },
  {
   "cell_type": "code",
   "execution_count": null,
   "id": "07838e1a-26a9-491a-80a0-88a383949c1b",
   "metadata": {},
   "outputs": [],
   "source": [
    "# replace incomes appearing or disappearing by +/-100\n",
    "df_merged_transferor['effect'] = df_merged_transferor['effect'].replace([-np.inf, np.inf], [-100, 100])"
   ]
  },
  {
   "cell_type": "markdown",
   "id": "c6ac178a-541c-4111-9299-43d847505070",
   "metadata": {
    "jp-MarkdownHeadingCollapsed": true
   },
   "source": [
    "### Effect of mergers on annual return"
   ]
  },
  {
   "cell_type": "code",
   "execution_count": null,
   "id": "eccb2d9a-a5b0-4493-aa33-83caff124527",
   "metadata": {},
   "outputs": [],
   "source": [
    "# mergers with no income before merger and income after\n",
    "new_charities = df_merged_transferee.loc[\n",
    "    (\n",
    "        pd.isna(df_merged_transferee['total_gross_income_current'])\n",
    "        | (df_merged_transferee['total_gross_income_current'] == 0)\n",
    "    )\n",
    "    & (df_merged_transferee['total_gross_income_next'] > 0)\n",
    "]\n",
    "\n",
    "# count consolidations as 1 merger\n",
    "new_charities = new_charities.drop_duplicates(\n",
    "    subset=['transferee', 'date_transferred']\n",
    ")\n",
    "\n",
    "# calculate percentage\n",
    "new_charities = new_charities.shape[0] / df_merged_transferee.shape[0]\n",
    "\n",
    "print(f'{new_charities:.0%} of mergers result in the creation of new charities')"
   ]
  },
  {
   "cell_type": "markdown",
   "id": "0c210c44-b3eb-432b-b19c-98de40168cae",
   "metadata": {},
   "source": [
    "11% of mergers result in the creation of new charities.\n",
    "\n",
    "As indicated by the number of unregistered organisations or organisations with an annual return of 0 before merger, and >0 after merger."
   ]
  },
  {
   "cell_type": "code",
   "execution_count": null,
   "id": "abd310c6-6563-42c9-8119-f3b8cb923447",
   "metadata": {},
   "outputs": [],
   "source": [
    "# charities with an income before and after merger\n",
    "existing_charities = df_merged_transferee.loc[\n",
    "    ~(\n",
    "        pd.isna(df_merged_transferee['total_gross_income_current'])\n",
    "        | (df_merged_transferee['total_gross_income_current'] == 0)\n",
    "    )\n",
    "]"
   ]
  },
  {
   "cell_type": "code",
   "execution_count": null,
   "id": "7f83b582-032c-4af9-bfe4-97434b3e6436",
   "metadata": {},
   "outputs": [],
   "source": [
    "# frequent effect sizes\n",
    "existing_charities[['transferee', 'effect']].value_counts()[:10]"
   ]
  },
  {
   "cell_type": "code",
   "execution_count": null,
   "id": "70aa8ac2-df64-40fd-8011-46a24ce571af",
   "metadata": {},
   "outputs": [],
   "source": [
    "# count consolidations as 1 merger\n",
    "existing_charities = existing_charities[['transferee', 'date_transferred', 'effect']].drop_duplicates()\n",
    "\n",
    "existing_charities.head()"
   ]
  },
  {
   "cell_type": "code",
   "execution_count": null,
   "id": "32518b56-f98c-458b-b3b5-e5b0f122deee",
   "metadata": {},
   "outputs": [],
   "source": [
    "# effect of mergers on annual return\n",
    "chart = (\n",
    "    alt.Chart(existing_charities['effect'].dropna().apply(round).to_frame())\n",
    "    .mark_bar()\n",
    "    .encode(\n",
    "        alt.X('effect:Q').scale(domain=[-105, 105], clamp=True).title('effect (%)'),\n",
    "        alt.Y('count():Q').scale(type='log').title('count (log scale)'),\n",
    "    )\n",
    ").properties(\n",
    "    title='Effect of mergers on annual return of transferees'\n",
    ")\n",
    "\n",
    "chart.save('../charts/effect_transferees.png')\n",
    "\n",
    "chart"
   ]
  },
  {
   "cell_type": "markdown",
   "id": "56dfca49-ead7-433a-afc1-e63abcc1d8b2",
   "metadata": {},
   "source": [
    "After a merger, most transferee organisations either cease to exist or have a +/- 40% change to their annual return."
   ]
  },
  {
   "cell_type": "markdown",
   "id": "71543b10-df94-4442-bfdb-1089285d45d1",
   "metadata": {},
   "source": [
    "According to the data, most mergers (including consolidation mergers) are of the type:\n",
    "\n",
    "- the transferees do not declare an annual return, indicating either that they cease to exist within the financial period\n",
    "- the transferee have a +/- 40% change to their annual returns within the financial period that a merger happened in.\n",
    "\n",
    "The majority of transferees disappearing after a merger is suspicious and might indicate an issue in the analysis or a subsequent merger into a new structure within the financial period."
   ]
  },
  {
   "cell_type": "code",
   "execution_count": null,
   "id": "153bacc8-c403-4e41-b873-585e436bcc65",
   "metadata": {},
   "outputs": [],
   "source": [
    "# count consolidations as 1 merger\n",
    "df_merged_transferor[['transferor', 'date_transferred', 'effect']].value_counts(dropna=False)"
   ]
  },
  {
   "cell_type": "code",
   "execution_count": null,
   "id": "d3e87067-1a4f-4b89-b839-3d6986463ce5",
   "metadata": {},
   "outputs": [],
   "source": [
    "# effect of mergers on annual return\n",
    "chart = (\n",
    "    alt.Chart(df_merged_transferor['effect'].dropna().apply(round).to_frame())\n",
    "    .mark_bar()\n",
    "    .encode(\n",
    "        alt.X('effect:Q').title('effect (%)'),\n",
    "        alt.Y('count():Q').scale(type='log').title('count (log scale)')\n",
    "    )\n",
    ").properties(\n",
    "    title='Effect of mergers on annual return of transferors'\n",
    ")\n",
    "\n",
    "chart.save('../charts/effect_transferors.png')\n",
    "\n",
    "chart"
   ]
  },
  {
   "cell_type": "markdown",
   "id": "f54dd6ee-bca2-4045-936c-3ae8adfdaae9",
   "metadata": {},
   "source": [
    "For most transferors, their annual return either went to 0 or remained the same.\n",
    "\n",
    "This indicates that most transferors either merge into the transferee and cease to exist as an entity (effect -100%), or their merger is largely inconsequential in terms of annual return. However, some transferors declare their first annual return after the merger (effect +100%), which raises questions about the analysis, but a domain expert might be able to explain this. "
   ]
  },
  {
   "cell_type": "markdown",
   "id": "e1b5b06b-66cd-42b5-83ee-3940f48b0c12",
   "metadata": {
    "jp-MarkdownHeadingCollapsed": true
   },
   "source": [
    "## Trustees (draft)"
   ]
  },
  {
   "cell_type": "markdown",
   "id": "0ad14a2d-19d2-4215-abf0-cae22470535b",
   "metadata": {
    "jp-MarkdownHeadingCollapsed": true
   },
   "source": [
    "### Intro"
   ]
  },
  {
   "cell_type": "markdown",
   "id": "b37bda9d-5684-41d0-970d-ac13c061e4e1",
   "metadata": {
    "jp-MarkdownHeadingCollapsed": true
   },
   "source": [
    "### Cleaning `trustees` data"
   ]
  },
  {
   "cell_type": "markdown",
   "id": "6632dcb1-148c-4355-9dc6-30e55ea481a4",
   "metadata": {},
   "source": [
    "#### Load data"
   ]
  },
  {
   "cell_type": "code",
   "execution_count": null,
   "id": "67c7098d-6604-4121-8ef7-8d4209f9d313",
   "metadata": {},
   "outputs": [],
   "source": [
    "# # load trustee data\n",
    "# with open(\n",
    "#     '../data/publicextract.charity_trustee.json',\n",
    "#     'r',\n",
    "#     encoding='utf-8-sig',\n",
    "# ) as file:\n",
    "#     data = json.load(file)\n",
    "\n",
    "# df = pd.DataFrame(data)\n",
    "\n",
    "# df.to_parquet('../data/publicextract.charity_trustee.parquet')"
   ]
  },
  {
   "cell_type": "code",
   "execution_count": null,
   "id": "dce0e3ae-4daf-409f-aab5-3715f177430d",
   "metadata": {},
   "outputs": [],
   "source": [
    "df = pd.read_parquet('../data/publicextract.charity_trustee.parquet')"
   ]
  },
  {
   "cell_type": "markdown",
   "id": "d29decec-1b14-48d8-95c2-9ce4b780c288",
   "metadata": {},
   "source": [
    "#### Cols"
   ]
  },
  {
   "cell_type": "code",
   "execution_count": null,
   "id": "63e5c4f7-2bd2-44ec-9730-06a3a977af8f",
   "metadata": {},
   "outputs": [],
   "source": [
    "df.head()"
   ]
  },
  {
   "cell_type": "code",
   "execution_count": null,
   "id": "40a188ba-4b6c-41db-95a7-7cf2f762d0c3",
   "metadata": {},
   "outputs": [],
   "source": [
    "# drop cols\n",
    "df = df.drop(columns='date_of_extract')"
   ]
  },
  {
   "cell_type": "markdown",
   "id": "cf0c1325-f2d1-488d-811b-ac13234fa864",
   "metadata": {},
   "source": [
    "#### `dtypes`"
   ]
  },
  {
   "cell_type": "code",
   "execution_count": null,
   "id": "f0f69bf0-72cc-4d29-860b-b676d4307e58",
   "metadata": {},
   "outputs": [],
   "source": [
    "df.dtypes"
   ]
  },
  {
   "cell_type": "code",
   "execution_count": null,
   "id": "1f823627-d5af-48df-a305-addbdb5c07ea",
   "metadata": {},
   "outputs": [],
   "source": [
    "# convert date cols to datetime\n",
    "df['trustee_date_of_appointment'] = df['trustee_date_of_appointment'].apply(pd.to_datetime)"
   ]
  },
  {
   "cell_type": "code",
   "execution_count": null,
   "id": "bfec375a-7266-4dc9-b0f7-d00732b06041",
   "metadata": {},
   "outputs": [],
   "source": [
    "# convert str col to string\n",
    "df['trustee_name'] = df['trustee_name'].apply(str)"
   ]
  },
  {
   "cell_type": "code",
   "execution_count": null,
   "id": "e0f6578e-bf7f-4992-bb48-c8a30f4766f9",
   "metadata": {},
   "outputs": [],
   "source": [
    "df['individual_or_organisation'].unique()"
   ]
  },
  {
   "cell_type": "code",
   "execution_count": null,
   "id": "abd835dc-436a-4ce9-9d74-238e2c5ab659",
   "metadata": {},
   "outputs": [],
   "source": [
    "# convert str col to string\n",
    "df['individual_or_organisation'] = df['individual_or_organisation'].apply(str)"
   ]
  },
  {
   "cell_type": "code",
   "execution_count": null,
   "id": "f22fdfc6-be1b-4b6a-8d57-d2c8ebd65cc1",
   "metadata": {},
   "outputs": [],
   "source": [
    "df.dtypes"
   ]
  },
  {
   "cell_type": "code",
   "execution_count": null,
   "id": "5f9171f4-e9bb-4ac9-8631-737aa59ba7e8",
   "metadata": {},
   "outputs": [],
   "source": [
    "df['trustee_id'].value_counts()[:15]"
   ]
  },
  {
   "cell_type": "code",
   "execution_count": null,
   "id": "8adca8d1-badf-441a-85e9-66b0e54ac2cb",
   "metadata": {},
   "outputs": [],
   "source": [
    "repeat_trustees_ids = df['trustee_id'].value_counts()[:15].index\n",
    "\n",
    "df.loc[\n",
    "    df['trustee_id'].isin(repeat_trustees_ids),\n",
    "    ['trustee_id', 'trustee_name', 'individual_or_organisation']\n",
    "].value_counts(sort=False)"
   ]
  }
 ],
 "metadata": {
  "jupytext": {
   "formats": "ipynb,py:percent"
  },
  "kernelspec": {
   "display_name": "Python 3 (ipykernel)",
   "language": "python",
   "name": "python3"
  },
  "language_info": {
   "codemirror_mode": {
    "name": "ipython",
    "version": 3
   },
   "file_extension": ".py",
   "mimetype": "text/x-python",
   "name": "python",
   "nbconvert_exporter": "python",
   "pygments_lexer": "ipython3",
   "version": "3.11.9"
  }
 },
 "nbformat": 4,
 "nbformat_minor": 5
}
